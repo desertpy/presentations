{
 "cells": [
  {
   "cell_type": "markdown",
   "metadata": {
    "slideshow": {
     "slide_type": "slide"
    }
   },
   "source": [
    "# Zappa\n",
    "## Creating \"serverless\" Python web services on AWS\n",
    "\n",
    "* Sarah Braden\n",
    "* Twitter: @ifmoonwascookie\n",
    "* Presented at: DesertPy Meetup 24 July 2018"
   ]
  },
  {
   "cell_type": "markdown",
   "metadata": {
    "slideshow": {
     "slide_type": "slide"
    }
   },
   "source": [
    "How many people create APIs?"
   ]
  },
  {
   "cell_type": "markdown",
   "metadata": {
    "slideshow": {
     "slide_type": "slide"
    }
   },
   "source": [
    "How many people here use Flask/Django/Pyramid?"
   ]
  },
  {
   "cell_type": "markdown",
   "metadata": {
    "slideshow": {
     "slide_type": "slide"
    }
   },
   "source": [
    "How many people use AWS?"
   ]
  },
  {
   "cell_type": "markdown",
   "metadata": {
    "slideshow": {
     "slide_type": "slide"
    }
   },
   "source": [
    "## Zappa - what is it?\n",
    "Python library that helps create \"Serverless\" Python Web Services using AWS Lambda and API Gateway."
   ]
  },
  {
   "cell_type": "markdown",
   "metadata": {
    "slideshow": {
     "slide_type": "slide"
    }
   },
   "source": [
    "## What is \"Serverless\"? \n",
    "\n",
    "* There still is a server - just no \"permanent infrastructure\"\n",
    "* With Zappa, each request is given its own virtual HTTP \"server\" by Amazon API Gateway\n",
    "* AWS handles the horizontal scaling automatically \n",
    "* only pay for the milliseconds of server time you use"
   ]
  },
  {
   "cell_type": "markdown",
   "metadata": {
    "slideshow": {
     "slide_type": "slide"
    }
   },
   "source": [
    "## How does it work?\n",
    "1. Each request calls your application from a memory cache in AWS Lambda\n",
    "2. Return the response via Python's Web Server Gateway Interface (WSGI)\n",
    "3. After your app returns, the \"server\" dies."
   ]
  },
  {
   "cell_type": "markdown",
   "metadata": {
    "slideshow": {
     "slide_type": "slide"
    }
   },
   "source": [
    "## Getting Started - AWS Stuff\n",
    "\n",
    "Do not pass go unless:\n",
    "1. you have a valid AWS account\n",
    "2. your AWS credentials file is properly installed"
   ]
  },
  {
   "cell_type": "markdown",
   "metadata": {
    "slideshow": {
     "slide_type": "slide"
    }
   },
   "source": [
    "## Getting Started - Installation\n",
    "```\n",
    "$ mkvirtualenv zappa-env\n",
    "$ pip install zappa\n",
    "```"
   ]
  },
  {
   "cell_type": "markdown",
   "metadata": {
    "slideshow": {
     "slide_type": "slide"
    }
   },
   "source": [
    "## Getting Started - Configuration\n",
    "\n",
    "Make a configuration file called ```zappa_settings.json``` in your project directory using the command:\n",
    "\n",
    "```$ zappa init```\n",
    "\n",
    "This command automatically detects your application type (Flask/Django) defines your basic deployment settings."
   ]
  },
  {
   "cell_type": "markdown",
   "metadata": {
    "slideshow": {
     "slide_type": "slide"
    }
   },
   "source": [
    "## Getting Started - Configuration\n",
    "```\n",
    "{\n",
    "    \"dev\": {\n",
    "        \"app_function\": \"my_app.app\",\n",
    "        \"aws_region\": \"us-west-1\",\n",
    "        \"profile_name\": \"sarah-aws\",\n",
    "        \"project_name\": \"my-zappa-project\",    \n",
    "        \"s3_bucket\": \"zappa-fsdf980\",\n",
    "        \"runtime\": \"python3.6\",\n",
    "        \"manage_roles\": true        \n",
    "    }\n",
    "}\n",
    "```"
   ]
  },
  {
   "cell_type": "markdown",
   "metadata": {
    "slideshow": {
     "slide_type": "notes"
    }
   },
   "source": [
    "you can have as many stages as you like: dev, staging, and production."
   ]
  },
  {
   "cell_type": "markdown",
   "metadata": {
    "slideshow": {
     "slide_type": "slide"
    }
   },
   "source": [
    "## What does a Flask app look like?"
   ]
  },
  {
   "cell_type": "code",
   "execution_count": null,
   "metadata": {
    "slideshow": {
     "slide_type": "slide"
    }
   },
   "outputs": [],
   "source": [
    "# my_app.py\n",
    "\n",
    "from my_stuff import run_model, get_wav_from_s3\n",
    "from flask import Flask, jsonify\n",
    "\n",
    "app = Flask(__name__)\n",
    "\n",
    "@app.route('/wavs/<string:wav_filename>')\n",
    "def do_things(wav_filename=None):\n",
    "    \n",
    "    get_wav_from_s3(wav_filename)\n",
    "    \n",
    "    response = jsonify(\n",
    "        wavfile = wav_filename,\n",
    "        prediction = run_model('/tmp/' + wav_filename),\n",
    "    )\n",
    "    response.status_code = 200\n",
    "    \n",
    "    return response \n",
    "\n",
    "if __name__ == '__main__':\n",
    "    app.run()"
   ]
  },
  {
   "cell_type": "markdown",
   "metadata": {
    "slideshow": {
     "slide_type": "slide"
    }
   },
   "source": [
    "## Deploy time!\n",
    "\n",
    "```\n",
    "$ zappa deploy dev\n",
    "Deploying..\n",
    "Your application is now live at: https://7k6anj0k99.execute-api.us-east-1.amazonaws.com/dev\n",
    "```"
   ]
  },
  {
   "cell_type": "markdown",
   "metadata": {
    "slideshow": {
     "slide_type": "slide"
    }
   },
   "source": [
    "## What just happened?\n",
    "* automatically package up your application and local virtual environment into a Lambda-compatible archive\n",
    "* replace any dependencies with versions precompiled for Lambda\n",
    "* set up the function handler and necessary WSGI Middleware\n",
    "* upload the archive to S3\n",
    "* create and manage the necessary Amazon IAM policies and roles"
   ]
  },
  {
   "cell_type": "markdown",
   "metadata": {
    "slideshow": {
     "slide_type": "slide"
    }
   },
   "source": [
    "## What just happened?\n",
    "* register it as a new Lambda function\n",
    "* create a new API Gateway resource\n",
    "* create WSGI-compatible routes for it\n",
    "* link it to the new Lambda function\n",
    "* finally delete the archive from your S3 bucket"
   ]
  },
  {
   "cell_type": "markdown",
   "metadata": {
    "slideshow": {
     "slide_type": "slide"
    }
   },
   "source": [
    "## Other useful Zappa commands\n",
    "\n",
    "```$ zappa update dev```\n",
    "\n",
    "Upload new Python code and doesn't change anything else.\n",
    "\n",
    "```$ zappa undeploy dev```\n",
    "\n",
    "Remove the API Gateway and Lambda function.\n",
    "\n",
    "```$ zappa package dev```\n",
    "\n",
    "Build the application package without actually uploading and registering it as a Lambda function.\n"
   ]
  },
  {
   "cell_type": "markdown",
   "metadata": {
    "slideshow": {
     "slide_type": "slide"
    }
   },
   "source": [
    "## IAM role gotchas"
   ]
  },
  {
   "cell_type": "code",
   "execution_count": null,
   "metadata": {
    "slideshow": {
     "slide_type": "fragment"
    }
   },
   "outputs": [],
   "source": [
    "{\n",
    "    \"dev\": {\n",
    "        \"app_function\": \"my_app.app\",\n",
    "        \"aws_region\": \"us-west-1\",\n",
    "        \"profile_name\": \"sarah-aws\",\n",
    "        \"project_name\": \"my-zappa-project\",    \n",
    "        \"s3_bucket\": \"zappa-fsdf980\",\n",
    "        \"runtime\": \"python3.6\",\n",
    "        \"manage_roles\": true        \n",
    "    }\n",
    "}\n"
   ]
  },
  {
   "cell_type": "code",
   "execution_count": null,
   "metadata": {
    "slideshow": {
     "slide_type": "slide"
    }
   },
   "outputs": [],
   "source": [
    "{\n",
    "    \"dev\": {\n",
    "        \"app_function\": \"my_app.app\",\n",
    "        \"aws_region\": \"us-west-1\",\n",
    "        \"profile_name\": \"sarah-aws\",\n",
    "        \"project_name\": \"my-zappa-project\",    \n",
    "        \"s3_bucket\": \"zappa-fsdf980\",\n",
    "        \"runtime\": \"python3.6\",\n",
    "        \"manage_roles\": false,\n",
    "        \"role_name\": \"dev_lambda_role\"\n",
    "    }\n",
    "}"
   ]
  },
  {
   "cell_type": "markdown",
   "metadata": {
    "slideshow": {
     "slide_type": "slide"
    }
   },
   "source": [
    "## Trust Policy"
   ]
  },
  {
   "cell_type": "code",
   "execution_count": null,
   "metadata": {
    "slideshow": {
     "slide_type": "fragment"
    }
   },
   "outputs": [],
   "source": [
    "{\n",
    "  \"Version\": \"2012-10-17\",\n",
    "  \"Statement\": [\n",
    "    {\n",
    "      \"Effect\": \"Allow\",\n",
    "      \"Principal\": {\n",
    "        \"Service\": [\n",
    "            \"lambda.amazonaws.com\",\n",
    "            \"apigateway.amazonaws.com\",\n",
    "            \"events.amazonaws.com\"\n",
    "        ]\n",
    "      },\n",
    "      \"Action\": \"sts:AssumeRole\"\n",
    "    }\n",
    "  ]\n",
    "}"
   ]
  },
  {
   "cell_type": "markdown",
   "metadata": {
    "slideshow": {
     "slide_type": "notes"
    }
   },
   "source": [
    "// Name of Zappa execution role. Default <project_name>-<env>-ZappaExecutionRole. To use a different, pre-existing policy, you must also set manage_roles to false."
   ]
  },
  {
   "cell_type": "markdown",
   "metadata": {
    "slideshow": {
     "slide_type": "notes"
    }
   },
   "source": [
    "\"slim_handler\": true,  // Useful if project >50M. Set true to just upload a small handler to Lambda and load actual project from S3 at runtime. Default false."
   ]
  }
 ],
 "metadata": {
  "celltoolbar": "Slideshow",
  "kernelspec": {
   "display_name": "Python 3",
   "language": "python",
   "name": "python3"
  },
  "language_info": {
   "codemirror_mode": {
    "name": "ipython",
    "version": 3
   },
   "file_extension": ".py",
   "mimetype": "text/x-python",
   "name": "python",
   "nbconvert_exporter": "python",
   "pygments_lexer": "ipython3",
   "version": "3.6.5"
  }
 },
 "nbformat": 4,
 "nbformat_minor": 2
}
