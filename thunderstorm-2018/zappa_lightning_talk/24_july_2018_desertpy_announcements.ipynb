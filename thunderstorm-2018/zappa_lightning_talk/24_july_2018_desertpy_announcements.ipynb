{
 "cells": [
  {
   "cell_type": "markdown",
   "metadata": {
    "slideshow": {
     "slide_type": "slide"
    }
   },
   "source": [
    "### Announcments\n",
    "\n",
    "#### DesertPy Saturday Morning Open Hack\n",
    "* August 11th, 2018 at 9am at Godaddy Tempe\n",
    "* Info: Meetup.com page (must rsvp)\n",
    "\n",
    "#### Next DesertPy Meetup\n",
    "* Tuesday, August 28th, 2018 at the UAT Campus \n",
    "* Info: Meetup.com page (need a speaker)"
   ]
  },
  {
   "cell_type": "markdown",
   "metadata": {
    "slideshow": {
     "slide_type": "slide"
    }
   },
   "source": [
    "### Announcements\n",
    "\n",
    "#### Desert Code Camp\n",
    "* Saturday, October 6th, 2018 at the Chandler-Gilbert Community College Pecos Campus\n",
    "* Info: oct2018.desertcodecamp.com"
   ]
  },
  {
   "cell_type": "markdown",
   "metadata": {
    "slideshow": {
     "slide_type": "slide"
    }
   },
   "source": [
    "### Today's Thunderstorm\n",
    "\n",
    "• Sarah will talk about the Zappa library (\"serverless\" Python web services on AWS)\n",
    "\n",
    "• Gary will talk about Continuous Integration in GitHub using Circle CI\n",
    "\n",
    "• Trevor will talk about the best rejected PEPs\n",
    "\n",
    "• Marcus will talk about UMAP (Uniform Manifold Approximation and Projection) for dimension reduction"
   ]
  }
 ],
 "metadata": {
  "celltoolbar": "Slideshow",
  "kernelspec": {
   "display_name": "Python 3",
   "language": "python",
   "name": "python3"
  },
  "language_info": {
   "codemirror_mode": {
    "name": "ipython",
    "version": 3
   },
   "file_extension": ".py",
   "mimetype": "text/x-python",
   "name": "python",
   "nbconvert_exporter": "python",
   "pygments_lexer": "ipython3",
   "version": "3.6.5"
  }
 },
 "nbformat": 4,
 "nbformat_minor": 2
}
