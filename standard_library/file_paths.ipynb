{
 "cells": [
  {
   "cell_type": "markdown",
   "metadata": {},
   "source": [
    "# Pathlib \n",
    "The pathlib module was introduced in Python 3.4\n",
    "> Credit: [Geir Arne Hjelle](https://realpython.com/team/gahjelle/) @[RealPython.com](https://realpython.com/python-pathlib/)\n",
    "\n",
    "Working with files and interacting with the file system are important for many different reasons. \n",
    "\n",
    "The simplest cases may involve only reading or writing files, but sometimes more complex tasks are at hand. \n",
    "- Maybe you need to list all files in a directory of a given type, \n",
    "- find the parent directory of a given file, or \n",
    "- create a unique file name that does not already exist.\n",
    "\n",
    "Traditionally, Python has represented file paths using regular text strings. With support from the ```os.path``` standard library, this has been adequate although a bit cumbersome. However, since paths are not strings, important functionality is spread all around the standard library, including libraries like os, glob, and shutil. \n",
    "\n",
    "The following example needs three import statements just to move all text files to an archive directory:"
   ]
  },
  {
   "cell_type": "code",
   "execution_count": 179,
   "metadata": {},
   "outputs": [],
   "source": [
    "import glob\n",
    "import os\n",
    "import shutil\n",
    "\n",
    "for file_name in glob.glob('*.txt'):\n",
    "    new_path = os.path.join('archive', file_name)\n",
    "    shutil.move(file_name, new_path)"
   ]
  },
  {
   "cell_type": "markdown",
   "metadata": {},
   "source": [
    "**Iterate over files in a directory**"
   ]
  },
  {
   "cell_type": "code",
   "execution_count": 165,
   "metadata": {},
   "outputs": [
    {
     "name": "stdout",
     "output_type": "stream",
     "text": [
      "/Users/ratchet/Projects/desertpy\n"
     ]
    },
    {
     "data": {
      "text/plain": [
       "[PosixPath('/Users/ratchet/Projects/desertpy/archive'),\n",
       " PosixPath('/Users/ratchet/Projects/desertpy/python_basics_stdlib.ipynb'),\n",
       " PosixPath('/Users/ratchet/Projects/desertpy/file_paths.ipynb'),\n",
       " PosixPath('/Users/ratchet/Projects/desertpy/python_basics_stdlib.slides.html'),\n",
       " PosixPath('/Users/ratchet/Projects/desertpy/string_formatting.ipynb'),\n",
       " PosixPath('/Users/ratchet/Projects/desertpy/python-string-formatting-flowchart.4ecf0148fd87.png'),\n",
       " PosixPath('/Users/ratchet/Projects/desertpy/README.md'),\n",
       " PosixPath('/Users/ratchet/Projects/desertpy/dataclasses.ipynb'),\n",
       " PosixPath('/Users/ratchet/Projects/desertpy/haversine_formula_150.fb2b87d122a4.png'),\n",
       " PosixPath('/Users/ratchet/Projects/desertpy/.ipynb_checkpoints'),\n",
       " PosixPath('/Users/ratchet/Projects/desertpy/data'),\n",
       " PosixPath('/Users/ratchet/Projects/desertpy/Logging'),\n",
       " PosixPath('/Users/ratchet/Projects/desertpy/survey_results.ipynb')]"
      ]
     },
     "execution_count": 165,
     "metadata": {},
     "output_type": "execute_result"
    }
   ],
   "source": [
    "p = pathlib.Path.cwd()\n",
    "print(p)\n",
    "list(p.iterdir())"
   ]
  },
  {
   "cell_type": "markdown",
   "metadata": {},
   "source": [
    "**Find directories in a file path**"
   ]
  },
  {
   "cell_type": "code",
   "execution_count": 132,
   "metadata": {},
   "outputs": [
    {
     "data": {
      "text/plain": [
       "[PosixPath('/Users/ratchet/Projects/desertpy/archive'),\n",
       " PosixPath('/Users/ratchet/Projects/desertpy/.ipynb_checkpoints'),\n",
       " PosixPath('/Users/ratchet/Projects/desertpy/data'),\n",
       " PosixPath('/Users/ratchet/Projects/desertpy/Logging')]"
      ]
     },
     "execution_count": 132,
     "metadata": {},
     "output_type": "execute_result"
    }
   ],
   "source": [
    "p = pathlib.Path.cwd()\n",
    "[x for x in p.iterdir() if x.is_dir()]"
   ]
  },
  {
   "cell_type": "code",
   "execution_count": 186,
   "metadata": {},
   "outputs": [
    {
     "name": "stdout",
     "output_type": "stream",
     "text": [
      "<class 'pathlib.PosixPath'>\n"
     ]
    },
    {
     "data": {
      "text/plain": [
       "[PosixPath('/Users/ratchet/Projects/desertpy/python_basics_stdlib.ipynb'),\n",
       " PosixPath('/Users/ratchet/Projects/desertpy/file_paths.ipynb'),\n",
       " PosixPath('/Users/ratchet/Projects/desertpy/string_formatting.ipynb'),\n",
       " PosixPath('/Users/ratchet/Projects/desertpy/dataclasses.ipynb'),\n",
       " PosixPath('/Users/ratchet/Projects/desertpy/survey_results.ipynb')]"
      ]
     },
     "execution_count": 186,
     "metadata": {},
     "output_type": "execute_result"
    }
   ],
   "source": [
    "p = pathlib.Path.cwd()\n",
    "print(type(p))\n",
    "list(p.glob(\"*.ipynb\"))"
   ]
  },
  {
   "cell_type": "markdown",
   "metadata": {},
   "source": [
    "***\n",
    "# Creating Paths\n",
    "\n",
    "All you really need to know about is the ```pathlib.Path``` class. \n",
    "\n",
    "There are a few different ways of creating a path. First of all, there are classmethods like ```.cwd()``` (Current Working Directory) and ```.home()``` (your user’s home directory):"
   ]
  },
  {
   "cell_type": "code",
   "execution_count": 134,
   "metadata": {},
   "outputs": [
    {
     "data": {
      "text/plain": [
       "PosixPath('/Users/ratchet/Projects/desertpy/data')"
      ]
     },
     "execution_count": 134,
     "metadata": {},
     "output_type": "execute_result"
    }
   ],
   "source": [
    "p = pathlib.Path.cwd()\n",
    "data_path = p / \"data/\"\n",
    "data_path"
   ]
  },
  {
   "cell_type": "code",
   "execution_count": 135,
   "metadata": {},
   "outputs": [
    {
     "data": {
      "text/plain": [
       "PosixPath('Projects/desertpy/file_paths.ipynb/file.txt')"
      ]
     },
     "execution_count": 135,
     "metadata": {},
     "output_type": "execute_result"
    }
   ],
   "source": [
    "# A path can also be explicitly created from its string representation\n",
    "pathlib.Path(r'Projects/desertpy/file_paths.ipynb/file.txt')"
   ]
  },
  {
   "cell_type": "code",
   "execution_count": 136,
   "metadata": {},
   "outputs": [
    {
     "data": {
      "text/plain": [
       "PosixPath('/Users/ratchet/Projects/desertpy/test.py')"
      ]
     },
     "execution_count": 136,
     "metadata": {},
     "output_type": "execute_result"
    }
   ],
   "source": [
    "# A third way to construct a path is to join the parts of the path using the special operator '/'\n",
    "pathlib.Path.home() / 'Projects' / 'desertpy' / 'test.py'"
   ]
  },
  {
   "cell_type": "markdown",
   "metadata": {},
   "source": [
    "The / can join several paths or a mix of paths and strings (as above) as long as there is at least one Path object. If you do not like the special / notation, you can do the same thing with the .joinpath() method:"
   ]
  },
  {
   "cell_type": "code",
   "execution_count": 137,
   "metadata": {},
   "outputs": [
    {
     "data": {
      "text/plain": [
       "PosixPath('/Users/ratchet/Projects/desertpy/test.py')"
      ]
     },
     "execution_count": 137,
     "metadata": {},
     "output_type": "execute_result"
    }
   ],
   "source": [
    "pathlib.Path.home().joinpath('Projects', 'desertpy', 'test.py')"
   ]
  },
  {
   "cell_type": "markdown",
   "metadata": {},
   "source": [
    "***\n",
    "# Checking for Existence"
   ]
  },
  {
   "cell_type": "code",
   "execution_count": 138,
   "metadata": {},
   "outputs": [
    {
     "data": {
      "text/plain": [
       "[PosixPath('/Users/ratchet/Projects/desertpy/data/iris.csv'),\n",
       " PosixPath('/Users/ratchet/Projects/desertpy/data/.ipynb_checkpoints')]"
      ]
     },
     "execution_count": 138,
     "metadata": {},
     "output_type": "execute_result"
    }
   ],
   "source": [
    "list(data_path.iterdir())"
   ]
  },
  {
   "cell_type": "code",
   "execution_count": 143,
   "metadata": {},
   "outputs": [
    {
     "name": "stdout",
     "output_type": "stream",
     "text": [
      "/Users/ratchet/Projects/desertpy/data/iris.csv\n",
      "<class 'pathlib.PosixPath'>\n",
      "True\n"
     ]
    },
    {
     "data": {
      "text/plain": [
       "True"
      ]
     },
     "execution_count": 143,
     "metadata": {},
     "output_type": "execute_result"
    }
   ],
   "source": [
    "sample_data = data_path / \"iris.csv\"\n",
    "print(sample_data)\n",
    "print(type(sample_data))\n",
    "print(sample_data.is_file())\n",
    "sample_data.exists()"
   ]
  },
  {
   "cell_type": "markdown",
   "metadata": {},
   "source": [
    "***\n",
    "# Reading and Writing Files\n",
    "\n",
    "Traditionally, the way to read or write a file in Python has been to use the built-in open() function. This is still true as the open() function can use Path objects directly. The following example finds all headers in a Markdown file and prints them:"
   ]
  },
  {
   "cell_type": "code",
   "execution_count": 187,
   "metadata": {},
   "outputs": [
    {
     "name": "stdout",
     "output_type": "stream",
     "text": [
      "# Hello DesertPy!\n"
     ]
    }
   ],
   "source": [
    "path = pathlib.Path.cwd() / 'README.md'\n",
    "with path.open(mode='r') as f:\n",
    "    headers = [line.strip() for line in f if line.startswith('#')]\n",
    "\n",
    "print('\\n'.join(headers))"
   ]
  },
  {
   "cell_type": "markdown",
   "metadata": {},
   "source": [
    "In fact, Path.open() is calling the built-in open() behind the scenes. Which option you use is mainly a matter of taste.\n",
    "\n",
    "For simple reading and writing of files, there are a couple of convenience methods in the pathlib library:\n",
    "- .read_text(): open the path in text mode and return the contents as a string.\n",
    "- .read_bytes(): open the path in binary/bytes mode and return the contents as a bytestring.\n",
    "- .write_text(): open the path and write string data to it.\n",
    "- .write_bytes(): open the path in binary/bytes mode and write data to it.\n",
    "\n",
    "Each of these methods handles the opening and closing of the file, making them trivial to use, for instance:"
   ]
  },
  {
   "cell_type": "code",
   "execution_count": 145,
   "metadata": {},
   "outputs": [
    {
     "data": {
      "text/plain": [
       "'# Hello DesertPy!'"
      ]
     },
     "execution_count": 145,
     "metadata": {},
     "output_type": "execute_result"
    }
   ],
   "source": [
    "path = pathlib.Path.cwd() / 'README.md'\n",
    "path.read_text()"
   ]
  },
  {
   "cell_type": "code",
   "execution_count": 147,
   "metadata": {},
   "outputs": [
    {
     "data": {
      "text/plain": [
       "'# Hello DesertPy!'"
      ]
     },
     "execution_count": 147,
     "metadata": {},
     "output_type": "execute_result"
    }
   ],
   "source": [
    "# or...\n",
    "pathlib.Path('README.md').read_text()"
   ]
  },
  {
   "cell_type": "code",
   "execution_count": 148,
   "metadata": {},
   "outputs": [
    {
     "data": {
      "text/plain": [
       "'# Hel'"
      ]
     },
     "execution_count": 148,
     "metadata": {},
     "output_type": "execute_result"
    }
   ],
   "source": [
    "# or slice it...\n",
    "pathlib.Path('README.md').read_text()[:5]"
   ]
  },
  {
   "cell_type": "markdown",
   "metadata": {},
   "source": [
    "***\n",
    "# Picking Out Components of a Path\n",
    "The different parts of a path are conveniently available as properties. Basic examples include:\n",
    "\n",
    ".name: the file name without any directory\n",
    ".parent: the directory containing the file, or the parent directory if path is a directory\n",
    ".stem: the file name without the suffix\n",
    ".suffix: the file extension\n",
    ".anchor: the part of the path before the directories\n",
    "Here are these properties in action:"
   ]
  },
  {
   "cell_type": "code",
   "execution_count": 103,
   "metadata": {},
   "outputs": [
    {
     "data": {
      "text/plain": [
       "PosixPath('/Users/ratchet/Projects/desertpy/README.md')"
      ]
     },
     "execution_count": 103,
     "metadata": {},
     "output_type": "execute_result"
    }
   ],
   "source": [
    "path"
   ]
  },
  {
   "cell_type": "code",
   "execution_count": 104,
   "metadata": {},
   "outputs": [
    {
     "data": {
      "text/plain": [
       "'README.md'"
      ]
     },
     "execution_count": 104,
     "metadata": {},
     "output_type": "execute_result"
    }
   ],
   "source": [
    "path.name"
   ]
  },
  {
   "cell_type": "code",
   "execution_count": 105,
   "metadata": {},
   "outputs": [
    {
     "data": {
      "text/plain": [
       "'README'"
      ]
     },
     "execution_count": 105,
     "metadata": {},
     "output_type": "execute_result"
    }
   ],
   "source": [
    "path.stem # os.path.splitext(os.path.basename('/Users/ratchet/Projects/desertpy/README.md'))[0]"
   ]
  },
  {
   "cell_type": "code",
   "execution_count": 106,
   "metadata": {},
   "outputs": [
    {
     "data": {
      "text/plain": [
       "'.md'"
      ]
     },
     "execution_count": 106,
     "metadata": {},
     "output_type": "execute_result"
    }
   ],
   "source": [
    "path.suffix # filename, file_extension = os.path.splitext('/Users/ratchet/Projects/desertpy/README.md')"
   ]
  },
  {
   "cell_type": "code",
   "execution_count": 107,
   "metadata": {},
   "outputs": [
    {
     "data": {
      "text/plain": [
       "PosixPath('/Users/ratchet/Projects/desertpy')"
      ]
     },
     "execution_count": 107,
     "metadata": {},
     "output_type": "execute_result"
    }
   ],
   "source": [
    "path.parent # os.path.abspath(os.path.join('/Users/ratchet/Projects/desertpy/README.md', os.pardir))"
   ]
  },
  {
   "cell_type": "code",
   "execution_count": 108,
   "metadata": {},
   "outputs": [
    {
     "data": {
      "text/plain": [
       "PosixPath('/Users/ratchet/Projects')"
      ]
     },
     "execution_count": 108,
     "metadata": {},
     "output_type": "execute_result"
    }
   ],
   "source": [
    "path.parent.parent"
   ]
  },
  {
   "cell_type": "code",
   "execution_count": 109,
   "metadata": {},
   "outputs": [
    {
     "data": {
      "text/plain": [
       "'/'"
      ]
     },
     "execution_count": 109,
     "metadata": {},
     "output_type": "execute_result"
    }
   ],
   "source": [
    "path.anchor"
   ]
  },
  {
   "cell_type": "markdown",
   "metadata": {},
   "source": [
    "***\n",
    "# Moving and Deleting Files\n",
    "Through pathlib, you also have access to basic file system level operations like moving, updating, and even deleting files. \n",
    "\n",
    "For the most part, these methods do not give a warning or wait for confirmation before information or files are lost. ***Be careful when using these methods.***\n",
    "\n",
    "To move a file, use .replace(). Note that if the destination already exists, .replace() will overwrite it. Unfortunately, pathlib does not explicitly support safe moving of files. To avoid possibly overwriting the destination path, the simplest is to test whether the destination exists before replacing:"
   ]
  },
  {
   "cell_type": "code",
   "execution_count": 149,
   "metadata": {},
   "outputs": [],
   "source": [
    "source = pathlib.Path('README.md').read_text()\n",
    "destination = pathlib.Path.cwd() / 'README.md'\n",
    "\n",
    "if not destination.exists():\n",
    "    source.replace(destination)"
   ]
  },
  {
   "cell_type": "markdown",
   "metadata": {},
   "source": [
    "However, this does leave the door open for a possible race condition. \n",
    "\n",
    "Another process may add a file at the destination path between the execution of the if statement and the ```.replace()``` method. If that is a concern, a safer way is to open the destination path for exclusive creation and explicitly copy the source data:"
   ]
  },
  {
   "cell_type": "code",
   "execution_count": 150,
   "metadata": {},
   "outputs": [
    {
     "ename": "FileExistsError",
     "evalue": "[Errno 17] File exists: '/Users/ratchet/Projects/desertpy/README.md'",
     "output_type": "error",
     "traceback": [
      "\u001b[0;31m---------------------------------------------------------------------------\u001b[0m",
      "\u001b[0;31mFileExistsError\u001b[0m                           Traceback (most recent call last)",
      "\u001b[0;32m<ipython-input-150-1198916c1eb7>\u001b[0m in \u001b[0;36m<module>\u001b[0;34m\u001b[0m\n\u001b[0;32m----> 1\u001b[0;31m \u001b[0;32mwith\u001b[0m \u001b[0mdestination\u001b[0m\u001b[0;34m.\u001b[0m\u001b[0mopen\u001b[0m\u001b[0;34m(\u001b[0m\u001b[0mmode\u001b[0m\u001b[0;34m=\u001b[0m\u001b[0;34m'xb'\u001b[0m\u001b[0;34m)\u001b[0m \u001b[0;32mas\u001b[0m \u001b[0mfid\u001b[0m\u001b[0;34m:\u001b[0m\u001b[0;34m\u001b[0m\u001b[0;34m\u001b[0m\u001b[0m\n\u001b[0m\u001b[1;32m      2\u001b[0m     \u001b[0mfid\u001b[0m\u001b[0;34m.\u001b[0m\u001b[0mwrite\u001b[0m\u001b[0;34m(\u001b[0m\u001b[0msource\u001b[0m\u001b[0;34m.\u001b[0m\u001b[0mread_bytes\u001b[0m\u001b[0;34m(\u001b[0m\u001b[0;34m)\u001b[0m\u001b[0;34m)\u001b[0m\u001b[0;34m\u001b[0m\u001b[0;34m\u001b[0m\u001b[0m\n",
      "\u001b[0;32m/anaconda3/envs/python37/lib/python3.7/pathlib.py\u001b[0m in \u001b[0;36mopen\u001b[0;34m(self, mode, buffering, encoding, errors, newline)\u001b[0m\n\u001b[1;32m   1174\u001b[0m             \u001b[0mself\u001b[0m\u001b[0;34m.\u001b[0m\u001b[0m_raise_closed\u001b[0m\u001b[0;34m(\u001b[0m\u001b[0;34m)\u001b[0m\u001b[0;34m\u001b[0m\u001b[0;34m\u001b[0m\u001b[0m\n\u001b[1;32m   1175\u001b[0m         return io.open(self, mode, buffering, encoding, errors, newline,\n\u001b[0;32m-> 1176\u001b[0;31m                        opener=self._opener)\n\u001b[0m\u001b[1;32m   1177\u001b[0m \u001b[0;34m\u001b[0m\u001b[0m\n\u001b[1;32m   1178\u001b[0m     \u001b[0;32mdef\u001b[0m \u001b[0mread_bytes\u001b[0m\u001b[0;34m(\u001b[0m\u001b[0mself\u001b[0m\u001b[0;34m)\u001b[0m\u001b[0;34m:\u001b[0m\u001b[0;34m\u001b[0m\u001b[0;34m\u001b[0m\u001b[0m\n",
      "\u001b[0;32m/anaconda3/envs/python37/lib/python3.7/pathlib.py\u001b[0m in \u001b[0;36m_opener\u001b[0;34m(self, name, flags, mode)\u001b[0m\n\u001b[1;32m   1028\u001b[0m     \u001b[0;32mdef\u001b[0m \u001b[0m_opener\u001b[0m\u001b[0;34m(\u001b[0m\u001b[0mself\u001b[0m\u001b[0;34m,\u001b[0m \u001b[0mname\u001b[0m\u001b[0;34m,\u001b[0m \u001b[0mflags\u001b[0m\u001b[0;34m,\u001b[0m \u001b[0mmode\u001b[0m\u001b[0;34m=\u001b[0m\u001b[0;36m0o666\u001b[0m\u001b[0;34m)\u001b[0m\u001b[0;34m:\u001b[0m\u001b[0;34m\u001b[0m\u001b[0;34m\u001b[0m\u001b[0m\n\u001b[1;32m   1029\u001b[0m         \u001b[0;31m# A stub for the opener argument to built-in open()\u001b[0m\u001b[0;34m\u001b[0m\u001b[0;34m\u001b[0m\u001b[0;34m\u001b[0m\u001b[0m\n\u001b[0;32m-> 1030\u001b[0;31m         \u001b[0;32mreturn\u001b[0m \u001b[0mself\u001b[0m\u001b[0;34m.\u001b[0m\u001b[0m_accessor\u001b[0m\u001b[0;34m.\u001b[0m\u001b[0mopen\u001b[0m\u001b[0;34m(\u001b[0m\u001b[0mself\u001b[0m\u001b[0;34m,\u001b[0m \u001b[0mflags\u001b[0m\u001b[0;34m,\u001b[0m \u001b[0mmode\u001b[0m\u001b[0;34m)\u001b[0m\u001b[0;34m\u001b[0m\u001b[0;34m\u001b[0m\u001b[0m\n\u001b[0m\u001b[1;32m   1031\u001b[0m \u001b[0;34m\u001b[0m\u001b[0m\n\u001b[1;32m   1032\u001b[0m     \u001b[0;32mdef\u001b[0m \u001b[0m_raw_open\u001b[0m\u001b[0;34m(\u001b[0m\u001b[0mself\u001b[0m\u001b[0;34m,\u001b[0m \u001b[0mflags\u001b[0m\u001b[0;34m,\u001b[0m \u001b[0mmode\u001b[0m\u001b[0;34m=\u001b[0m\u001b[0;36m0o777\u001b[0m\u001b[0;34m)\u001b[0m\u001b[0;34m:\u001b[0m\u001b[0;34m\u001b[0m\u001b[0;34m\u001b[0m\u001b[0m\n",
      "\u001b[0;31mFileExistsError\u001b[0m: [Errno 17] File exists: '/Users/ratchet/Projects/desertpy/README.md'"
     ]
    }
   ],
   "source": [
    "with destination.open(mode='xb') as fid:\n",
    "    fid.write(source.read_bytes())"
   ]
  },
  {
   "cell_type": "markdown",
   "metadata": {},
   "source": [
    "The code above will raise a ```FileExistsError``` if destination already exists. Technically, this copies a file. To perform a move, simply delete source after the copy is done (see below). Make sure no exception was raised though.\n",
    "\n",
    "When you are renaming files, useful methods might be ```.with_name()``` and ```.with_suffix()```. They both return the original path but with the name or the suffix replaced, respectively.\n",
    "\n",
    "For instance:"
   ]
  },
  {
   "cell_type": "code",
   "execution_count": 156,
   "metadata": {},
   "outputs": [
    {
     "data": {
      "text/plain": [
       "PosixPath('/Users/ratchet/Projects/desertpy/README.md')"
      ]
     },
     "execution_count": 156,
     "metadata": {},
     "output_type": "execute_result"
    }
   ],
   "source": [
    "path"
   ]
  },
  {
   "cell_type": "code",
   "execution_count": 157,
   "metadata": {},
   "outputs": [
    {
     "data": {
      "text/plain": [
       "PosixPath('/Users/ratchet/Projects/desertpy/README.md')"
      ]
     },
     "execution_count": 157,
     "metadata": {},
     "output_type": "execute_result"
    }
   ],
   "source": [
    "path.with_suffix('.md')"
   ]
  },
  {
   "cell_type": "code",
   "execution_count": 158,
   "metadata": {},
   "outputs": [],
   "source": [
    "path.replace(path.with_suffix('.md'))"
   ]
  },
  {
   "cell_type": "markdown",
   "metadata": {},
   "source": [
    "Directories and files can be deleted using ```.rmdir()``` and ```.unlink()``` respectively. ***(Again, be careful!)***"
   ]
  },
  {
   "cell_type": "markdown",
   "metadata": {},
   "source": [
    "***\n",
    "# Examples\n",
    "In this section, you will see some examples of how to use pathlib to deal with simple challenges.\n",
    "\n",
    "### Counting Files\n",
    "There are a few different ways to list many files. The simplest is the .iterdir() method, which iterates over all files in the given directory. The following example combines .iterdir() with the collections.Counter class to count how many files there are of each filetype in the current directory:"
   ]
  },
  {
   "cell_type": "code",
   "execution_count": 159,
   "metadata": {},
   "outputs": [
    {
     "data": {
      "text/plain": [
       "Counter({'': 4, '.ipynb': 5, '.html': 1, '.png': 2, '.md': 1})"
      ]
     },
     "execution_count": 159,
     "metadata": {},
     "output_type": "execute_result"
    }
   ],
   "source": [
    "import collections\n",
    "collections.Counter(p.suffix for p in pathlib.Path.cwd().iterdir())"
   ]
  },
  {
   "cell_type": "markdown",
   "metadata": {},
   "source": [
    "### Display a Directory Tree\n",
    "The next example defines a function, tree(), that will print a visual tree representing the file hierarchy, rooted at a given directory. Here, we want to list subdirectories as well, so we use the .rglob() method:"
   ]
  },
  {
   "cell_type": "code",
   "execution_count": 160,
   "metadata": {},
   "outputs": [
    {
     "name": "stdout",
     "output_type": "stream",
     "text": [
      "+ /Users/ratchet/Projects/desertpy\n",
      "    + .ipynb_checkpoints\n",
      "        + README-checkpoint.md\n",
      "        + dataclasses-checkpoint.ipynb\n",
      "        + file_paths-checkpoint.ipynb\n",
      "        + python_basics_stdlib-checkpoint.ipynb\n",
      "        + string_formatting-checkpoint.ipynb\n",
      "        + survey_results-checkpoint.ipynb\n",
      "    + Logging\n",
      "        + .ipynb_checkpoints\n",
      "            + config-checkpoint.yaml\n",
      "            + example-checkpoint.log\n",
      "            + file-checkpoint.conf\n",
      "            + logging-checkpoint.ipynb\n",
      "        + config.yaml\n",
      "        + example.log\n",
      "        + file.conf\n",
      "        + logging.ipynb\n",
      "    + README.md\n",
      "    + archive\n",
      "        + file.txt\n",
      "    + data\n",
      "        + .ipynb_checkpoints\n",
      "            + iris-checkpoint.csv\n",
      "        + iris.csv\n",
      "    + dataclasses.ipynb\n",
      "    + file_paths.ipynb\n",
      "    + haversine_formula_150.fb2b87d122a4.png\n",
      "    + python-string-formatting-flowchart.4ecf0148fd87.png\n",
      "    + python_basics_stdlib.ipynb\n",
      "    + python_basics_stdlib.slides.html\n",
      "    + string_formatting.ipynb\n",
      "    + survey_results.ipynb\n"
     ]
    }
   ],
   "source": [
    "def tree(directory):\n",
    "    print(f'+ {directory}')\n",
    "    for path in sorted(directory.rglob('*')):\n",
    "        depth = len(path.relative_to(directory).parts)\n",
    "        spacer = '    ' * depth\n",
    "        print(f'{spacer}+ {path.name}')\n",
    "        \n",
    "tree(pathlib.Path.cwd())"
   ]
  },
  {
   "cell_type": "markdown",
   "metadata": {},
   "source": [
    "### Find the Last Modified File\n",
    "The .iterdir(), .glob(), and .rglob() methods are great fits for generator expressions and list comprehensions. To find the file in a directory that was last modified, you can use the .stat() method to get information about the underlying files. For instance, .stat().st_mtime gives the time of last modification of a file:"
   ]
  },
  {
   "cell_type": "code",
   "execution_count": 161,
   "metadata": {},
   "outputs": [
    {
     "name": "stdout",
     "output_type": "stream",
     "text": [
      "2019-05-22 11:32:59.466734 /Users/ratchet/Projects/desertpy/file_paths.ipynb\n"
     ]
    }
   ],
   "source": [
    "from datetime import datetime\n",
    "\n",
    "\n",
    "directory = pathlib.Path.cwd()\n",
    "\n",
    "time, file_path = max((f.stat().st_mtime, f) for f in directory.iterdir())\n",
    "\n",
    "print(datetime.fromtimestamp(time), file_path)"
   ]
  },
  {
   "cell_type": "markdown",
   "metadata": {},
   "source": [
    "### Create a Unique File Name\n",
    "The last example will show how to construct a unique numbered file name based on a template. First, specify a pattern for the file name, with room for a counter. Then, check the existence of the file path created by joining a directory and the file name (with a value for the counter). If it already exists, increase the counter and try again:"
   ]
  },
  {
   "cell_type": "code",
   "execution_count": 164,
   "metadata": {},
   "outputs": [
    {
     "name": "stdout",
     "output_type": "stream",
     "text": [
      "/Users/ratchet/Projects/desertpy/test_001.txt\n"
     ]
    }
   ],
   "source": [
    "def unique_path(directory, name_pattern):\n",
    "    counter = 0\n",
    "    while True:\n",
    "        counter += 1\n",
    "        path = directory / name_pattern.format(counter)\n",
    "        if not path.exists():\n",
    "            return path\n",
    "\n",
    "path = unique_path(pathlib.Path.cwd(), 'test_{:03d}.txt')\n",
    "\n",
    "print(path)"
   ]
  },
  {
   "cell_type": "markdown",
   "metadata": {},
   "source": [
    "***\n",
    "# Why Pathlib? \n",
    "(_IMHO_)\n",
    "\n",
    "- _Easier_ and safer handling of pathnames\n",
    "- Less ```os.path.*``` noise in your code\n",
    "- Moves your path names (varaibles) towards the left and _in focus_\n",
    "    ```python\n",
    "    # Before\n",
    "    if os.path.isdir(path):\n",
    "        os.rmdir(path)\n",
    "\n",
    "    # After\n",
    "    if path.is_dir():\n",
    "        path.rmdir()\n",
    "    ```\n",
    "- More powerful, with most necessary methods and properties available directly on the object\n",
    "- More consistent across operating systems, as peculiarities of the different systems are hidden by the ```Path``` object"
   ]
  },
  {
   "cell_type": "code",
   "execution_count": null,
   "metadata": {},
   "outputs": [],
   "source": []
  },
  {
   "cell_type": "code",
   "execution_count": null,
   "metadata": {},
   "outputs": [],
   "source": []
  }
 ],
 "metadata": {
  "kernelspec": {
   "display_name": "Python 3",
   "language": "python",
   "name": "python3"
  },
  "language_info": {
   "codemirror_mode": {
    "name": "ipython",
    "version": 3
   },
   "file_extension": ".py",
   "mimetype": "text/x-python",
   "name": "python",
   "nbconvert_exporter": "python",
   "pygments_lexer": "ipython3",
   "version": "3.7.1"
  }
 },
 "nbformat": 4,
 "nbformat_minor": 2
}
