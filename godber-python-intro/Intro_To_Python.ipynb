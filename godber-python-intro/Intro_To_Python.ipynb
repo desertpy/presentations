{
 "cells": [
  {
   "cell_type": "markdown",
   "metadata": {
    "slideshow": {
     "slide_type": "slide"
    }
   },
   "source": [
    "<img src=\"python-logo-generic.svg\" alt=\"Python Logo\">\n",
    "\n",
    "# Introduction to Python: Part I\n",
    "\n",
    "**Austin Godber**  \n",
    "**@godber**  \n",
    "DesertPy Co-Organizer  \n",
    "Meetup, Github and http://desertpy.com\n",
    "\n",
    "Desert Code Camp 2019 - 10/12/2019"
   ]
  },
  {
   "cell_type": "markdown",
   "metadata": {
    "slideshow": {
     "slide_type": "subslide"
    }
   },
   "source": [
    "<img src=\"Logo_DesertPy.png\" alt=\"DesertPy Logo\" style=\"float: right\">\n",
    "\n",
    "# DesertPy - The Phoenix Area Python Meetup Group\n",
    "\n",
    "* Typically two meetups a month\n",
    "  * 4th Wed night: Presentation meeting\n",
    "  * 2nd Saturday AM: Open Hack\n",
    "* Go to Meetup.com and search for DesertPy"
   ]
  },
  {
   "cell_type": "markdown",
   "metadata": {
    "slideshow": {
     "slide_type": "slide"
    }
   },
   "source": [
    "<img src=\"python-stack.png\" width=350px style=\"float:right;\">\n",
    "\n",
    "\n",
    "# Python Language\n",
    "\n",
    "* Python\n",
    "  * https://docs.python.org/3/reference/index.html\n",
    "* Python Standard Library\n",
    "  * https://docs.python.org/3/library/index.html\n",
    "* 3rd Party Modules at PyPI\n",
    "  * https://pypi.org"
   ]
  },
  {
   "cell_type": "markdown",
   "metadata": {
    "slideshow": {
     "slide_type": "notes"
    }
   },
   "source": [
    "Technically, libraries are called **modules**, a **package** contains submodules and has a `__path__` attribute.\n",
    "\n",
    "The Python Core is written in the C language.  The Stdlib is mixed python and C."
   ]
  },
  {
   "cell_type": "markdown",
   "metadata": {
    "slideshow": {
     "slide_type": "subslide"
    }
   },
   "source": [
    "# Python\n",
    "\n",
    "* Python - https://docs.python.org/3/reference/index.html\n",
    "  * Python Interpreter: CPython, Pypy, IronPython(2.7), Jython(2.7)\n",
    "  * Core Language Syntax, built-ins\n",
    "* Python Standard Library - https://docs.python.org/3/library/index.html\n",
    "  * C or Python modules included with Python\n",
    "  * These modules need to be imported, e.g.: `import math`"
   ]
  },
  {
   "cell_type": "markdown",
   "metadata": {
    "slideshow": {
     "slide_type": "subslide"
    }
   },
   "source": [
    "# 3rd Party Libs\n",
    "* 3rd Party Modules - https://pypi.python.org/pypi\n",
    "  * Install them with `pip`\n",
    "  * These modules need to be imported\n",
    "    * e.g.: `import requests`"
   ]
  },
  {
   "cell_type": "markdown",
   "metadata": {
    "slideshow": {
     "slide_type": "subslide"
    }
   },
   "source": [
    "# Python 2 vs Python 3\n",
    "\n",
    "### Python 2 is EOL at the end of this year!  So you should be using Python 3!\n",
    "\n",
    "* https://docs.python.org/3/\n",
    "* https://docs.python.org/2.7/\n",
    "\n",
    "I'll be talking about Python 3.5+ today."
   ]
  },
  {
   "cell_type": "markdown",
   "metadata": {
    "slideshow": {
     "slide_type": "slide"
    }
   },
   "source": [
    "# How to Start\n",
    "\n",
    "* Install Python\n",
    "* Get Text Editor\n",
    "* Follow tutorial"
   ]
  },
  {
   "cell_type": "markdown",
   "metadata": {
    "slideshow": {
     "slide_type": "subslide"
    }
   },
   "source": [
    "# Install Python\n",
    "\n",
    "* Windows - Anaconda/miniconda, Enthought Canopy\n",
    "* OS X - Default install, Homebrew, Anaconda\n",
    "* Linux - Default install, Anaconda"
   ]
  },
  {
   "cell_type": "markdown",
   "metadata": {
    "slideshow": {
     "slide_type": "subslide"
    }
   },
   "source": [
    "# Text Editor\n",
    "\n",
    "* Editor\n",
    "  * [SublimeText 3](https://www.sublimetext.com/)\n",
    "  * [Atom](https://atom.io/)\n",
    "  * [VSCode](https://code.visualstudio.com/)\n",
    "* IDE\n",
    "  * [PyCharm](https://www.jetbrains.com/pycharm/)"
   ]
  },
  {
   "cell_type": "markdown",
   "metadata": {
    "slideshow": {
     "slide_type": "subslide"
    }
   },
   "source": [
    "# Tutorial\n",
    "\n",
    "* The Canonical Tutorial from the creators:\n",
    "\n",
    "https://docs.python.org/3/tutorial/index.html\n",
    "\n",
    "* It's pretty long and a little verbose, but it is good, and the authoritative source."
   ]
  },
  {
   "cell_type": "markdown",
   "metadata": {
    "collapsed": true,
    "slideshow": {
     "slide_type": "slide"
    }
   },
   "source": [
    "# Python's Built-in Types\n",
    "\n",
    "* numerics - `int`, `float`, `complex`\n",
    "* sequences - `list`: `[]`, `tuple`: `()`, `range`, `str`: `''`, etc.\n",
    "* mappings and sets - `dict`: `{}`, `set`, `frozenset`\n",
    "* Others - iterators, generators, binary sequences, memoryviews, classes, instances, exceptions, modules\n",
    "\n",
    "Each type has infix operators (like `*` and `+`) and methods (like `.hex()` or `.center()`). that work on them."
   ]
  },
  {
   "cell_type": "markdown",
   "metadata": {
    "slideshow": {
     "slide_type": "subslide"
    }
   },
   "source": [
    "# Numerics - `int`, `float` and `complex`\n",
    "\n",
    "https://docs.python.org/3/library/stdtypes.html#typesnumeric"
   ]
  },
  {
   "cell_type": "code",
   "execution_count": 1,
   "metadata": {
    "slideshow": {
     "slide_type": "-"
    }
   },
   "outputs": [
    {
     "data": {
      "text/plain": [
       "2"
      ]
     },
     "execution_count": 1,
     "metadata": {},
     "output_type": "execute_result"
    }
   ],
   "source": [
    "1 + 1"
   ]
  },
  {
   "cell_type": "code",
   "execution_count": 2,
   "metadata": {
    "slideshow": {
     "slide_type": "fragment"
    }
   },
   "outputs": [
    {
     "data": {
      "text/plain": [
       "2.0"
      ]
     },
     "execution_count": 2,
     "metadata": {},
     "output_type": "execute_result"
    }
   ],
   "source": [
    "1 + 1.0"
   ]
  },
  {
   "cell_type": "markdown",
   "metadata": {},
   "source": [
    "Python will implicitly cast a result to `float` if you include a decimal."
   ]
  },
  {
   "cell_type": "markdown",
   "metadata": {
    "slideshow": {
     "slide_type": "notes"
    }
   },
   "source": [
    "NOTE: This is the first slide that shows code cells, remember to explain that the stuff in the gray box is python code and the white section below is the return value or string representation of the object."
   ]
  },
  {
   "cell_type": "markdown",
   "metadata": {
    "slideshow": {
     "slide_type": "subslide"
    }
   },
   "source": [
    "# Sequences - `list`, `tuple`, and `string`\n",
    "\n",
    "https://docs.python.org/3/library/stdtypes.html#sequence-types-list-tuple-range"
   ]
  },
  {
   "cell_type": "code",
   "execution_count": 3,
   "metadata": {},
   "outputs": [],
   "source": [
    "l = [1, 2, 3, 4, 5]\n",
    "t = (1, 2, 3, 4, 5)\n",
    "s = '12345'"
   ]
  },
  {
   "cell_type": "markdown",
   "metadata": {
    "slideshow": {
     "slide_type": "subslide"
    }
   },
   "source": [
    "Sequences can be indexed .."
   ]
  },
  {
   "cell_type": "code",
   "execution_count": 4,
   "metadata": {
    "slideshow": {
     "slide_type": "-"
    }
   },
   "outputs": [
    {
     "data": {
      "text/plain": [
       "(1, 1, '1')"
      ]
     },
     "execution_count": 4,
     "metadata": {},
     "output_type": "execute_result"
    }
   ],
   "source": [
    "l[0], t[0], s[0]"
   ]
  },
  {
   "cell_type": "markdown",
   "metadata": {
    "slideshow": {
     "slide_type": "subslide"
    }
   },
   "source": [
    "Sequences can be sliced ..."
   ]
  },
  {
   "cell_type": "code",
   "execution_count": 5,
   "metadata": {
    "slideshow": {
     "slide_type": "-"
    }
   },
   "outputs": [
    {
     "data": {
      "text/plain": [
       "([2, 3], (2, 3), '23')"
      ]
     },
     "execution_count": 5,
     "metadata": {},
     "output_type": "execute_result"
    }
   ],
   "source": [
    "l[1:3], t[1:3], s[1:3]"
   ]
  },
  {
   "cell_type": "markdown",
   "metadata": {
    "slideshow": {
     "slide_type": "subslide"
    }
   },
   "source": [
    "Sequences can be tested for membership ..."
   ]
  },
  {
   "cell_type": "code",
   "execution_count": 6,
   "metadata": {
    "slideshow": {
     "slide_type": "-"
    }
   },
   "outputs": [
    {
     "data": {
      "text/plain": [
       "(True, True, True)"
      ]
     },
     "execution_count": 6,
     "metadata": {},
     "output_type": "execute_result"
    }
   ],
   "source": [
    "1 in l, 1 in t, '1' in s"
   ]
  },
  {
   "cell_type": "code",
   "execution_count": 7,
   "metadata": {
    "slideshow": {
     "slide_type": "-"
    }
   },
   "outputs": [
    {
     "data": {
      "text/plain": [
       "(False, False, False)"
      ]
     },
     "execution_count": 7,
     "metadata": {},
     "output_type": "execute_result"
    }
   ],
   "source": [
    "9 in l, 9 in t, '9' in s"
   ]
  },
  {
   "cell_type": "markdown",
   "metadata": {
    "slideshow": {
     "slide_type": "subslide"
    }
   },
   "source": [
    "Sequences can be looped over ..."
   ]
  },
  {
   "cell_type": "code",
   "execution_count": 8,
   "metadata": {},
   "outputs": [
    {
     "name": "stdout",
     "output_type": "stream",
     "text": [
      "1\n",
      "2\n",
      "3\n",
      "4\n",
      "5\n"
     ]
    }
   ],
   "source": [
    "for i in l:\n",
    "    print(i)"
   ]
  },
  {
   "cell_type": "markdown",
   "metadata": {
    "slideshow": {
     "slide_type": "subslide"
    }
   },
   "source": [
    "What is the difference between the `list` and the `tuple`?"
   ]
  },
  {
   "cell_type": "code",
   "execution_count": 9,
   "metadata": {},
   "outputs": [
    {
     "data": {
      "text/plain": [
       "[1, 2, 3, 4, 5, 6]"
      ]
     },
     "execution_count": 9,
     "metadata": {},
     "output_type": "execute_result"
    }
   ],
   "source": [
    "l.append(6)\n",
    "l"
   ]
  },
  {
   "cell_type": "code",
   "execution_count": 10,
   "metadata": {
    "slideshow": {
     "slide_type": "-"
    }
   },
   "outputs": [],
   "source": [
    "# Doesn't work\n",
    "# t.append(5)"
   ]
  },
  {
   "cell_type": "markdown",
   "metadata": {
    "slideshow": {
     "slide_type": "-"
    }
   },
   "source": [
    "A `tuple` is immutable (cannot be changed), while a `list` is mutable."
   ]
  },
  {
   "cell_type": "markdown",
   "metadata": {
    "slideshow": {
     "slide_type": "subslide"
    }
   },
   "source": [
    "# Mappings - `dict`\n",
    "\n",
    "https://docs.python.org/3/library/stdtypes.html#mapping-types-dict"
   ]
  },
  {
   "cell_type": "code",
   "execution_count": 11,
   "metadata": {},
   "outputs": [
    {
     "data": {
      "text/plain": [
       "'Austin'"
      ]
     },
     "execution_count": 11,
     "metadata": {},
     "output_type": "execute_result"
    }
   ],
   "source": [
    "d = {\"name\": \"Austin\"}\n",
    "d[\"name\"]"
   ]
  },
  {
   "cell_type": "code",
   "execution_count": 12,
   "metadata": {},
   "outputs": [
    {
     "data": {
      "text/plain": [
       "{'name': 'Austin', 'height': '6 ft'}"
      ]
     },
     "execution_count": 12,
     "metadata": {},
     "output_type": "execute_result"
    }
   ],
   "source": [
    "d[\"height\"] = \"6 ft\"\n",
    "d"
   ]
  },
  {
   "cell_type": "markdown",
   "metadata": {
    "slideshow": {
     "slide_type": "slide"
    }
   },
   "source": [
    "# Python Language Syntax"
   ]
  },
  {
   "cell_type": "markdown",
   "metadata": {
    "slideshow": {
     "slide_type": "subslide"
    }
   },
   "source": [
    "# Built-in Functions\n",
    "\n",
    "<img src=\"python-builtin-functions.png\" style=\"float:center;\">"
   ]
  },
  {
   "cell_type": "markdown",
   "metadata": {
    "slideshow": {
     "slide_type": "slide"
    }
   },
   "source": [
    "# Boolean Operations\n",
    "\n",
    "* `False` things: `False`, `None`, `0`, `0.0`, `''`, `()`, `[]`, `{}`, any object whose `__bool__` or `__len__` method returns a `False` value.\n",
    "* Everything else is true.\n",
    "\n",
    "<img src=\"boolean.png\" style=\"float:center;\">"
   ]
  },
  {
   "cell_type": "markdown",
   "metadata": {
    "slideshow": {
     "slide_type": "subslide"
    }
   },
   "source": [
    "# Built-in Constants\n",
    "\n",
    "* `False`, `True`\n",
    "* `None`\n",
    "* `NotImplemented`\n",
    "* `Elipsis` (same as `...`)\n",
    "* `__debug__`\n",
    "* `quit()`, `exit()`, `copyright`, `license`, `credits`"
   ]
  },
  {
   "cell_type": "markdown",
   "metadata": {
    "slideshow": {
     "slide_type": "subslide"
    }
   },
   "source": [
    "# Comparisons\n",
    "\n",
    "<img src=\"comparisons.png\" style=\"float:center;\">"
   ]
  },
  {
   "cell_type": "markdown",
   "metadata": {
    "slideshow": {
     "slide_type": "subslide"
    }
   },
   "source": [
    "# Control Structures\n",
    "\n",
    "if, else, elif, for, while, break, continue"
   ]
  },
  {
   "cell_type": "code",
   "execution_count": 13,
   "metadata": {},
   "outputs": [
    {
     "name": "stdout",
     "output_type": "stream",
     "text": [
      "1\n",
      "2\n",
      "3\n"
     ]
    }
   ],
   "source": [
    "x = [1, 2, 3]\n",
    "for i in x:\n",
    "    print(i)"
   ]
  },
  {
   "cell_type": "markdown",
   "metadata": {
    "slideshow": {
     "slide_type": "subslide"
    }
   },
   "source": [
    "# Data and Execution Model\n",
    "\n",
    "To really understand the guts of Python, after you get the general syntax understood, read the Data Model and Execution Model docs:\n",
    "\n",
    "* https://docs.python.org/3/reference/datamodel.html\n",
    "* https://docs.python.org/3/reference/executionmodel.html"
   ]
  },
  {
   "cell_type": "markdown",
   "metadata": {
    "slideshow": {
     "slide_type": "slide"
    }
   },
   "source": [
    "# Examples\n",
    "\n",
    "Let's look at some examples:"
   ]
  },
  {
   "cell_type": "code",
   "execution_count": 14,
   "metadata": {
    "slideshow": {
     "slide_type": "fragment"
    }
   },
   "outputs": [
    {
     "name": "stdout",
     "output_type": "stream",
     "text": [
      "Hello, World!\n"
     ]
    }
   ],
   "source": [
    "print(\"Hello, World!\")"
   ]
  },
  {
   "cell_type": "markdown",
   "metadata": {
    "slideshow": {
     "slide_type": "subslide"
    }
   },
   "source": [
    "## A function"
   ]
  },
  {
   "cell_type": "code",
   "execution_count": 15,
   "metadata": {
    "slideshow": {
     "slide_type": "-"
    }
   },
   "outputs": [
    {
     "name": "stdout",
     "output_type": "stream",
     "text": [
      "Hello, World!!!!\n"
     ]
    }
   ],
   "source": [
    "def hello1():\n",
    "    print(\"Hello, World!!!!\")\n",
    "    \n",
    "hello1()"
   ]
  },
  {
   "cell_type": "markdown",
   "metadata": {
    "slideshow": {
     "slide_type": "subslide"
    }
   },
   "source": [
    "## A function with a keyword argument"
   ]
  },
  {
   "cell_type": "code",
   "execution_count": 16,
   "metadata": {
    "slideshow": {
     "slide_type": "-"
    }
   },
   "outputs": [
    {
     "name": "stdout",
     "output_type": "stream",
     "text": [
      "Hello, World\n",
      "Hello, World!\n",
      "Hello, Skippy\n",
      "Hello, Skippy!\n"
     ]
    }
   ],
   "source": [
    "def hello2(name=None):\n",
    "    if not name:\n",
    "        name = \"World\"\n",
    "    print(f\"Hello, {name}\")\n",
    "    print(\"Hello, \" + name + \"!\")\n",
    "    \n",
    "hello2()\n",
    "hello2(\"Skippy\")"
   ]
  },
  {
   "cell_type": "markdown",
   "metadata": {
    "slideshow": {
     "slide_type": "notes"
    }
   },
   "source": [
    "Sure, we could have set `name=\"World\"`, but then I wouldn't have a good example of `if not name:` and I might not remember to talk about empty sequences.  The other things to note in thie function are the two ways to compose strings."
   ]
  },
  {
   "cell_type": "markdown",
   "metadata": {
    "slideshow": {
     "slide_type": "slide"
    }
   },
   "source": [
    "# Object Oriented Programming and Python\n",
    "\n",
    "Python is an object oriented programming language, but it doesn't for YOU to write your code that way.  You can write procedural or semi-functional code.  Doing so is very common.\n",
    "\n",
    "Everything in Python is an object."
   ]
  },
  {
   "cell_type": "markdown",
   "metadata": {
    "slideshow": {
     "slide_type": "subslide"
    }
   },
   "source": [
    "# Classes\n",
    "\n",
    "Python's simplest class as an example of the dynamic nature of Python."
   ]
  },
  {
   "cell_type": "code",
   "execution_count": 17,
   "metadata": {},
   "outputs": [
    {
     "name": "stdout",
     "output_type": "stream",
     "text": [
      "Lobsters! 9\n"
     ]
    }
   ],
   "source": [
    "class Classy:\n",
    "    pass\n",
    "\n",
    "c = Classy()\n",
    "c.foo = 'Lobsters!'\n",
    "c.bar = lambda x: x**2\n",
    "\n",
    "print(c.foo, c.bar(3))"
   ]
  },
  {
   "cell_type": "markdown",
   "metadata": {
    "slideshow": {
     "slide_type": "notes"
    }
   },
   "source": [
    "You don't have to do it the way shown above, typically, concrete class definitions are used."
   ]
  },
  {
   "cell_type": "code",
   "execution_count": 18,
   "metadata": {
    "slideshow": {
     "slide_type": "subslide"
    }
   },
   "outputs": [
    {
     "name": "stdout",
     "output_type": "stream",
     "text": [
      "Hello, Skippy\n",
      "Skippy\n",
      "<__main__.Person1 object at 0x111b90b00>\n"
     ]
    }
   ],
   "source": [
    "class Person1:\n",
    "    \"\"\"Class representing a person, for providing Greetings.\"\"\"\n",
    "    \n",
    "    def __init__(self, name):\n",
    "        self.name = name\n",
    "        \n",
    "    def greet(self):\n",
    "        print(f\"Hello, {self.name}\")\n",
    "\n",
    "skippy = Person1(\"Skippy\")\n",
    "skippy.greet()\n",
    "print(skippy.name)\n",
    "print(skippy)"
   ]
  },
  {
   "cell_type": "code",
   "execution_count": 19,
   "metadata": {
    "slideshow": {
     "slide_type": "subslide"
    }
   },
   "outputs": [
    {
     "name": "stdout",
     "output_type": "stream",
     "text": [
      "70\n",
      "5.833333333333333\n",
      "Chip is 5.83 tall\n"
     ]
    }
   ],
   "source": [
    "class Person2:\n",
    "    \"\"\"Class representing a person, with greetings and height.\"\"\"\n",
    "    \n",
    "    def __init__(self, name, height):\n",
    "        self.name = name\n",
    "        self.height = height  # Height of person in inches\n",
    "\n",
    "    def greet(self):\n",
    "        print(f\"Hello, {self.name}\")\n",
    "    \n",
    "    @property\n",
    "    def height_ft(self):\n",
    "        return self.height / 12.0\n",
    "\n",
    "chip = Person2('Chip', 70)\n",
    "print(chip.height)\n",
    "print(chip.height_ft)\n",
    "print(\"Chip is %.2f tall\" % chip.height_ft)"
   ]
  },
  {
   "cell_type": "markdown",
   "metadata": {
    "slideshow": {
     "slide_type": "subslide"
    }
   },
   "source": [
    "# Inheritance"
   ]
  },
  {
   "cell_type": "code",
   "execution_count": 20,
   "metadata": {
    "slideshow": {
     "slide_type": "subslide"
    }
   },
   "outputs": [],
   "source": [
    "class Ninja(Person2):\n",
    "    \"\"\"A stealthy person or 1337 hacker.\"\"\"\n",
    "    ninja_types = [\"stealth\", \"hacker\"]\n",
    "    \n",
    "    def __init__(self, name, height, ninja_type):\n",
    "        super().__init__(name, height)\n",
    "        if ninja_type in self.ninja_types:\n",
    "            self.ninja_type = ninja_type\n",
    "        else:\n",
    "            raise RuntimeError('Invalid ninja_type: %s' % ninja_type)\n",
    "    \n",
    "    def work(self):\n",
    "        if self.ninja_type == 'stealth':\n",
    "            print(\"Karate Chop!\")\n",
    "        elif self.ninja_type == 'hacker':\n",
    "            print(\"Hack hack hack.\")"
   ]
  },
  {
   "cell_type": "code",
   "execution_count": 21,
   "metadata": {},
   "outputs": [
    {
     "name": "stdout",
     "output_type": "stream",
     "text": [
      "Wally is 5.17 tall.\n",
      "Hack hack hack.\n"
     ]
    }
   ],
   "source": [
    "wally = Ninja('Wally', 62, 'hacker')\n",
    "print(\"{name} is {height:.2f} tall.\".format(name=wally.name, height=wally.height_ft))\n",
    "wally.work()"
   ]
  },
  {
   "cell_type": "markdown",
   "metadata": {
    "slideshow": {
     "slide_type": "subslide"
    }
   },
   "source": [
    "# Exceptions\n",
    "\n",
    "You see that `raise` in the class definition for `Ninja`?"
   ]
  },
  {
   "cell_type": "code",
   "execution_count": 22,
   "metadata": {},
   "outputs": [
    {
     "name": "stdout",
     "output_type": "stream",
     "text": [
      "No such thing as a Quilting ninja! \n",
      "Error: Invalid ninja_type: quilting\n",
      "Nice work!\n"
     ]
    }
   ],
   "source": [
    "try:\n",
    "    webster = Ninja('Webster', 71, 'quilting')\n",
    "except RuntimeError as e:\n",
    "    print('No such thing as a Quilting ninja! \\nError: %s' % e)\n",
    "finally:\n",
    "    print('Nice work!')"
   ]
  },
  {
   "cell_type": "markdown",
   "metadata": {
    "slideshow": {
     "slide_type": "notes"
    }
   },
   "source": [
    "Obviously this is an example of exception handling done poorly.  There's a lot more too it, custom exception classes, handling multiple exceptions, re-raising errors.  Doing something useful in except blocks..."
   ]
  },
  {
   "cell_type": "markdown",
   "metadata": {
    "slideshow": {
     "slide_type": "subslide"
    }
   },
   "source": [
    "## What's up with the \"\"\"?\n",
    "\n",
    "It's called a `docstring`, you can use them on modules, functions and classes.  There's a whole ecosystem of tools designed to use them for documentation and testing.  Use 'em!"
   ]
  },
  {
   "cell_type": "code",
   "execution_count": 23,
   "metadata": {
    "slideshow": {
     "slide_type": "-"
    }
   },
   "outputs": [
    {
     "data": {
      "text/plain": [
       "'A stealthy person or 1337 hacker.'"
      ]
     },
     "execution_count": 23,
     "metadata": {},
     "output_type": "execute_result"
    }
   ],
   "source": [
    "Ninja.__doc__"
   ]
  },
  {
   "cell_type": "markdown",
   "metadata": {
    "slideshow": {
     "slide_type": "subslide"
    }
   },
   "source": [
    "## More OOP?\n",
    "\n",
    "If OOP is a good fit for your problem, I've found this to be a great post on OOP in Python:\n",
    "\n",
    "https://jeffknupp.com/blog/2014/06/18/improve-your-python-python-classes-and-object-oriented-programming/"
   ]
  },
  {
   "cell_type": "markdown",
   "metadata": {
    "slideshow": {
     "slide_type": "subslide"
    }
   },
   "source": [
    "# Context Managers\n",
    "\n",
    "\"A context manager is an object that defines the runtime context to be established when executing a with statement.\""
   ]
  },
  {
   "cell_type": "markdown",
   "metadata": {
    "slideshow": {
     "slide_type": "subslide"
    }
   },
   "source": [
    "Turns this ... "
   ]
  },
  {
   "cell_type": "code",
   "execution_count": 24,
   "metadata": {},
   "outputs": [
    {
     "name": "stdout",
     "output_type": "stream",
     "text": [
      "I'm a text file!\n",
      "\n"
     ]
    }
   ],
   "source": [
    "f = open('file.txt', 'r')\n",
    "print(f.read())\n",
    "f.close()"
   ]
  },
  {
   "cell_type": "markdown",
   "metadata": {
    "slideshow": {
     "slide_type": "subslide"
    }
   },
   "source": [
    "into this ..."
   ]
  },
  {
   "cell_type": "code",
   "execution_count": 25,
   "metadata": {},
   "outputs": [
    {
     "name": "stdout",
     "output_type": "stream",
     "text": [
      "I'm a text file!\n",
      "\n"
     ]
    }
   ],
   "source": [
    "with open('file.txt', 'r') as f:\n",
    "    print(f.read())"
   ]
  },
  {
   "cell_type": "markdown",
   "metadata": {
    "slideshow": {
     "slide_type": "slide"
    }
   },
   "source": [
    "# The Standard Libraries\n",
    "\n",
    "Lots of fabulous tools we don't have time for, things like:\n",
    "\n",
    "* fancy data types like datetimes and calendars\n",
    "* path and file manipulation\n",
    "* basic math\n",
    "* Logging, curses, network protocols ... on and on\n",
    "\n",
    "Dive in! https://docs.python.org/3/library/index.html"
   ]
  },
  {
   "cell_type": "code",
   "execution_count": 26,
   "metadata": {
    "slideshow": {
     "slide_type": "subslide"
    }
   },
   "outputs": [
    {
     "data": {
      "text/plain": [
       "(4, 3, 3.141592653589793)"
      ]
     },
     "execution_count": 26,
     "metadata": {},
     "output_type": "execute_result"
    }
   ],
   "source": [
    "import math\n",
    "\n",
    "a = 3.5\n",
    "math.ceil(a), math.floor(a), math.pi"
   ]
  },
  {
   "cell_type": "markdown",
   "metadata": {
    "slideshow": {
     "slide_type": "notes"
    }
   },
   "source": [
    "Make sure to call out that `import` is how python libraries or modules are loaded for use.  This applies to both the standard lib and 3rd party modules."
   ]
  },
  {
   "cell_type": "markdown",
   "metadata": {
    "slideshow": {
     "slide_type": "subslide"
    }
   },
   "source": [
    "# Last warning on Python 3 vs 2.\n",
    "\n",
    "If you have to write portable code, read up on it, it's messy but not too bad.  Lots of people have managed it, you can too!  Look for the package `six`."
   ]
  },
  {
   "cell_type": "markdown",
   "metadata": {
    "slideshow": {
     "slide_type": "slide"
    }
   },
   "source": [
    "# 3rd Party Libraries\n",
    "\n",
    "Stick around for Intro to Python Part II\n",
    "\n",
    "3rd party libraries combined with the language's low barrier to entry are Python's competative advantage."
   ]
  },
  {
   "cell_type": "markdown",
   "metadata": {
    "collapsed": true,
    "slideshow": {
     "slide_type": "slide"
    }
   },
   "source": [
    "# Thank You!\n",
    "\n",
    "**Austin Godber**  \n",
    "**@godber**  \n",
    "DesertPy Co-Organizer  \n",
    "Meetup, Github and http://desertpy.com\n",
    "\n",
    "* https://github.com/desertpy/presentations\n",
    "* godber-intro-to-python\n",
    "* godber-intro-to-python-part-II\n",
    "\n",
    "Desert Code Camp 2019 - 10/12/2019"
   ]
  }
 ],
 "metadata": {
  "celltoolbar": "Slideshow",
  "kernelspec": {
   "display_name": "Python [default]",
   "language": "python",
   "name": "python3"
  },
  "language_info": {
   "codemirror_mode": {
    "name": "ipython",
    "version": 3
   },
   "file_extension": ".py",
   "mimetype": "text/x-python",
   "name": "python",
   "nbconvert_exporter": "python",
   "pygments_lexer": "ipython3",
   "version": "3.6.6"
  }
 },
 "nbformat": 4,
 "nbformat_minor": 1
}
