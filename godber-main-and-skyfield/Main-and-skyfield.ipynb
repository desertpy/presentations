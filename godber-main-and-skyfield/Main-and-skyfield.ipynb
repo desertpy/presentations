{
 "cells": [
  {
   "cell_type": "markdown",
   "metadata": {
    "slideshow": {
     "slide_type": "slide"
    }
   },
   "source": [
    "# Main And Skyfield\n",
    "\n",
    "Austin Godber\n",
    "@godber\n",
    "\n",
    "<img style=\"float: right\" src=\"Logo_DesertPy.png\">\n",
    "\n",
    "DesertPy - 6/26/2019"
   ]
  },
  {
   "cell_type": "markdown",
   "metadata": {
    "slideshow": {
     "slide_type": "slide"
    }
   },
   "source": [
    "# Using `__main__` in a Module\n",
    "\n",
    "\n",
    "Inspired by this blogpost:\n",
    "\n",
    "https://shaneoneill.io/2019/06/12/use-__main__-py/\n",
    "\n",
    "received in the PyCoders Weekly Newsletter."
   ]
  },
  {
   "cell_type": "markdown",
   "metadata": {
    "slideshow": {
     "slide_type": "subslide"
    }
   },
   "source": [
    "Have you ever used code like this at the bottom of one of your Python scripts?\n",
    "\n",
    "```python\n",
    "if __name__ == '__main__':\n",
    "  main(sys.argv)\n",
    "```\n",
    "\n",
    "It allows you to use a script both as something called from the command line as well as `import` as a module."
   ]
  },
  {
   "cell_type": "markdown",
   "metadata": {
    "slideshow": {
     "slide_type": "fragment"
    }
   },
   "source": [
    "It works because `__name__` get's set to `__main__` when a script is the top level scope, otherwise its set to the module name."
   ]
  },
  {
   "cell_type": "markdown",
   "metadata": {
    "slideshow": {
     "slide_type": "subslide"
    }
   },
   "source": [
    "But what if you had a module that was split out into multiple files and directories, as is usually the case?\n",
    "\n"
   ]
  },
  {
   "cell_type": "markdown",
   "metadata": {
    "slideshow": {
     "slide_type": "subslide"
    }
   },
   "source": [
    "# Create a `__main__.py` file!\n",
    "\n",
    "You can create a `__main__.py` file that includes the equivalent code and include it in your module.  If your module is installed in your environment, you can now execute the code in your module with:\n",
    "\n",
    "```\n",
    "python -m yourmodule\n",
    "```\n"
   ]
  },
  {
   "cell_type": "markdown",
   "metadata": {
    "slideshow": {
     "slide_type": "slide"
    }
   },
   "source": [
    "# Do you need to know where Jupiter is?"
   ]
  },
  {
   "cell_type": "markdown",
   "metadata": {
    "slideshow": {
     "slide_type": "fragment"
    }
   },
   "source": [
    "Python and `skyfield` can help!"
   ]
  },
  {
   "cell_type": "markdown",
   "metadata": {
    "slideshow": {
     "slide_type": "subslide"
    }
   },
   "source": [
    "\"Skyfield computes positions for the stars, planets, and satellites in orbit around the Earth.\"\n",
    "\n",
    "- Skyfield (https://rhodesmill.org/skyfield/)"
   ]
  },
  {
   "cell_type": "markdown",
   "metadata": {
    "slideshow": {
     "slide_type": "subslide"
    }
   },
   "source": [
    "# Setup\n",
    "\n",
    "Load the module and chose the time you want to make the observation:"
   ]
  },
  {
   "cell_type": "code",
   "execution_count": null,
   "metadata": {},
   "outputs": [],
   "source": [
    "from skyfield.api import Topos, load\n",
    "\n",
    "ts = load.timescale()\n",
    "# t = ts.now()\n",
    "t = ts.utc(2019, 6, 27, 5.0)  # 10PM AZ Time on 6/26"
   ]
  },
  {
   "cell_type": "markdown",
   "metadata": {
    "slideshow": {
     "slide_type": "subslide"
    }
   },
   "source": [
    "# Load the Ephemeris\n",
    "\n",
    "> A table of positions is called an ephemeris and those supplied by the JPL are of very high accuracy.\n",
    "\n",
    "Details: https://rhodesmill.org/skyfield/planets.html"
   ]
  },
  {
   "cell_type": "code",
   "execution_count": null,
   "metadata": {},
   "outputs": [],
   "source": [
    "planets = load('de421.bsp')\n",
    "jupiter = planets[5]"
   ]
  },
  {
   "cell_type": "markdown",
   "metadata": {
    "slideshow": {
     "slide_type": "subslide"
    }
   },
   "source": [
    "# Set the location and print\n",
    "\n",
    "Show the \"apparent\" location of Jupiter from a place on Earth (Topocentric) ... in this case, Scottsdale."
   ]
  },
  {
   "cell_type": "code",
   "execution_count": 22,
   "metadata": {},
   "outputs": [
    {
     "name": "stdout",
     "output_type": "stream",
     "text": [
      "Altitude: 31deg 31' 46.5\"\n",
      "Azimuth: 160deg 06' 38.6\"\n",
      "Distance: 4.31717 au\n"
     ]
    }
   ],
   "source": [
    "\n",
    "scottsdale = earth + Topos('33.517836 N', '111.889642 W')\n",
    "astrometric = scottsdale.at(t).observe(jupiter)\n",
    "apparent = scottsdale.at(t).observe(jupiter).apparent()\n",
    "\n",
    "alt, az, dist = apparent.altaz()\n",
    "\n",
    "print(f'Altitude: {alt}')\n",
    "print(f'Azimuth: {az}')\n",
    "print(f'Distance: {dist}')"
   ]
  },
  {
   "cell_type": "markdown",
   "metadata": {
    "slideshow": {
     "slide_type": "subslide"
    }
   },
   "source": [
    "# Ephemeris"
   ]
  },
  {
   "cell_type": "code",
   "execution_count": 29,
   "metadata": {
    "slideshow": {
     "slide_type": "subslide"
    }
   },
   "outputs": [
    {
     "name": "stdout",
     "output_type": "stream",
     "text": [
      "SPICE kernel file 'de421.bsp' has 15 segments\n",
      "  JD 2414864.50 - JD 2471184.50  (1899-07-28 through 2053-10-08)\n",
      "      0 -> 1    SOLAR SYSTEM BARYCENTER -> MERCURY BARYCENTER\n",
      "      0 -> 2    SOLAR SYSTEM BARYCENTER -> VENUS BARYCENTER\n",
      "      0 -> 3    SOLAR SYSTEM BARYCENTER -> EARTH BARYCENTER\n",
      "      0 -> 4    SOLAR SYSTEM BARYCENTER -> MARS BARYCENTER\n",
      "      0 -> 5    SOLAR SYSTEM BARYCENTER -> JUPITER BARYCENTER\n",
      "      0 -> 6    SOLAR SYSTEM BARYCENTER -> SATURN BARYCENTER\n",
      "      0 -> 7    SOLAR SYSTEM BARYCENTER -> URANUS BARYCENTER\n",
      "      0 -> 8    SOLAR SYSTEM BARYCENTER -> NEPTUNE BARYCENTER\n",
      "      0 -> 9    SOLAR SYSTEM BARYCENTER -> PLUTO BARYCENTER\n",
      "      0 -> 10   SOLAR SYSTEM BARYCENTER -> SUN\n",
      "      3 -> 301  EARTH BARYCENTER -> MOON\n",
      "      3 -> 399  EARTH BARYCENTER -> EARTH\n",
      "      1 -> 199  MERCURY BARYCENTER -> MERCURY\n",
      "      2 -> 299  VENUS BARYCENTER -> VENUS\n",
      "      4 -> 499  MARS BARYCENTER -> MARS\n"
     ]
    }
   ],
   "source": [
    "print(planets)"
   ]
  },
  {
   "cell_type": "code",
   "execution_count": null,
   "metadata": {
    "slideshow": {
     "slide_type": "subslide"
    }
   },
   "outputs": [],
   "source": []
  },
  {
   "cell_type": "code",
   "execution_count": 27,
   "metadata": {
    "slideshow": {
     "slide_type": "subslide"
    }
   },
   "outputs": [
    {
     "name": "stdout",
     "output_type": "stream",
     "text": [
      "(<Angle -61deg 14' 41.6\">, <Angle 235deg 00' 37.3\">, <Distance 7.48196e-05 au>)\n"
     ]
    }
   ],
   "source": [
    "from skyfield.api import EarthSatellite, Topos, load\n",
    "\n",
    "ts = load.timescale()\n",
    "t = ts.now()\n",
    "\n",
    "line1 = '1 25544U 98067A   14020.93268519  .00009878  00000-0  18200-3 0  5082'\n",
    "line2 = '2 25544  51.6498 109.4756 0003572  55.9686 274.8005 15.49815350868473'\n",
    "\n",
    "boston = Topos('42.3583 N', '71.0603 W')\n",
    "satellite = EarthSatellite(line1, line2, name='ISS (ZARYA)')\n",
    "\n",
    "# Geocentric\n",
    "\n",
    "geometry = satellite.at(t)\n",
    "\n",
    "# Geographic point beneath satellite\n",
    "\n",
    "subpoint = geometry.subpoint()\n",
    "latitude = subpoint.latitude\n",
    "longitude = subpoint.longitude\n",
    "elevation = subpoint.elevation\n",
    "\n",
    "# Topocentric\n",
    "\n",
    "difference = satellite - boston\n",
    "geometry = difference.at(t)\n",
    "\n",
    "print(geometry.altaz())"
   ]
  },
  {
   "cell_type": "code",
   "execution_count": null,
   "metadata": {},
   "outputs": [],
   "source": []
  }
 ],
 "metadata": {
  "celltoolbar": "Slideshow",
  "kernelspec": {
   "display_name": "Python 3",
   "language": "python",
   "name": "python3"
  },
  "language_info": {
   "codemirror_mode": {
    "name": "ipython",
    "version": 3
   },
   "file_extension": ".py",
   "mimetype": "text/x-python",
   "name": "python",
   "nbconvert_exporter": "python",
   "pygments_lexer": "ipython3",
   "version": "3.7.3"
  }
 },
 "nbformat": 4,
 "nbformat_minor": 2
}
