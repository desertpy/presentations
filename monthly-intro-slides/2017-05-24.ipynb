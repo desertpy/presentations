{
 "cells": [
  {
   "cell_type": "markdown",
   "metadata": {
    "slideshow": {
     "slide_type": "slide"
    }
   },
   "source": [
    "<img src=\"python-logo-generic.png\" alt=\"Python Logo\">\n",
    "\n",
    "# DesertPy - May 24th, 2017\n",
    "\n",
    "* Meetup\n",
    "* Github: https://github.com/desertpy/\n",
    "* http://desertpy.com"
   ]
  },
  {
   "cell_type": "markdown",
   "metadata": {
    "slideshow": {
     "slide_type": "slide"
    }
   },
   "source": [
    "# Announcements\n",
    "\n",
    "* Desert Code Camp - https://oct2017.desertcodecamp.com/home\n",
    "  * Let's get a solid Python track!\n",
    "  * Austin will do his Intro to Python and maybe Matplotlib, Pandas, or NumPy talk\n",
    "  * Anyone else interested?\n",
    "  * Discuss on the meetup discussion board.\n",
    "* Call of June presentation!"
   ]
  },
  {
   "cell_type": "markdown",
   "metadata": {
    "slideshow": {
     "slide_type": "slide"
    }
   },
   "source": [
    "# PyMOTW3 Poll\n",
    "\n",
    "Choose a topic for next months lightnig talk (inspired by https://pymotw.com/3/)\n",
    "\n",
    "http://poll.fm/5t1fa\n",
    "\n",
    "Any volunteers?"
   ]
  }
 ],
 "metadata": {
  "celltoolbar": "Slideshow",
  "kernelspec": {
   "display_name": "Python 3",
   "language": "python",
   "name": "python3"
  },
  "language_info": {
   "codemirror_mode": {
    "name": "ipython",
    "version": 3
   },
   "file_extension": ".py",
   "mimetype": "text/x-python",
   "name": "python",
   "nbconvert_exporter": "python",
   "pygments_lexer": "ipython3",
   "version": "3.5.3"
  }
 },
 "nbformat": 4,
 "nbformat_minor": 1
}
