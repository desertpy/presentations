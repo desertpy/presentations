{
 "cells": [
  {
   "cell_type": "markdown",
   "metadata": {
    "slideshow": {
     "slide_type": "slide"
    }
   },
   "source": [
    "# Kubernetes and Python\n",
    "\n",
    "\n",
    "* Austin Godber\n",
    "*  \n",
    "@godber\n",
    "\n",
    "<img style=\"float: right\" height=\"180\" width=\"180\" src=\"Logo_DesertPy.png\">\n",
    "\n",
    "<img style=\"float: right\" height=\"180\" width=\"180\" src=\"kubernetes-logo.svg\">\n",
    "\n",
    "DesertPy - 2/26/2020"
   ]
  },
  {
   "cell_type": "markdown",
   "metadata": {
    "slideshow": {
     "slide_type": "subslide"
    }
   },
   "source": [
    "# Background\n",
    "\n",
    "* Containers\n",
    "* Kubernetes"
   ]
  },
  {
   "cell_type": "markdown",
   "metadata": {
    "slideshow": {
     "slide_type": "subslide"
    }
   },
   "source": [
    "## Containers\n",
    "\n",
    "* \"Single\" Lightweight Process (not VM)\n",
    "* Isolated\n",
    "  * Resource Management\n",
    "  * Resource Access\n",
    "* Managed Like Cattle not Pets\n",
    "* Docker, Containerd, CRI-O"
   ]
  },
  {
   "cell_type": "markdown",
   "metadata": {
    "slideshow": {
     "slide_type": "subslide"
    }
   },
   "source": [
    "# Containers\n",
    "\n",
    "<img src=\"container_evolution.svg\">\n",
    "\n",
    "- From [What is Kubernetes](https://kubernetes.io/docs/concepts/overview/what-is-kubernetes/)"
   ]
  },
  {
   "cell_type": "markdown",
   "metadata": {
    "slideshow": {
     "slide_type": "subslide"
    }
   },
   "source": [
    "# Kubernetes\n",
    "\n",
    "> Kubernetes is a portable, extensible, open-source platform for managing containerized workloads and services, that facilitates both declarative configuration and automation.\n",
    "\n",
    "- From [What is Kubernetes](https://kubernetes.io/docs/concepts/overview/what-is-kubernetes/)"
   ]
  },
  {
   "cell_type": "markdown",
   "metadata": {
    "slideshow": {
     "slide_type": "subslide"
    }
   },
   "source": [
    "# Kubernetes\n",
    "\n",
    "* Service discovery and load balancing\n",
    "* Storage orchestration\n",
    "* Automated rollouts and rollbacks\n",
    "* Automatic bin packing\n",
    "* Self-healing (resource aware scheduling)\n",
    "* Secret and configuration management"
   ]
  },
  {
   "cell_type": "markdown",
   "metadata": {
    "slideshow": {
     "slide_type": "subslide"
    }
   },
   "source": [
    "> \"It's a container orchestration system.\" **- Austin**\n",
    "\n",
    "> Additionally, Kubernetes is not a mere orchestration system. In fact, it eliminates the need for orchestration. The technical definition of orchestration is execution of a defined workflow: first do A, then B, then C. In contrast, Kubernetes comprises a set of independent, composable control processes that continuously drive the current state towards the provided desired state. It shouldn’t matter how you get from A to C. Centralized control is also not required. This results in a system that is easier to use and more powerful, robust, resilient, and extensible. **- Kubernetes Docs**"
   ]
  },
  {
   "cell_type": "markdown",
   "metadata": {
    "slideshow": {
     "slide_type": "slide"
    }
   },
   "source": [
    "# Setup\n",
    "\n",
    "All of this can be done on a Linux or MacOS desktop if you have the following installed:\n",
    "\n",
    "* Python/Virtualenv - To build and test the App\n",
    "* Docker - To build and test the container image with the App\n",
    "* Minikube - To run a local dev Kuberenetes cluster (runs in VM*)"
   ]
  },
  {
   "cell_type": "markdown",
   "metadata": {
    "slideshow": {
     "slide_type": "notes"
    }
   },
   "source": [
    "The Runtime Options for Minikube Are:\n",
    "\n",
    "* Windows - ??\n",
    "* MacOS - HyperKit, VirtualBox, VMWare?\n",
    "* Linux - KVM, VirtualBox, \"none\" (local docker, No VM)"
   ]
  },
  {
   "cell_type": "markdown",
   "metadata": {
    "slideshow": {
     "slide_type": "subslide"
    }
   },
   "source": [
    "Optionally you can use the Docker inside minikube like this\n",
    "\n",
    "```bash\n",
    "eval $(minikube -p minikube docker-env)\n",
    "```\n",
    "\n",
    "Note: you have docker on your workstation AND inside minikube."
   ]
  },
  {
   "cell_type": "markdown",
   "metadata": {
    "slideshow": {
     "slide_type": "slide"
    }
   },
   "source": [
    "# Python and Kubernetes?\n",
    "\n",
    "* Python Applications can be deployed in Kuberenetes\n",
    "* Kubernetes Can be managed/controlled by Python"
   ]
  },
  {
   "cell_type": "markdown",
   "metadata": {
    "slideshow": {
     "slide_type": "slide"
    }
   },
   "source": [
    "# Python Applications can be deployed in Kuberenetes\n",
    "\n",
    "* Make the app\n",
    "* Write the `Dockerfile`\n",
    "* Build the container Image\n",
    "* Create a Kubernetes `Deployment`\n",
    "* Apply the `Deployment`."
   ]
  },
  {
   "cell_type": "markdown",
   "metadata": {
    "slideshow": {
     "slide_type": "subslide"
    }
   },
   "source": [
    "# Make the App"
   ]
  },
  {
   "cell_type": "code",
   "execution_count": 14,
   "metadata": {
    "slideshow": {
     "slide_type": "-"
    }
   },
   "outputs": [
    {
     "name": "stdout",
     "output_type": "stream",
     "text": [
      "webapp/\r\n",
      "webapp/Dockerfile\r\n",
      "webapp/app\r\n",
      "webapp/app/main.py\r\n",
      "webapp/app/static\r\n",
      "webapp/__pycache__\r\n",
      "webapp/__pycache__/app.cpython-37.pyc\r\n"
     ]
    }
   ],
   "source": [
    "!find webapp/"
   ]
  },
  {
   "cell_type": "markdown",
   "metadata": {
    "slideshow": {
     "slide_type": "subslide"
    }
   },
   "source": [
    "# The App"
   ]
  },
  {
   "cell_type": "code",
   "execution_count": 15,
   "metadata": {
    "slideshow": {
     "slide_type": "-"
    }
   },
   "outputs": [
    {
     "name": "stdout",
     "output_type": "stream",
     "text": [
      "from starlette.applications import Starlette\r\n",
      "from starlette.responses import PlainTextResponse\r\n",
      "from starlette.routing import Route, Mount, WebSocketRoute\r\n",
      "from starlette.staticfiles import StaticFiles\r\n",
      "\r\n",
      "\r\n",
      "def homepage(request):\r\n",
      "    return PlainTextResponse('Hello, world!')\r\n",
      "\r\n",
      "def user_me(request):\r\n"
     ]
    }
   ],
   "source": [
    "! head webapp/app/main.py"
   ]
  },
  {
   "cell_type": "markdown",
   "metadata": {
    "slideshow": {
     "slide_type": "subslide"
    }
   },
   "source": [
    "# A `Dockerfile`\n",
    "\n",
    "Describes how to build container image:\n",
    "\n",
    "```\n",
    "# special sauce in here, or danger\n",
    "# pull this thread:\n",
    "#   https://github.com/tiangolo/uvicorn-gunicorn-starlette-docker\n",
    "FROM tiangolo/uvicorn-gunicorn:python3.7-alpine3.8\n",
    "LABEL maintainer=\"Austin Godber <godber@uberhip.com>\"\n",
    "\n",
    "RUN pip install starlette aiofiles\n",
    "\n",
    "COPY ./app /app\n",
    "```"
   ]
  },
  {
   "cell_type": "markdown",
   "metadata": {
    "slideshow": {
     "slide_type": "subslide"
    }
   },
   "source": [
    "# Build Image\n",
    "\n",
    "```bash\n",
    "# Use Docker in Minikube\n",
    "eval $(minikube -p minikube docker-env)\n",
    "# Build image\n",
    "docker build -t starlette .\n",
    "\n",
    "Sending build context to Docker daemon  7.168kB\n",
    "Step 1/4 : FROM tiangolo/uvicorn-gunicorn:python3.7-alpine3.8\n",
    " ---> 9c64ae748955\n",
    "...\n",
    "Step 4/4 : COPY ./app /app\n",
    " ---> 729747cdcf14\n",
    "Successfully built 729747cdcf14\n",
    "Successfully tagged starlette:1\n",
    "```"
   ]
  },
  {
   "cell_type": "markdown",
   "metadata": {
    "slideshow": {
     "slide_type": "subslide"
    }
   },
   "source": [
    "# Run Image\n",
    "\n",
    "```bash\n",
    "docker run -p 8000:80 starlette:1\n",
    "```"
   ]
  },
  {
   "cell_type": "markdown",
   "metadata": {
    "slideshow": {
     "slide_type": "subslide"
    }
   },
   "source": [
    "# Create Kubernetes `Deployment`\n",
    "\n"
   ]
  },
  {
   "cell_type": "markdown",
   "metadata": {
    "slideshow": {
     "slide_type": "fragment"
    }
   },
   "source": [
    "A What?"
   ]
  },
  {
   "cell_type": "markdown",
   "metadata": {
    "slideshow": {
     "slide_type": "fragment"
    }
   },
   "source": [
    "Kubernetes is concept heavy and comprised of many layers of abstraction.  So .."
   ]
  },
  {
   "cell_type": "markdown",
   "metadata": {
    "slideshow": {
     "slide_type": "fragment"
    }
   },
   "source": [
    "A `Deployment` creates a `Replica Set`, which creates `Pods`, which run `Containers` that contain your app."
   ]
  },
  {
   "cell_type": "markdown",
   "metadata": {
    "slideshow": {
     "slide_type": "subslide"
    }
   },
   "source": [
    "# Manifest File\n",
    "\n",
    "* Specifies `Deployment` [[link](https://kubernetes.io/docs/concepts/workloads/controllers/deployment/)]\n",
    "* Specifies `Service` [[link](https://kubernetes.io/docs/concepts/services-networking/service/)]\n",
    "    * \"a Service is an abstraction which defines a logical set of Pods and a policy by which to access them\""
   ]
  },
  {
   "cell_type": "markdown",
   "metadata": {
    "slideshow": {
     "slide_type": "subslide"
    }
   },
   "source": [
    "# Apply the Manifest and Access Service\n",
    "\n",
    "```bash\n",
    "# create resources\n",
    "kubectl apply -f ./manifest.yaml\n",
    "# expose service and open in browser\n",
    "minikube service starlette\n",
    "```"
   ]
  },
  {
   "cell_type": "markdown",
   "metadata": {
    "slideshow": {
     "slide_type": "subslide"
    }
   },
   "source": [
    "# Finding your Service\n",
    "\n",
    "```bash\n",
    "$ kubectl get service\n",
    "NAME         TYPE           CLUSTER-IP    EXTERNAL-IP   PORT(S)           AGE\n",
    "kubernetes   ClusterIP      10.96.0.1     <none>        443/TCP           8d\n",
    "starlette    LoadBalancer   10.97.16.32   <pending>     18000:32105/TCP   47m\n",
    "$ minikube ip\n",
    "192.168.39.2\n",
    "```"
   ]
  },
  {
   "cell_type": "code",
   "execution_count": null,
   "metadata": {},
   "outputs": [],
   "source": []
  }
 ],
 "metadata": {
  "celltoolbar": "Slideshow",
  "kernelspec": {
   "display_name": "Python 3",
   "language": "python",
   "name": "python3"
  },
  "language_info": {
   "codemirror_mode": {
    "name": "ipython",
    "version": 3
   },
   "file_extension": ".py",
   "mimetype": "text/x-python",
   "name": "python",
   "nbconvert_exporter": "python",
   "pygments_lexer": "ipython3",
   "version": "3.7.5"
  }
 },
 "nbformat": 4,
 "nbformat_minor": 4
}
