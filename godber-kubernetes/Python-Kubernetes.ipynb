{
 "cells": [
  {
   "cell_type": "markdown",
   "metadata": {
    "slideshow": {
     "slide_type": "slide"
    }
   },
   "source": [
    "# Kubernetes and Python\n",
    "\n",
    "\n",
    "* Austin Godber\n",
    "*  \n",
    "@godber\n",
    "\n",
    "<img style=\"float: right\" height=\"180\" width=\"180\" src=\"Logo_DesertPy.png\">\n",
    "\n",
    "<img style=\"float: right\" height=\"180\" width=\"180\" src=\"kubernetes-logo.svg\">\n",
    "\n",
    "DesertPy - 2/26/2020"
   ]
  },
  {
   "cell_type": "markdown",
   "metadata": {
    "slideshow": {
     "slide_type": "subslide"
    }
   },
   "source": [
    "# Background\n",
    "\n",
    "* Containers\n",
    "* Kubernetes"
   ]
  },
  {
   "cell_type": "markdown",
   "metadata": {
    "slideshow": {
     "slide_type": "subslide"
    }
   },
   "source": [
    "## Containers\n",
    "\n",
    "* \"Single\" Lightweight Process (not VM)\n",
    "* Isolated\n",
    "  * Resource Management\n",
    "  * Resource Access\n",
    "* Managed Like Cattle not Pets\n",
    "* Docker, Containerd, CRI-O"
   ]
  },
  {
   "cell_type": "markdown",
   "metadata": {
    "slideshow": {
     "slide_type": "subslide"
    }
   },
   "source": [
    "# Containers\n",
    "\n",
    "<img src=\"container_evolution.svg\">\n",
    "\n",
    "- From [What is Kubernetes](https://kubernetes.io/docs/concepts/overview/what-is-kubernetes/)"
   ]
  },
  {
   "cell_type": "markdown",
   "metadata": {
    "slideshow": {
     "slide_type": "subslide"
    }
   },
   "source": [
    "# Containers aren't magic\n",
    "\n",
    "<!img src=\"containers.jpeg\">\n",
    "\n",
    "- From [Julia Evans](https://twitter.com/b0rk/status/1230606332681691136)"
   ]
  },
  {
   "cell_type": "markdown",
   "metadata": {
    "slideshow": {
     "slide_type": "subslide"
    }
   },
   "source": [
    "# Kubernetes\n",
    "\n",
    "> Kubernetes is a portable, extensible, open-source platform for managing containerized workloads and services, that facilitates both declarative configuration and automation.\n",
    "\n",
    "- From [What is Kubernetes](https://kubernetes.io/docs/concepts/overview/what-is-kubernetes/)"
   ]
  },
  {
   "cell_type": "markdown",
   "metadata": {
    "slideshow": {
     "slide_type": "subslide"
    }
   },
   "source": [
    "# Kubernetes\n",
    "\n",
    "* Service discovery and load balancing\n",
    "* Storage orchestration\n",
    "* Automated rollouts and rollbacks\n",
    "* Automatic bin packing\n",
    "* Self-healing (resource aware scheduling)\n",
    "* Secret and configuration management"
   ]
  },
  {
   "cell_type": "markdown",
   "metadata": {
    "slideshow": {
     "slide_type": "subslide"
    }
   },
   "source": [
    "> \"It's a container orchestration system.\" **- Austin**\n",
    "\n",
    "> Additionally, Kubernetes is not a mere orchestration system. **In fact, it eliminates the need for orchestration.** The technical definition of orchestration is execution of a defined workflow: first do A, then B, then C. In contrast, Kubernetes comprises a set of independent, composable control processes that continuously drive the current state towards the provided desired state. It shouldn’t matter how you get from A to C. Centralized control is also not required. This results in a system that is easier to use and more powerful, robust, resilient, and extensible. **- Kubernetes Docs**"
   ]
  },
  {
   "cell_type": "markdown",
   "metadata": {
    "slideshow": {
     "slide_type": "slide"
    }
   },
   "source": [
    "# Setup\n",
    "\n",
    "All of this can be done on a Linux or MacOS desktop if you have the following installed:\n",
    "\n",
    "* Python/Virtualenv - To build and test the App\n",
    "* Docker - To build and test the container image with the App\n",
    "* Minikube - To run a local dev Kuberenetes cluster (runs in VM*)"
   ]
  },
  {
   "cell_type": "markdown",
   "metadata": {
    "slideshow": {
     "slide_type": "notes"
    }
   },
   "source": [
    "The Runtime Options for Minikube Are:\n",
    "\n",
    "* Windows - ??\n",
    "* MacOS - HyperKit, VirtualBox, VMWare?\n",
    "* Linux - KVM, VirtualBox, \"none\" (local docker, No VM)"
   ]
  },
  {
   "cell_type": "markdown",
   "metadata": {
    "slideshow": {
     "slide_type": "slide"
    }
   },
   "source": [
    "# Python and Kubernetes?\n",
    "\n",
    "* Python Applications can be deployed in Kuberenetes\n",
    "* Kubernetes Can be managed/controlled by Python"
   ]
  },
  {
   "cell_type": "markdown",
   "metadata": {
    "slideshow": {
     "slide_type": "slide"
    }
   },
   "source": [
    "# Python Applications can be deployed in Kuberenetes\n",
    "\n",
    "* Make the app\n",
    "* Write the `Dockerfile`\n",
    "* Build the container Image\n",
    "* Create a Kubernetes `Deployment`\n",
    "* Apply the `Deployment`."
   ]
  },
  {
   "cell_type": "markdown",
   "metadata": {
    "slideshow": {
     "slide_type": "subslide"
    }
   },
   "source": [
    "# Make the App"
   ]
  },
  {
   "cell_type": "code",
   "execution_count": 1,
   "metadata": {
    "slideshow": {
     "slide_type": "-"
    }
   },
   "outputs": [
    {
     "name": "stdout",
     "output_type": "stream",
     "text": [
      "webapp/\r\n",
      "webapp/Dockerfile\r\n",
      "webapp/app\r\n",
      "webapp/app/main.py\r\n",
      "webapp/app/static\r\n",
      "webapp/__pycache__\r\n",
      "webapp/__pycache__/app.cpython-37.pyc\r\n"
     ]
    }
   ],
   "source": [
    "!find webapp/"
   ]
  },
  {
   "cell_type": "markdown",
   "metadata": {
    "slideshow": {
     "slide_type": "subslide"
    }
   },
   "source": [
    "# The App"
   ]
  },
  {
   "cell_type": "code",
   "execution_count": 2,
   "metadata": {
    "slideshow": {
     "slide_type": "-"
    }
   },
   "outputs": [
    {
     "name": "stdout",
     "output_type": "stream",
     "text": [
      "from starlette.applications import Starlette\r\n",
      "from starlette.config import Config\r\n",
      "from starlette.responses import PlainTextResponse\r\n",
      "from starlette.routing import Route, Mount\r\n",
      "from starlette.staticfiles import StaticFiles\r\n",
      "\r\n",
      "\r\n",
      "def homepage(request):\r\n",
      "    return PlainTextResponse(f'Hello, world!\\nCONFIGA: {CONFIGA}\\nCONFIGB: {CONFIGB}')\r\n",
      "\r\n"
     ]
    }
   ],
   "source": [
    "!head webapp/app/main.py"
   ]
  },
  {
   "cell_type": "markdown",
   "metadata": {
    "slideshow": {
     "slide_type": "subslide"
    }
   },
   "source": [
    "# A `Dockerfile`\n",
    "\n",
    "Describes how to build container image:\n",
    "\n",
    "```\n",
    "# special sauce in here, or danger\n",
    "# pull this thread:\n",
    "#   https://github.com/tiangolo/uvicorn-gunicorn-starlette-docker\n",
    "FROM tiangolo/uvicorn-gunicorn:python3.7-alpine3.8\n",
    "LABEL maintainer=\"Austin Godber <godber@uberhip.com>\"\n",
    "\n",
    "RUN pip install starlette aiofiles\n",
    "\n",
    "COPY ./app /app\n",
    "```"
   ]
  },
  {
   "cell_type": "markdown",
   "metadata": {
    "slideshow": {
     "slide_type": "subslide"
    }
   },
   "source": [
    "# Build Image\n",
    "\n",
    "```bash\n",
    "# Use Docker in Minikube\n",
    "eval $(minikube -p minikube docker-env)\n",
    "# Build image\n",
    "docker build -t starlette .\n",
    "\n",
    "Sending build context to Docker daemon  7.168kB\n",
    "Step 1/4 : FROM tiangolo/uvicorn-gunicorn:python3.7-alpine3.8\n",
    " ---> 9c64ae748955\n",
    "...\n",
    "Step 4/4 : COPY ./app /app\n",
    " ---> 729747cdcf14\n",
    "Successfully built 729747cdcf14\n",
    "Successfully tagged starlette:1\n",
    "```"
   ]
  },
  {
   "cell_type": "markdown",
   "metadata": {
    "slideshow": {
     "slide_type": "subslide"
    }
   },
   "source": [
    "# Run Image\n",
    "\n",
    "```bash\n",
    "docker run -p 8000:80 starlette:1\n",
    "```"
   ]
  },
  {
   "cell_type": "markdown",
   "metadata": {
    "slideshow": {
     "slide_type": "subslide"
    }
   },
   "source": [
    "# Create Kubernetes `Deployment`\n",
    "\n"
   ]
  },
  {
   "cell_type": "markdown",
   "metadata": {
    "slideshow": {
     "slide_type": "fragment"
    }
   },
   "source": [
    "A What?"
   ]
  },
  {
   "cell_type": "markdown",
   "metadata": {
    "slideshow": {
     "slide_type": "fragment"
    }
   },
   "source": [
    "Kubernetes is concept heavy and comprised of many layers of abstraction.  So .."
   ]
  },
  {
   "cell_type": "markdown",
   "metadata": {
    "slideshow": {
     "slide_type": "fragment"
    }
   },
   "source": [
    "A `Deployment` creates a `Replica Set`, which creates `Pods`, which run `Containers` that contain your app."
   ]
  },
  {
   "cell_type": "markdown",
   "metadata": {
    "slideshow": {
     "slide_type": "subslide"
    }
   },
   "source": [
    "# Manifest File\n",
    "\n",
    "* Specifies `Deployment` [[link](https://kubernetes.io/docs/concepts/workloads/controllers/deployment/)]\n",
    "* Specifies `Service` [[link](https://kubernetes.io/docs/concepts/services-networking/service/)]\n",
    "    * \"a Service is an abstraction which defines a logical set of Pods and a policy by which to access them\""
   ]
  },
  {
   "cell_type": "markdown",
   "metadata": {
    "slideshow": {
     "slide_type": "subslide"
    }
   },
   "source": [
    "# Apply the Manifest and Access Service\n",
    "\n",
    "```bash\n",
    "# create resources\n",
    "kubectl apply -f ./manifest.yaml\n",
    "# expose service and open in browser\n",
    "# this is a minikube cheat, see Ingress Controllers for prod\n",
    "minikube service starlette\n",
    "```"
   ]
  },
  {
   "cell_type": "markdown",
   "metadata": {
    "slideshow": {
     "slide_type": "subslide"
    }
   },
   "source": [
    "# Finding your Service\n",
    "\n",
    "How do you find the IP and port on your own? \n",
    "\n",
    "```bash\n",
    "# The IP is to the Minikube VM\n",
    "$ minikube ip\n",
    "192.168.39.2\n",
    "\n",
    "# The port is the Service LoadBlanacer Port\n",
    "$ kubectl get service\n",
    "NAME         TYPE           CLUSTER-IP    EXTERNAL-IP   PORT(S)           AGE\n",
    "kubernetes   ClusterIP      10.96.0.1     <none>        443/TCP           8d\n",
    "starlette    LoadBalancer   10.97.16.32   <pending>     18000:32105/TCP   47m\n",
    "```"
   ]
  },
  {
   "cell_type": "markdown",
   "metadata": {
    "slideshow": {
     "slide_type": "subslide"
    }
   },
   "source": [
    "# See Makefile\n",
    "\n",
    "Keeping track of all of these various commands and arguments gets fiddle-y.  I like to use a `Makefile` to make iterating faster.  See the included `Makefile` for tips.  This is NOT how to do production though.  Take a look at the `helm` and `helmfile` projects for that."
   ]
  },
  {
   "cell_type": "markdown",
   "metadata": {
    "slideshow": {
     "slide_type": "slide"
    }
   },
   "source": [
    "# Controlling Kubernetes with Python\n",
    "\n",
    "There is an official Kubernetes Python Client here:\n",
    "\n",
    "https://github.com/kubernetes-client/python\n",
    "\n",
    "Python Client Docs generated in the README.md:\n",
    "\n",
    "https://github.com/kubernetes-client/python/blob/master/kubernetes/README.md"
   ]
  },
  {
   "cell_type": "markdown",
   "metadata": {
    "slideshow": {
     "slide_type": "subslide"
    }
   },
   "source": [
    "# Also useful\n",
    "\n",
    "Kubernetes API Docs can be found here:\n",
    "\n",
    "https://kubernetes.io/docs/reference/generated/kubernetes-api/v1.17/"
   ]
  },
  {
   "cell_type": "markdown",
   "metadata": {
    "slideshow": {
     "slide_type": "subslide"
    }
   },
   "source": [
    "# Get API Instance"
   ]
  },
  {
   "cell_type": "code",
   "execution_count": 3,
   "metadata": {},
   "outputs": [],
   "source": [
    "from kubernetes import client, config\n",
    "from kubernetes.client.rest import ApiException\n",
    "\n",
    "# use .kube/config, could use token auth\n",
    "config.load_kube_config()\n",
    "\n",
    "core_api = client.CoreV1Api()"
   ]
  },
  {
   "cell_type": "markdown",
   "metadata": {
    "slideshow": {
     "slide_type": "subslide"
    }
   },
   "source": [
    "# Create Stub Config Map"
   ]
  },
  {
   "cell_type": "code",
   "execution_count": 4,
   "metadata": {},
   "outputs": [
    {
     "data": {
      "text/plain": [
       "{'api_version': None,\n",
       " 'binary_data': None,\n",
       " 'data': None,\n",
       " 'kind': None,\n",
       " 'metadata': None}"
      ]
     },
     "execution_count": 4,
     "metadata": {},
     "output_type": "execute_result"
    }
   ],
   "source": [
    "configmap = client.V1ConfigMap()\n",
    "configmap"
   ]
  },
  {
   "cell_type": "markdown",
   "metadata": {
    "slideshow": {
     "slide_type": "subslide"
    }
   },
   "source": [
    "# Fill in some details"
   ]
  },
  {
   "cell_type": "code",
   "execution_count": 5,
   "metadata": {},
   "outputs": [],
   "source": [
    "configmap.metadata = client.V1ObjectMeta(name=\"starlette\")\n",
    "configmap.data = {}\n",
    "configmap.data[\"CONFIGA\"] = \"True\""
   ]
  },
  {
   "cell_type": "markdown",
   "metadata": {
    "slideshow": {
     "slide_type": "subslide"
    }
   },
   "source": [
    "# What ConfigMaps do we have?\n",
    "\n",
    "None hopefully ..."
   ]
  },
  {
   "cell_type": "code",
   "execution_count": 6,
   "metadata": {},
   "outputs": [
    {
     "name": "stdout",
     "output_type": "stream",
     "text": [
      "No resources found in default namespace.\r\n"
     ]
    }
   ],
   "source": [
    "!kubectl get configmap"
   ]
  },
  {
   "cell_type": "markdown",
   "metadata": {
    "slideshow": {
     "slide_type": "subslide"
    }
   },
   "source": [
    "# Create the ConfigMap\n",
    "\n",
    "Call the `create_namespaced_config_map()` method on `core_api` to create the configmap in Kubernetes"
   ]
  },
  {
   "cell_type": "code",
   "execution_count": 7,
   "metadata": {},
   "outputs": [
    {
     "data": {
      "text/plain": [
       "{'api_version': 'v1',\n",
       " 'binary_data': None,\n",
       " 'data': {'CONFIGA': 'True'},\n",
       " 'kind': 'ConfigMap',\n",
       " 'metadata': {'annotations': None,\n",
       "              'cluster_name': None,\n",
       "              'creation_timestamp': datetime.datetime(2020, 2, 26, 15, 32, 44, tzinfo=tzutc()),\n",
       "              'deletion_grace_period_seconds': None,\n",
       "              'deletion_timestamp': None,\n",
       "              'finalizers': None,\n",
       "              'generate_name': None,\n",
       "              'generation': None,\n",
       "              'initializers': None,\n",
       "              'labels': None,\n",
       "              'managed_fields': None,\n",
       "              'name': 'starlette',\n",
       "              'namespace': 'default',\n",
       "              'owner_references': None,\n",
       "              'resource_version': '2260570',\n",
       "              'self_link': '/api/v1/namespaces/default/configmaps/starlette',\n",
       "              'uid': '2cdda70e-3445-4e4b-afbe-34523acf8012'}}"
      ]
     },
     "execution_count": 7,
     "metadata": {},
     "output_type": "execute_result"
    }
   ],
   "source": [
    "core_api.create_namespaced_config_map(namespace=\"default\", body=configmap)"
   ]
  },
  {
   "cell_type": "markdown",
   "metadata": {
    "slideshow": {
     "slide_type": "subslide"
    }
   },
   "source": [
    "# NOW what ConfigMaps do we have?"
   ]
  },
  {
   "cell_type": "code",
   "execution_count": 8,
   "metadata": {
    "slideshow": {
     "slide_type": "-"
    }
   },
   "outputs": [
    {
     "name": "stdout",
     "output_type": "stream",
     "text": [
      "NAME        DATA   AGE\r\n",
      "starlette   1      0s\r\n"
     ]
    }
   ],
   "source": [
    "!kubectl get configmap"
   ]
  },
  {
   "cell_type": "markdown",
   "metadata": {
    "slideshow": {
     "slide_type": "subslide"
    }
   },
   "source": [
    "# We can list them with the client too"
   ]
  },
  {
   "cell_type": "code",
   "execution_count": 9,
   "metadata": {},
   "outputs": [
    {
     "data": {
      "text/plain": [
       "{'api_version': 'v1',\n",
       " 'items': [{'api_version': None,\n",
       "            'binary_data': None,\n",
       "            'data': {'CONFIGA': 'True'},\n",
       "            'kind': None,\n",
       "            'metadata': {'annotations': None,\n",
       "                         'cluster_name': None,\n",
       "                         'creation_timestamp': datetime.datetime(2020, 2, 26, 15, 32, 44, tzinfo=tzutc()),\n",
       "                         'deletion_grace_period_seconds': None,\n",
       "                         'deletion_timestamp': None,\n",
       "                         'finalizers': None,\n",
       "                         'generate_name': None,\n",
       "                         'generation': None,\n",
       "                         'initializers': None,\n",
       "                         'labels': None,\n",
       "                         'managed_fields': None,\n",
       "                         'name': 'starlette',\n",
       "                         'namespace': 'default',\n",
       "                         'owner_references': None,\n",
       "                         'resource_version': '2260570',\n",
       "                         'self_link': '/api/v1/namespaces/default/configmaps/starlette',\n",
       "                         'uid': '2cdda70e-3445-4e4b-afbe-34523acf8012'}}],\n",
       " 'kind': 'ConfigMapList',\n",
       " 'metadata': {'_continue': None,\n",
       "              'resource_version': '2260570',\n",
       "              'self_link': '/api/v1/namespaces/default/configmaps'}}"
      ]
     },
     "execution_count": 9,
     "metadata": {},
     "output_type": "execute_result"
    }
   ],
   "source": [
    "core_api.list_namespaced_config_map(namespace=\"default\")"
   ]
  },
  {
   "cell_type": "markdown",
   "metadata": {
    "slideshow": {
     "slide_type": "subslide"
    }
   },
   "source": [
    "# They can be deleted"
   ]
  },
  {
   "cell_type": "code",
   "execution_count": 10,
   "metadata": {
    "slideshow": {
     "slide_type": "-"
    }
   },
   "outputs": [
    {
     "data": {
      "text/plain": [
       "{'api_version': 'v1',\n",
       " 'code': None,\n",
       " 'details': {'causes': None,\n",
       "             'group': None,\n",
       "             'kind': 'configmaps',\n",
       "             'name': 'starlette',\n",
       "             'retry_after_seconds': None,\n",
       "             'uid': '2cdda70e-3445-4e4b-afbe-34523acf8012'},\n",
       " 'kind': 'Status',\n",
       " 'message': None,\n",
       " 'metadata': {'_continue': None, 'resource_version': None, 'self_link': None},\n",
       " 'reason': None,\n",
       " 'status': 'Success'}"
      ]
     },
     "execution_count": 10,
     "metadata": {},
     "output_type": "execute_result"
    }
   ],
   "source": [
    "core_api.delete_namespaced_config_map(name=\"starlette\", namespace=\"default\", body=configmap)"
   ]
  },
  {
   "cell_type": "markdown",
   "metadata": {
    "slideshow": {
     "slide_type": "subslide"
    }
   },
   "source": [
    "# Gone!"
   ]
  },
  {
   "cell_type": "code",
   "execution_count": 11,
   "metadata": {},
   "outputs": [
    {
     "name": "stdout",
     "output_type": "stream",
     "text": [
      "No resources found in default namespace.\r\n"
     ]
    }
   ],
   "source": [
    "!kubectl get configmap"
   ]
  },
  {
   "cell_type": "markdown",
   "metadata": {
    "slideshow": {
     "slide_type": "subslide"
    }
   },
   "source": [
    "# CRUD\n",
    "\n",
    "Basic CRUD on all Kubernetes Resources.\n",
    "\n",
    "Keep in mind, we're just modifying **desired state** here, Kubernetes is doing the work in the background to make sure that the **actual state** matches the **desired state**.  It doesn't always work out."
   ]
  },
  {
   "cell_type": "markdown",
   "metadata": {
    "slideshow": {
     "slide_type": "slide"
    }
   },
   "source": [
    "# Other Roles for Python in Kubernetes\n",
    "\n",
    "* **Kopf**\n",
    "  * A Python framework to write Kubernetes operators in just few lines of code.\n",
    "  * https://github.com/zalando-incubator/kopf\n",
    "  * https://kopf.readthedocs.io/en/latest/\n",
    "* **pykube-ng** - Alternative client\n",
    "  *  Lightweight Python 3.6+ client library for Kubernetes (pykube-ng) \n",
    "  * https://github.com/hjacobs/pykube"
   ]
  },
  {
   "cell_type": "markdown",
   "metadata": {
    "slideshow": {
     "slide_type": "slide"
    }
   },
   "source": [
    "# Kubernetes and Python\n",
    "\n",
    "## Thank you!\n",
    "\n",
    "* Austin Godber\n",
    "*  \n",
    "@godber\n",
    "\n",
    "<img style=\"float: right\" height=\"180\" width=\"180\" src=\"Logo_DesertPy.png\">\n",
    "\n",
    "<img style=\"float: right\" height=\"180\" width=\"180\" src=\"kubernetes-logo.svg\">\n",
    "\n",
    "DesertPy - 2/26/2020"
   ]
  }
 ],
 "metadata": {
  "celltoolbar": "Slideshow",
  "kernelspec": {
   "display_name": "Python 3",
   "language": "python",
   "name": "python3"
  },
  "language_info": {
   "codemirror_mode": {
    "name": "ipython",
    "version": 3
   },
   "file_extension": ".py",
   "mimetype": "text/x-python",
   "name": "python",
   "nbconvert_exporter": "python",
   "pygments_lexer": "ipython3",
   "version": "3.7.5"
  }
 },
 "nbformat": 4,
 "nbformat_minor": 4
}
