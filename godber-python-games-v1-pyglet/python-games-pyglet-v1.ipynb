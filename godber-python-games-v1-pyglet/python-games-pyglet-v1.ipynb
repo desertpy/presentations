{
 "cells": [
  {
   "cell_type": "markdown",
   "metadata": {
    "nbpresent": {
     "id": "98bb223a-15b9-4be0-a8cf-2f087bc13787"
    },
    "slideshow": {
     "slide_type": "slide"
    }
   },
   "source": [
    "<table>\n",
    "    <tr style=\"background-color:white;\">\n",
    "        <td><img src=\"pyglet-logo.png\" alt=\"Pyglet Logo\" style=\"height:120px;\"></td>\n",
    "        <td><img src=\"python-logo-generic.svg\" alt=\"Python Logo\" style=\"height:120px;\"></td>\n",
    "    </tr>\n",
    "</table>\n",
    "\n",
    "# Introduction to Pyglet\n",
    "\n",
    "**Austin Godber**  \n",
    "**@godber**  \n",
    "DesertPy Co-Organizer  \n",
    "Meetup, Github and http://desertpy.com\n",
    "\n",
    "DesertPy - 11/28/2017"
   ]
  },
  {
   "cell_type": "markdown",
   "metadata": {
    "nbpresent": {
     "id": "67aa4d78-5a46-4cd0-a7ff-a249b56fb0e7"
    },
    "slideshow": {
     "slide_type": "subslide"
    }
   },
   "source": [
    "> As ususal, I am new to this, so I'll be learning along with you.  If you have insights you'd like to share, please do!"
   ]
  },
  {
   "cell_type": "markdown",
   "metadata": {
    "slideshow": {
     "slide_type": "subslide"
    }
   },
   "source": [
    "# Multiple Presentations\n",
    "\n",
    "* **First** - Tonight is just Pygley Basics\n",
    "* **Second** - Up next will walk through a 2D game build probably [this pyglet asteroids example](https://bitbucket.org/pyglet/pyglet/src/78ac898e06fc/examples/game/?at=default)\n",
    "* **Third** - 3D game example? OpenGL\n",
    "* **Fourth** - Who knows?"
   ]
  },
  {
   "cell_type": "markdown",
   "metadata": {
    "slideshow": {
     "slide_type": "subslide"
    }
   },
   "source": [
    "# Python For Games?\n",
    "\n",
    "Should we seriously be writing games in Python?\n",
    "\n",
    "* To get started? Sure!\n",
    "* For fun?  Sure!\n",
    "* For profit?  Not likely!\n",
    "\n",
    "Consider it a sandbox for programatic experimentation."
   ]
  },
  {
   "cell_type": "markdown",
   "metadata": {
    "nbpresent": {
     "id": "a1a230c0-4bef-4f60-83bf-8835a0120e8e"
    },
    "slideshow": {
     "slide_type": "slide"
    }
   },
   "source": [
    "# Game Programming in Python\n",
    "\n",
    "* PyGame - Simple Python Game Library\n",
    "  * https://www.pygame.org/news\n",
    "* Pyglet - Another simple Python Game Library\n",
    "* Cocos2d(py)\n",
    "* PySDL2\n",
    "* PyOpenGL\n",
    "* Blender\n",
    "* PyWeek - Python game programming competition."
   ]
  },
  {
   "cell_type": "markdown",
   "metadata": {
    "slideshow": {
     "slide_type": "subslide"
    }
   },
   "source": [
    "# Other Libraries\n",
    "\n",
    "* glooey - Object ORiented GUI library for pyglet\n",
    "* PyShaders - Pythonic OpenGL shader wrapper"
   ]
  },
  {
   "cell_type": "markdown",
   "metadata": {
    "nbpresent": {
     "id": "c9928b04-3a4a-490d-8608-bf8cd9909dab"
    },
    "slideshow": {
     "slide_type": "subslide"
    }
   },
   "source": [
    "# Game Components\n",
    "\n",
    "* Assets\n",
    "  * https://opengameart.org/ - 2D/3D, Music and Effects\n",
    "* 3D Assets\n",
    "  * https://poly.google.com/"
   ]
  },
  {
   "cell_type": "markdown",
   "metadata": {
    "nbpresent": {
     "id": "1bc45819-ff54-42eb-b96e-6e478cc3f563"
    },
    "slideshow": {
     "slide_type": "subslide"
    }
   },
   "source": [
    "# Why Pyglet?\n",
    "\n",
    "I have no idea really, mostly because it had GL in the name.\n",
    "\n",
    "As it turns out, it's docs are good and it has Python 3 compatibility so I decided to roll with it.\n",
    "\n",
    "http://pyglet.readthedocs.io/\n"
   ]
  },
  {
   "cell_type": "markdown",
   "metadata": {
    "nbpresent": {
     "id": "e5464c8a-2398-4159-8d86-58aa60460d44"
    },
    "slideshow": {
     "slide_type": "slide"
    }
   },
   "source": [
    "# Where to start?\n",
    "\n",
    "Games programming offers lots to explore.  So where do we start?"
   ]
  },
  {
   "cell_type": "markdown",
   "metadata": {
    "slideshow": {
     "slide_type": "fragment"
    }
   },
   "source": [
    "The most boring place possible ..."
   ]
  },
  {
   "cell_type": "markdown",
   "metadata": {
    "nbpresent": {
     "id": "fa827a72-715c-4b46-ae79-5e4933d16e04"
    },
    "slideshow": {
     "slide_type": "fragment"
    }
   },
   "source": [
    "Hello World, of course!"
   ]
  },
  {
   "cell_type": "markdown",
   "metadata": {
    "slideshow": {
     "slide_type": "subslide"
    }
   },
   "source": [
    "Start off by importing pyglet and create a Window object using the constructors default values:"
   ]
  },
  {
   "cell_type": "code",
   "execution_count": null,
   "metadata": {
    "nbpresent": {
     "id": "4d592bf5-bd57-4790-ba2a-df3f4bf7a242"
    },
    "slideshow": {
     "slide_type": "-"
    }
   },
   "outputs": [],
   "source": [
    "# %load -r 3-4 src/hw1.py\n",
    "import pyglet\n",
    "window = pyglet.window.Window()"
   ]
  },
  {
   "cell_type": "markdown",
   "metadata": {},
   "source": [
    "**Note:** Throughout this presentation I will use `%load` to load an external source file, it's in the repo, check it out if you want."
   ]
  },
  {
   "cell_type": "markdown",
   "metadata": {
    "slideshow": {
     "slide_type": "subslide"
    }
   },
   "source": [
    "Now we create a Pyglet [Label](http://pyglet.readthedocs.io/en/pyglet-1.2-maintenance/api/pyglet/text/pyglet.text.Label.html#pyglet.text.Label) object which is used to display text.  Note the used of the `window` object's properties."
   ]
  },
  {
   "cell_type": "code",
   "execution_count": null,
   "metadata": {},
   "outputs": [],
   "source": [
    "# %load -r 6-12 src/hw1.py\n",
    "label = pyglet.text.Label(\n",
    "    'Hello, world',\n",
    "    font_name='Times New Roman',\n",
    "    font_size=36,\n",
    "    x=window.width // 2, y=window.height // 2,\n",
    "    anchor_x='center', anchor_y='center'\n",
    ")"
   ]
  },
  {
   "cell_type": "markdown",
   "metadata": {
    "slideshow": {
     "slide_type": "subslide"
    }
   },
   "source": [
    "Setup the `on_draw` event handler that clears the window and draws the `label` defined earlier.  Lastly, we start up the event loop by calling `run()`."
   ]
  },
  {
   "cell_type": "code",
   "execution_count": null,
   "metadata": {},
   "outputs": [],
   "source": [
    "# %load -r 15-21 src/hw1.py\n",
    "@window.event\n",
    "def on_draw():\n",
    "    window.clear()\n",
    "    label.draw()\n",
    "\n",
    "\n",
    "pyglet.app.run()"
   ]
  },
  {
   "cell_type": "markdown",
   "metadata": {
    "slideshow": {
     "slide_type": "subslide"
    }
   },
   "source": [
    "That gets us the following gem ...\n",
    "\n",
    "<img src=hw1.png style=\"height:500px;\">"
   ]
  },
  {
   "cell_type": "markdown",
   "metadata": {
    "slideshow": {
     "slide_type": "subslide"
    }
   },
   "source": [
    "Not exciting and doesn't do much, but ..."
   ]
  },
  {
   "cell_type": "markdown",
   "metadata": {
    "slideshow": {
     "slide_type": "fragment"
    }
   },
   "source": [
    "technically, it was only eight lines of code ..."
   ]
  },
  {
   "cell_type": "markdown",
   "metadata": {
    "slideshow": {
     "slide_type": "fragment"
    }
   },
   "source": [
    "C++ might run faster, but this is a comfy place to start right?"
   ]
  },
  {
   "cell_type": "markdown",
   "metadata": {
    "slideshow": {
     "slide_type": "slide"
    }
   },
   "source": [
    "# Pyglet Overview\n",
    "\n",
    "Now that we've seen a bit of code, lets get a birds eye view of the library so we can understand what it offers."
   ]
  },
  {
   "cell_type": "markdown",
   "metadata": {
    "slideshow": {
     "slide_type": "subslide"
    }
   },
   "source": [
    "From [Pyglet API Reference](http://pyglet.readthedocs.io/en/pyglet-1.3-maintenance/#api-reference) (1 of 3)\n",
    "\n",
    "* `pyglet` - Top level module, debug options\n",
    "* `pyglet.app` - Contains main EventLoop class, you'll mostly just call `.run()`\n",
    "* `pyglet.canvas` - Display and screen management.\n",
    "* `pyglet.clock` - Precise framerate calculation, scheduling and framerate limiting.\n",
    "* `pyglet.event` - Event dispatch framework."
   ]
  },
  {
   "cell_type": "markdown",
   "metadata": {
    "slideshow": {
     "slide_type": "subslide"
    }
   },
   "source": [
    "From [Pyglet API Reference](http://pyglet.readthedocs.io/en/pyglet-1.3-maintenance/#api-reference) (2 of 3)\n",
    "\n",
    "* `pyglet.font` - Low level interface to load fonts and render text. Use `pyglet.text`.\n",
    "* `pyglet.gl` - OpenGL and GLU interface.\n",
    "* `pyglet.graphics` - Low-level abstraction over OpenGL for graphics rendering.\n",
    "* `pyglet.image` - Image load, capture and high-level texture functions.\n",
    "* `pyglet.info` - Get env info for debugging."
   ]
  },
  {
   "cell_type": "markdown",
   "metadata": {
    "slideshow": {
     "slide_type": "subslide"
    }
   },
   "source": [
    "From [Pyglet API Reference](http://pyglet.readthedocs.io/en/pyglet-1.3-maintenance/#api-reference) (3 of 3)\n",
    "\n",
    "* `pyglet.input` - Joystick, tablet and USB HID device support.\n",
    "* `pyglet.media` - Audio and video playback.\n",
    "* `pyglet.resource` - Load application resources from a known path.\n",
    "* `pyglet.sprite` - Display positioned, scaled and rotated images.\n",
    "* `pyglet.text` - Text formatting, layout and display.\n",
    "* `pyglet.window` - Windowing and user-interface events."
   ]
  },
  {
   "cell_type": "markdown",
   "metadata": {
    "slideshow": {
     "slide_type": "slide"
    }
   },
   "source": [
    "# Lets Explore these APIs\n",
    "\n",
    "You're likely to want to display some images ... lets try that ..."
   ]
  },
  {
   "cell_type": "code",
   "execution_count": null,
   "metadata": {
    "slideshow": {
     "slide_type": "subslide"
    }
   },
   "outputs": [],
   "source": [
    "# %load src/img1.py\n",
    "#!/usr/bin/env python\n",
    "import pyglet\n",
    "\n",
    "window = pyglet.window.Window()\n",
    "image = pyglet.resource.image('ground_tiles.png')\n",
    "\n",
    "@window.event\n",
    "def on_draw():\n",
    "    window.clear()\n",
    "    image.blit(0, 0)\n",
    "\n",
    "pyglet.app.run()\n"
   ]
  },
  {
   "cell_type": "markdown",
   "metadata": {
    "slideshow": {
     "slide_type": "subslide"
    }
   },
   "source": [
    "Magical!\n",
    "\n",
    "<img src=\"img1a.png\" style=\"height:500px;\">"
   ]
  },
  {
   "cell_type": "code",
   "execution_count": null,
   "metadata": {
    "slideshow": {
     "slide_type": "subslide"
    }
   },
   "outputs": [],
   "source": [
    "# %load -r 1-5 src/img1.py\n",
    "#!/usr/bin/env python\n",
    "import pyglet\n",
    "\n",
    "window = pyglet.window.Window()\n",
    "image = pyglet.resource.image('ground_tiles.png')"
   ]
  },
  {
   "cell_type": "markdown",
   "metadata": {
    "slideshow": {
     "slide_type": "-"
    }
   },
   "source": [
    "Why are we using this `pyglet.resource.image()` instead of just `pyglet.image`?"
   ]
  },
  {
   "cell_type": "markdown",
   "metadata": {
    "slideshow": {
     "slide_type": "notes"
    }
   },
   "source": [
    "`pyglet.resource.image()` is a convenience function that loads an image relative to the source file and returns an Image object.  You could use some form of `pyglet.image.load()` instead if you wanted."
   ]
  },
  {
   "cell_type": "code",
   "execution_count": null,
   "metadata": {
    "slideshow": {
     "slide_type": "subslide"
    }
   },
   "outputs": [],
   "source": [
    "# %load -r 7-12 src/img1.py\n",
    "@window.event\n",
    "def on_draw():\n",
    "    window.clear()\n",
    "    image.blit(0, 0)\n",
    "\n",
    "pyglet.app.run()"
   ]
  },
  {
   "cell_type": "markdown",
   "metadata": {},
   "source": [
    "We've seen an event handler and `window.clear()`, what's this [`blit()`](http://pyglet.readthedocs.io/en/pyglet-1.3-maintenance/modules/image/index.html#pyglet.image.AbstractImage.blit) method on our image object?"
   ]
  },
  {
   "cell_type": "markdown",
   "metadata": {
    "slideshow": {
     "slide_type": "notes"
    }
   },
   "source": [
    "`blit()` draws the image into the active framebuffer at the x, y coordinates specified by the arguments."
   ]
  },
  {
   "cell_type": "markdown",
   "metadata": {
    "slideshow": {
     "slide_type": "slide"
    }
   },
   "source": [
    "# Handling input"
   ]
  },
  {
   "cell_type": "code",
   "execution_count": null,
   "metadata": {},
   "outputs": [],
   "source": [
    "# %load src/input1.py\n",
    "import pyglet\n",
    "\n",
    "window = pyglet.window.Window()\n",
    "\n",
    "@window.event\n",
    "def on_key_press(symbol, modifiers):\n",
    "    print('A key was pressed: Symbol: %s, Modifier: %s' % (symbol, modifiers))\n",
    "\n",
    "@window.event\n",
    "def on_draw():\n",
    "    window.clear()\n",
    "\n",
    "pyglet.app.run()\n"
   ]
  },
  {
   "cell_type": "code",
   "execution_count": null,
   "metadata": {
    "slideshow": {
     "slide_type": "subslide"
    }
   },
   "outputs": [],
   "source": [
    "# %load -r 5-7 src/input1.py\n",
    "@window.event\n",
    "def on_key_press(symbol, modifiers):\n",
    "    print('A key was pressed: Symbol: %s, Modifier: %s' % (symbol, modifiers))"
   ]
  },
  {
   "cell_type": "markdown",
   "metadata": {
    "slideshow": {
     "slide_type": "-"
    }
   },
   "source": [
    "Handling the `on_key_press` event provides you with `symbol` and `modifier` info that you can decode with [`pyglet.window.key`](http://pyglet.readthedocs.io/en/pyglet-1.3-maintenance/modules/window_key.html#module-pyglet.window.key)"
   ]
  },
  {
   "cell_type": "markdown",
   "metadata": {
    "slideshow": {
     "slide_type": "subslide"
    }
   },
   "source": [
    "Pressing: a, b, SPACE, SHIFT+a, up, right, down, left, SHIFT+left, SHIFT+up, SHIFT+right, SHIFT+down, ESC\n",
    "<img src=input1.png>"
   ]
  },
  {
   "cell_type": "markdown",
   "metadata": {
    "slideshow": {
     "slide_type": "subslide"
    }
   },
   "source": [
    "# Handling a mouse event"
   ]
  },
  {
   "cell_type": "code",
   "execution_count": null,
   "metadata": {},
   "outputs": [],
   "source": [
    "# %load -r 10-13 src/input2.py\n",
    "@window.event\n",
    "def on_mouse_press(x, y, button, modifiers):\n",
    "    if button == pyglet.window.mouse.LEFT:\n",
    "        print('The left mouse button was pressed.')"
   ]
  },
  {
   "cell_type": "markdown",
   "metadata": {
    "slideshow": {
     "slide_type": "subslide"
    }
   },
   "source": [
    "# Printing all Events"
   ]
  },
  {
   "cell_type": "code",
   "execution_count": null,
   "metadata": {},
   "outputs": [],
   "source": [
    "# %load src/input3.py\n",
    "import pyglet\n",
    "\n",
    "window = pyglet.window.Window()\n",
    "window.push_handlers(pyglet.window.event.WindowEventLogger())\n",
    "\n",
    "@window.event\n",
    "def on_draw():\n",
    "    window.clear()\n",
    "\n",
    "pyglet.app.run()\n"
   ]
  },
  {
   "cell_type": "markdown",
   "metadata": {
    "slideshow": {
     "slide_type": "subslide"
    }
   },
   "source": [
    "# Playing a sound"
   ]
  },
  {
   "cell_type": "code",
   "execution_count": null,
   "metadata": {},
   "outputs": [],
   "source": [
    "# %load src/sound1.py\n",
    "import pyglet\n",
    "\n",
    "window = pyglet.window.Window()\n",
    "sound = pyglet.resource.media('resources/bullet.wav', streaming=False)\n",
    "\n",
    "@window.event\n",
    "def on_key_press(symbol, modifiers):\n",
    "    print('A key was pressed: Symbol: %s, Modifier: %s' % (symbol, modifiers))\n",
    "    if symbol == pyglet.window.key.SPACE:\n",
    "        sound.play()\n",
    "\n",
    "@window.event\n",
    "def on_draw():\n",
    "    window.clear()\n",
    "\n",
    "pyglet.app.run()\n"
   ]
  },
  {
   "cell_type": "code",
   "execution_count": null,
   "metadata": {},
   "outputs": [],
   "source": []
  }
 ],
 "metadata": {
  "celltoolbar": "Slideshow",
  "kernelspec": {
   "display_name": "Python [conda env:desertpy-2017-v1]",
   "language": "python",
   "name": "conda-env-desertpy-2017-v1-py"
  },
  "language_info": {
   "codemirror_mode": {
    "name": "ipython",
    "version": 3
   },
   "file_extension": ".py",
   "mimetype": "text/x-python",
   "name": "python",
   "nbconvert_exporter": "python",
   "pygments_lexer": "ipython3",
   "version": "3.6.3"
  }
 },
 "nbformat": 4,
 "nbformat_minor": 2
}
