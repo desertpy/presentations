{
 "cells": [
  {
   "cell_type": "markdown",
   "metadata": {
    "nbpresent": {
     "id": "98bb223a-15b9-4be0-a8cf-2f087bc13787"
    },
    "slideshow": {
     "slide_type": "slide"
    }
   },
   "source": [
    "<table>\n",
    "    <tr style=\"background-color:white;\">\n",
    "        <td><img src=\"pyglet-logo.png\" alt=\"Pyglet Logo\" style=\"height:120px;\"></td>\n",
    "        <td><img src=\"python-logo-generic.svg\" alt=\"Python Logo\" style=\"height:120px;\"></td>\n",
    "    </tr>\n",
    "</table>\n",
    "## Introduction to Pyglet\n",
    "\n",
    "**Austin Godber**  \n",
    "**@godber**  \n",
    "Meetup / Github / forums.desertpy.com / desertpy.com\n",
    "\n",
    "DesertPy - 01/09/2018 - https://goo.gl/fT9FyD"
   ]
  },
  {
   "cell_type": "markdown",
   "metadata": {
    "nbpresent": {
     "id": "67aa4d78-5a46-4cd0-a7ff-a249b56fb0e7"
    },
    "slideshow": {
     "slide_type": "subslide"
    }
   },
   "source": [
    "> As ususal, I am new to this, so I'll be learning along with you.  If you have insights you'd like to share, please do!"
   ]
  },
  {
   "cell_type": "markdown",
   "metadata": {
    "slideshow": {
     "slide_type": "subslide"
    }
   },
   "source": [
    "# Setup\n",
    "\n",
    "Following along with the desertpy [conda](https://docs.anaconda.com/anaconda/install/) environment on macOS\n",
    "\n",
    "```\n",
    "conda env create godber/desertpy-2017-v2\n",
    "source activate desertpy-2017-v2\n",
    "```\n",
    "\n",
    "If anyone makes an environment for Linux or Windows let me know."
   ]
  },
  {
   "cell_type": "markdown",
   "metadata": {
    "slideshow": {
     "slide_type": "subslide"
    }
   },
   "source": [
    "# Multiple Presentations\n",
    "\n",
    "* **First** - Tonight is just Pygley Basics\n",
    "* **Second** - Up next, walk through a 2D game build\n",
    "  * Maybe [this pyglet asteroids example](https://bitbucket.org/pyglet/pyglet/src/78ac898e06fc/examples/game/?at=default)\n",
    "* **Third** - 3D/OpenGL examples ??\n",
    "* **Fourth** - Who knows?"
   ]
  },
  {
   "cell_type": "markdown",
   "metadata": {
    "slideshow": {
     "slide_type": "subslide"
    }
   },
   "source": [
    "# Python For Games?\n",
    "\n",
    "Should we seriously be writing games in Python?\n",
    "\n",
    "* To get started? Sure!\n",
    "* For fun?  Sure!\n",
    "* For profit?  Not likely!\n",
    "\n",
    "Consider it a sandbox for programatic experimentation."
   ]
  },
  {
   "cell_type": "markdown",
   "metadata": {
    "nbpresent": {
     "id": "a1a230c0-4bef-4f60-83bf-8835a0120e8e"
    },
    "slideshow": {
     "slide_type": "slide"
    }
   },
   "source": [
    "# Game Programming in Python\n",
    "\n",
    "* PyGame - Simple Python Game Library\n",
    "  * https://www.pygame.org/news\n",
    "* Pyglet - Another simple Python Game Library\n",
    "* Cocos2d(py)\n",
    "* PySDL2\n",
    "* PyOpenGL\n",
    "* Blender\n",
    "* PyWeek - Python game programming competition."
   ]
  },
  {
   "cell_type": "markdown",
   "metadata": {
    "slideshow": {
     "slide_type": "subslide"
    }
   },
   "source": [
    "# Other Libraries\n",
    "\n",
    "* glooey - Object Oriented GUI library for pyglet\n",
    "* PyShaders - Pythonic OpenGL shader wrapper"
   ]
  },
  {
   "cell_type": "markdown",
   "metadata": {
    "nbpresent": {
     "id": "c9928b04-3a4a-490d-8608-bf8cd9909dab"
    },
    "slideshow": {
     "slide_type": "subslide"
    }
   },
   "source": [
    "# Game Components\n",
    "\n",
    "* Assets\n",
    "  * https://opengameart.org/ - 2D/3D, Music and Effects\n",
    "* 3D Assets\n",
    "  * https://poly.google.com/\n",
    "  * sketchfab\n",
    "  * 3D Warehouse?\n",
    "  * Revit (Architecture thingy)"
   ]
  },
  {
   "cell_type": "markdown",
   "metadata": {
    "nbpresent": {
     "id": "1bc45819-ff54-42eb-b96e-6e478cc3f563"
    },
    "slideshow": {
     "slide_type": "subslide"
    }
   },
   "source": [
    "# Why Pyglet?\n",
    "\n",
    "I have no idea really, mostly because it had GL in the name.\n",
    "\n",
    "As it turns out, it's docs are good and it has Python 3 compatibility so I decided to roll with it.\n",
    "\n",
    "http://pyglet.readthedocs.io/\n"
   ]
  },
  {
   "cell_type": "markdown",
   "metadata": {
    "nbpresent": {
     "id": "e5464c8a-2398-4159-8d86-58aa60460d44"
    },
    "slideshow": {
     "slide_type": "slide"
    }
   },
   "source": [
    "# Where to start?\n",
    "\n",
    "Games programming offers lots to explore.  So where do we start?"
   ]
  },
  {
   "cell_type": "markdown",
   "metadata": {
    "slideshow": {
     "slide_type": "fragment"
    }
   },
   "source": [
    "The most boring place possible ..."
   ]
  },
  {
   "cell_type": "markdown",
   "metadata": {
    "nbpresent": {
     "id": "fa827a72-715c-4b46-ae79-5e4933d16e04"
    },
    "slideshow": {
     "slide_type": "fragment"
    }
   },
   "source": [
    "Hello World, of course!"
   ]
  },
  {
   "cell_type": "markdown",
   "metadata": {
    "slideshow": {
     "slide_type": "subslide"
    }
   },
   "source": [
    "Start off by importing pyglet and create a Window object using the constructors default values:"
   ]
  },
  {
   "cell_type": "code",
   "execution_count": null,
   "metadata": {
    "nbpresent": {
     "id": "4d592bf5-bd57-4790-ba2a-df3f4bf7a242"
    },
    "slideshow": {
     "slide_type": "-"
    }
   },
   "outputs": [],
   "source": [
    "# %load -r 3-4 src/hw1.py\n",
    "import pyglet\n",
    "window = pyglet.window.Window()"
   ]
  },
  {
   "cell_type": "markdown",
   "metadata": {},
   "source": [
    "**Note:** Throughout this presentation I will use `%load` to load an external source file, it's in the repo, check it out if you want."
   ]
  },
  {
   "cell_type": "markdown",
   "metadata": {
    "slideshow": {
     "slide_type": "subslide"
    }
   },
   "source": [
    "Now we create a Pyglet [Label](http://pyglet.readthedocs.io/en/pyglet-1.2-maintenance/api/pyglet/text/pyglet.text.Label.html#pyglet.text.Label) object which is used to display text.  Note the used of the `window` object's properties."
   ]
  },
  {
   "cell_type": "code",
   "execution_count": null,
   "metadata": {},
   "outputs": [],
   "source": [
    "# %load -r 6-12 src/hw1.py\n",
    "label = pyglet.text.Label(\n",
    "    'Hello, world',\n",
    "    font_name='Times New Roman',\n",
    "    font_size=36,\n",
    "    x=window.width // 2, y=window.height // 2,\n",
    "    anchor_x='center', anchor_y='center'\n",
    ")"
   ]
  },
  {
   "cell_type": "markdown",
   "metadata": {
    "slideshow": {
     "slide_type": "subslide"
    }
   },
   "source": [
    "Setup the `on_draw` event handler that clears the window and draws the `label` defined earlier.  Lastly, we start up the event loop by calling `run()`."
   ]
  },
  {
   "cell_type": "code",
   "execution_count": null,
   "metadata": {},
   "outputs": [],
   "source": [
    "# %load -r 15-21 src/hw1.py\n",
    "@window.event\n",
    "def on_draw():\n",
    "    window.clear()\n",
    "    label.draw()\n",
    "\n",
    "\n",
    "pyglet.app.run()"
   ]
  },
  {
   "cell_type": "markdown",
   "metadata": {
    "slideshow": {
     "slide_type": "subslide"
    }
   },
   "source": [
    "That gets us the following gem ...\n",
    "\n",
    "<img src=hw1.png style=\"height:500px;\">"
   ]
  },
  {
   "cell_type": "markdown",
   "metadata": {
    "slideshow": {
     "slide_type": "subslide"
    }
   },
   "source": [
    "Not exciting and doesn't do much, but ..."
   ]
  },
  {
   "cell_type": "markdown",
   "metadata": {
    "slideshow": {
     "slide_type": "fragment"
    }
   },
   "source": [
    "technically, it was only eight lines of code ..."
   ]
  },
  {
   "cell_type": "markdown",
   "metadata": {
    "slideshow": {
     "slide_type": "fragment"
    }
   },
   "source": [
    "C++ might run faster, but this is a comfy place to start right?"
   ]
  },
  {
   "cell_type": "markdown",
   "metadata": {
    "slideshow": {
     "slide_type": "slide"
    }
   },
   "source": [
    "# Pyglet Event Loop\n",
    "\n",
    "In order to let pyglet process operating system events such as mouse and keyboard events, applications need to enter an application event loop. The event loop continuously checks for new events, dispatches those events, and updates the contents of all open windows.\n",
    "\n",
    "[Event Loop Docs](http://pyglet.readthedocs.io/en/pyglet-1.3-maintenance/programming_guide/eventloop.html)"
   ]
  },
  {
   "cell_type": "markdown",
   "metadata": {
    "slideshow": {
     "slide_type": "subslide"
    }
   },
   "source": [
    "## Starting/Exiting the loop\n",
    "\n",
    "Call `pyglet.app.run()` to enter the event loop after creating their initial set of windows and attaching event handlers. The `run()` function does not return until all open windows have been closed, or until `pyglet.app.exit()` is called.\n",
    "\n",
    "[Event Loop Docs](http://pyglet.readthedocs.io/en/pyglet-1.3-maintenance/programming_guide/eventloop.html)"
   ]
  },
  {
   "cell_type": "markdown",
   "metadata": {
    "slideshow": {
     "slide_type": "subslide"
    }
   },
   "source": [
    "## Event Dispatch\n",
    "\n",
    "The pyglet application event loop dispatches window events (such as for mouse and keyboard input) as they occur and dispatches the `on_draw()` event to each window after every iteration through the loop.\n",
    "\n",
    "[Event Loop Docs](http://pyglet.readthedocs.io/en/pyglet-1.3-maintenance/programming_guide/eventloop.html)"
   ]
  },
  {
   "cell_type": "markdown",
   "metadata": {
    "slideshow": {
     "slide_type": "subslide"
    }
   },
   "source": [
    "## Scheduling other Actions\n",
    "\n",
    "To have additional code run periodically or every iteration through the loop, schedule functions on the clock. Pyglet ensures that the loop iterates only as often as necessary to fulfill all scheduled functions and user input.\n",
    "\n",
    "[Event Loop Docs](http://pyglet.readthedocs.io/en/pyglet-1.3-maintenance/programming_guide/eventloop.html)"
   ]
  },
  {
   "cell_type": "markdown",
   "metadata": {
    "slideshow": {
     "slide_type": "slide"
    }
   },
   "source": [
    "# Event Handlers\n",
    "\n",
    "An **event dispatcher** is an object that has events it needs to notify other objects about, and an **event handler** is some code that can be attached to a dispatcher.\n",
    "\n",
    "[Event Docs](http://pyglet.readthedocs.io/en/pyglet-1.3-maintenance/programming_guide/events.html)"
   ]
  },
  {
   "cell_type": "markdown",
   "metadata": {
    "slideshow": {
     "slide_type": "subslide"
    }
   },
   "source": [
    "## Defining an Event Handler\n",
    "\n",
    "An event handler is a function with a formal parameter list corresponding to the event type. For example, the `pyglet.window.Window.on_resize()` event has the parameters `(width, height)`"
   ]
  },
  {
   "cell_type": "markdown",
   "metadata": {
    "slideshow": {
     "slide_type": "subslide"
    }
   },
   "source": [
    "Replacing the `on_resize` event handler on `window`:\n",
    "\n",
    "```python\n",
    "window = pyglet.window.Window()\n",
    "\n",
    "def on_resize(width, height):\n",
    "    pass\n",
    "window.on_resize = on_resize\n",
    "```"
   ]
  },
  {
   "cell_type": "markdown",
   "metadata": {
    "slideshow": {
     "slide_type": "subslide"
    }
   },
   "source": [
    "Using the `event` decorator to add an additional event handler for the `on_resize` event:\n",
    "\n",
    "```python\n",
    "window = window.Window()\n",
    "\n",
    "@window.event\n",
    "def on_resize(width, height):\n",
    "    pass\n",
    "```\n",
    "\n",
    "Note: the function name is used to identify the event."
   ]
  },
  {
   "cell_type": "markdown",
   "metadata": {
    "slideshow": {
     "slide_type": "subslide"
    }
   },
   "source": [
    "Using the `event` decorator to add an additional event handler for the `on_resize` event by explicitly passing the event name:\n",
    "\n",
    "```python\n",
    "window = window.Window()\n",
    "\n",
    "@window.event('on_resize')\n",
    "def my_resize_handler(width, height):\n",
    "    pass\n",
    "```"
   ]
  },
  {
   "cell_type": "markdown",
   "metadata": {
    "slideshow": {
     "slide_type": "subslide"
    }
   },
   "source": [
    "## Notes about `on_draw()`\n",
    "\n",
    "The EventLoop will dispatch this event when the window should be redrawn.\n",
    "\n",
    "So, our event handler for `on_draw()` needs to draw the contents of the window appropriately.\n",
    "\n",
    "[on_draw() docs](http://pyglet.readthedocs.io/en/pyglet-1.3-maintenance/modules/window.html#pyglet.window.Window.on_draw)"
   ]
  },
  {
   "cell_type": "markdown",
   "metadata": {
    "slideshow": {
     "slide_type": "slide"
    }
   },
   "source": [
    "# Pyglet Library Overview\n",
    "\n",
    "Now that we've seen a bit of code and know about the run loop and event handling, lets get a birds eye view of the library so we can understand what it offers."
   ]
  },
  {
   "cell_type": "markdown",
   "metadata": {
    "slideshow": {
     "slide_type": "subslide"
    }
   },
   "source": [
    "From [Pyglet API Reference](http://pyglet.readthedocs.io/en/pyglet-1.3-maintenance/#api-reference) (1 of 3)\n",
    "\n",
    "* `pyglet` - Top level module, debug options\n",
    "* `pyglet.app` - Contains main EventLoop class, you'll mostly just call `.run()`\n",
    "* `pyglet.canvas` - Display and screen management.\n",
    "* `pyglet.clock` - Precise framerate calculation, scheduling and framerate limiting.\n",
    "* `pyglet.event` - Event dispatch framework."
   ]
  },
  {
   "cell_type": "markdown",
   "metadata": {
    "slideshow": {
     "slide_type": "subslide"
    }
   },
   "source": [
    "From [Pyglet API Reference](http://pyglet.readthedocs.io/en/pyglet-1.3-maintenance/#api-reference) (2 of 3)\n",
    "\n",
    "* `pyglet.font` - Low level interface to load fonts and render text. Use `pyglet.text`.\n",
    "* `pyglet.gl` - OpenGL and GLU interface.\n",
    "* `pyglet.graphics` - Low-level abstraction over OpenGL for graphics rendering.\n",
    "* `pyglet.image` - Image load, capture and high-level texture functions.\n",
    "* `pyglet.info` - Get env info for debugging."
   ]
  },
  {
   "cell_type": "markdown",
   "metadata": {
    "slideshow": {
     "slide_type": "subslide"
    }
   },
   "source": [
    "From [Pyglet API Reference](http://pyglet.readthedocs.io/en/pyglet-1.3-maintenance/#api-reference) (3 of 3)\n",
    "\n",
    "* `pyglet.input` - Joystick, tablet and USB HID device support.\n",
    "* `pyglet.media` - Audio and video playback.\n",
    "* `pyglet.resource` - Load application resources from a known path.\n",
    "* `pyglet.sprite` - Display positioned, scaled and rotated images.\n",
    "* `pyglet.text` - Text formatting, layout and display.\n",
    "* `pyglet.window` - Windowing and user-interface events."
   ]
  },
  {
   "cell_type": "markdown",
   "metadata": {
    "slideshow": {
     "slide_type": "slide"
    }
   },
   "source": [
    "# Lets Explore these APIs\n",
    "\n",
    "You're likely to want to display some images ... lets try that ..."
   ]
  },
  {
   "cell_type": "code",
   "execution_count": null,
   "metadata": {
    "slideshow": {
     "slide_type": "subslide"
    }
   },
   "outputs": [],
   "source": [
    "# %load src/img1.py\n",
    "#!/usr/bin/env python\n",
    "import pyglet\n",
    "\n",
    "window = pyglet.window.Window()\n",
    "image = pyglet.resource.image('ground_tiles.png')\n",
    "\n",
    "@window.event\n",
    "def on_draw():\n",
    "    window.clear()\n",
    "    image.blit(0, 0)\n",
    "\n",
    "pyglet.app.run()\n"
   ]
  },
  {
   "cell_type": "markdown",
   "metadata": {
    "slideshow": {
     "slide_type": "subslide"
    }
   },
   "source": [
    "Magical !\n",
    "<img src=\"img1a.png\" style=\"height:500px;\">"
   ]
  },
  {
   "cell_type": "markdown",
   "metadata": {
    "slideshow": {
     "slide_type": "subslide"
    }
   },
   "source": [
    "Why are we using this `pyglet.resource.image()` instead of just `pyglet.image`?"
   ]
  },
  {
   "cell_type": "code",
   "execution_count": null,
   "metadata": {
    "slideshow": {
     "slide_type": "-"
    }
   },
   "outputs": [],
   "source": [
    "# %load -r 1-5 src/img1.py\n",
    "#!/usr/bin/env python\n",
    "import pyglet\n",
    "\n",
    "window = pyglet.window.Window()\n",
    "image = pyglet.resource.image('ground_tiles.png')"
   ]
  },
  {
   "cell_type": "markdown",
   "metadata": {
    "slideshow": {
     "slide_type": "notes"
    }
   },
   "source": [
    "`pyglet.resource.image()` is a convenience function that loads an image relative to the source file and returns an Image object.  You could use some form of `pyglet.image.load()` instead if you wanted but you'd have to goof around to provide the path."
   ]
  },
  {
   "cell_type": "markdown",
   "metadata": {
    "slideshow": {
     "slide_type": "subslide"
    }
   },
   "source": [
    "We've seen an event handler and `window.clear()`, what's this [`blit()`](http://pyglet.readthedocs.io/en/pyglet-1.3-maintenance/modules/image/index.html#pyglet.image.AbstractImage.blit) method on our image object?"
   ]
  },
  {
   "cell_type": "code",
   "execution_count": null,
   "metadata": {
    "slideshow": {
     "slide_type": "-"
    }
   },
   "outputs": [],
   "source": [
    "# %load -r 7-12 src/img1.py\n",
    "@window.event\n",
    "def on_draw():\n",
    "    window.clear()\n",
    "    image.blit(0, 0)\n",
    "\n",
    "pyglet.app.run()"
   ]
  },
  {
   "cell_type": "markdown",
   "metadata": {
    "slideshow": {
     "slide_type": "notes"
    }
   },
   "source": [
    "`blit()` draws the image into the active framebuffer at the x, y coordinates specified by the arguments."
   ]
  },
  {
   "cell_type": "markdown",
   "metadata": {
    "slideshow": {
     "slide_type": "slide"
    }
   },
   "source": [
    "# Handling input"
   ]
  },
  {
   "cell_type": "code",
   "execution_count": null,
   "metadata": {},
   "outputs": [],
   "source": [
    "# %load src/input1.py\n",
    "import pyglet\n",
    "\n",
    "window = pyglet.window.Window()\n",
    "\n",
    "@window.event\n",
    "def on_key_press(symbol, modifiers):\n",
    "    print('A key was pressed: Symbol: %s, Modifier: %s' % (symbol, modifiers))\n",
    "\n",
    "@window.event\n",
    "def on_draw():\n",
    "    window.clear()\n",
    "\n",
    "pyglet.app.run()\n"
   ]
  },
  {
   "cell_type": "code",
   "execution_count": null,
   "metadata": {
    "slideshow": {
     "slide_type": "subslide"
    }
   },
   "outputs": [],
   "source": [
    "# %load -r 5-7 src/input1.py\n",
    "@window.event\n",
    "def on_key_press(symbol, modifiers):\n",
    "    print('A key was pressed: Symbol: %s, Modifier: %s' % (symbol, modifiers))"
   ]
  },
  {
   "cell_type": "markdown",
   "metadata": {
    "slideshow": {
     "slide_type": "-"
    }
   },
   "source": [
    "Handling the `on_key_press` event provides you with `symbol` and `modifier` info that you can decode with [`pyglet.window.key`](http://pyglet.readthedocs.io/en/pyglet-1.3-maintenance/modules/window_key.html#module-pyglet.window.key)"
   ]
  },
  {
   "cell_type": "markdown",
   "metadata": {
    "slideshow": {
     "slide_type": "subslide"
    }
   },
   "source": [
    "Pressing: a, b, SPACE, SHIFT+a, up, right, down, left, SHIFT+left, SHIFT+up, SHIFT+right, SHIFT+down, ESC\n",
    "<img src=input1.png>"
   ]
  },
  {
   "cell_type": "markdown",
   "metadata": {
    "slideshow": {
     "slide_type": "subslide"
    }
   },
   "source": [
    "# Handling a mouse event"
   ]
  },
  {
   "cell_type": "code",
   "execution_count": null,
   "metadata": {},
   "outputs": [],
   "source": [
    "# %load -r 10-13 src/input2.py\n",
    "@window.event\n",
    "def on_mouse_press(x, y, button, modifiers):\n",
    "    if button == pyglet.window.mouse.LEFT:\n",
    "        print('The left mouse button was pressed.')"
   ]
  },
  {
   "cell_type": "markdown",
   "metadata": {
    "slideshow": {
     "slide_type": "subslide"
    }
   },
   "source": [
    "# Printing all Events"
   ]
  },
  {
   "cell_type": "code",
   "execution_count": null,
   "metadata": {},
   "outputs": [],
   "source": [
    "# %load src/input3.py\n",
    "import pyglet\n",
    "\n",
    "window = pyglet.window.Window()\n",
    "window.push_handlers(pyglet.window.event.WindowEventLogger())\n",
    "\n",
    "@window.event\n",
    "def on_draw():\n",
    "    window.clear()\n",
    "\n",
    "pyglet.app.run()\n"
   ]
  },
  {
   "cell_type": "markdown",
   "metadata": {
    "slideshow": {
     "slide_type": "subslide"
    }
   },
   "source": [
    "<img src=\"input3.png\" style=\"height:500px\">"
   ]
  },
  {
   "cell_type": "markdown",
   "metadata": {
    "slideshow": {
     "slide_type": "subslide"
    }
   },
   "source": [
    "# Playing a sound"
   ]
  },
  {
   "cell_type": "code",
   "execution_count": null,
   "metadata": {},
   "outputs": [],
   "source": [
    "# %load src/sound1.py\n",
    "import pyglet\n",
    "\n",
    "window = pyglet.window.Window()\n",
    "sound = pyglet.resource.media('resources/bullet.wav', streaming=False)\n",
    "\n",
    "@window.event\n",
    "def on_key_press(symbol, modifiers):\n",
    "    if symbol == pyglet.window.key.SPACE:\n",
    "        sound.play()\n",
    "\n",
    "@window.event\n",
    "def on_draw():\n",
    "    window.clear()\n",
    "\n",
    "pyglet.app.run()\n"
   ]
  },
  {
   "cell_type": "markdown",
   "metadata": {
    "slideshow": {
     "slide_type": "slide"
    }
   },
   "source": [
    "# Sprites\n",
    "\n",
    "Fancy images that ...\n",
    "\n",
    "* have attributes like: `x`, `y`, `scale`, `rotation`, `color`, `opacity`\n",
    "* has an `update()` method that changes multiple attributes at once\n",
    "* can be combined in batches and groups"
   ]
  },
  {
   "cell_type": "code",
   "execution_count": null,
   "metadata": {
    "slideshow": {
     "slide_type": "subslide"
    }
   },
   "outputs": [],
   "source": [
    "# %load src/sprite1.py\n",
    "import pyglet\n",
    "\n",
    "window = pyglet.window.Window()\n",
    "\n",
    "ball_image = pyglet.resource.image('ball.png')\n",
    "ball = pyglet.sprite.Sprite(ball_image, x=50, y=50)\n",
    "\n",
    "@window.event\n",
    "def on_draw():\n",
    "    ball.draw()\n",
    "\n",
    "pyglet.app.run()\n"
   ]
  },
  {
   "cell_type": "markdown",
   "metadata": {
    "slideshow": {
     "slide_type": "subslide"
    }
   },
   "source": [
    "<img src=\"sprite1.png\" style=\"height:500px;\">"
   ]
  },
  {
   "cell_type": "code",
   "execution_count": null,
   "metadata": {
    "slideshow": {
     "slide_type": "subslide"
    }
   },
   "outputs": [],
   "source": [
    "# %load src/sprite2.py\n",
    "import pyglet\n",
    "\n",
    "window = pyglet.window.Window()\n",
    "\n",
    "ball_image = pyglet.resource.image('ball.png')\n",
    "ball = pyglet.sprite.Sprite(ball_image, x=50, y=50)\n",
    "ball.update(x=100, y=200, scale=3., rotation=90.)\n",
    "\n",
    "@window.event\n",
    "def on_draw():\n",
    "    ball.draw()\n",
    "\n",
    "pyglet.app.run()\n"
   ]
  },
  {
   "cell_type": "markdown",
   "metadata": {
    "slideshow": {
     "slide_type": "subslide"
    }
   },
   "source": [
    "<img src=\"sprite2.png\" style=\"height:500px;\">"
   ]
  },
  {
   "cell_type": "code",
   "execution_count": null,
   "metadata": {
    "slideshow": {
     "slide_type": "subslide"
    }
   },
   "outputs": [],
   "source": [
    "# %load src/batch1.py\n",
    "import pyglet\n",
    "\n",
    "window = pyglet.window.Window()\n",
    "\n",
    "ball_image = pyglet.resource.image('ball.png')\n",
    "batch = pyglet.graphics.Batch()\n",
    "\n",
    "ball_sprites = []\n",
    "for i in range(100):\n",
    "    x, y = i * 10, (i * 10 % window.height)\n",
    "    ball_sprites.append(pyglet.sprite.Sprite(\n",
    "        ball_image, x, y, batch=batch))\n",
    "\n",
    "@window.event\n",
    "def on_draw():\n",
    "    batch.draw()\n",
    "\n",
    "pyglet.app.run()\n"
   ]
  },
  {
   "cell_type": "markdown",
   "metadata": {
    "slideshow": {
     "slide_type": "subslide"
    }
   },
   "source": [
    "> If you need to draw many sprites, using a Batch to draw them all at once is strongly recommended\n",
    "\n",
    "<img src=\"batch1.png\" style=\"height:500px;\">"
   ]
  },
  {
   "cell_type": "markdown",
   "metadata": {
    "slideshow": {
     "slide_type": "subslide"
    }
   },
   "source": [
    "# Cliff hanger for next time ...\n",
    "\n",
    "> When sprites are collected into a batch, no guarantee is made about\n",
    "> the order in which they will be drawn. If you need to ensure some\n",
    "> sprites are drawn before others (for example, landscape tiles might\n",
    "> be drawn before character sprites, which might be drawn before some\n",
    "> particle effect sprites), use two or more OrderedGroup objects to\n",
    "> specify the draw order:"
   ]
  },
  {
   "cell_type": "markdown",
   "metadata": {
    "slideshow": {
     "slide_type": "slide"
    }
   },
   "source": [
    "# Things We've covered\n",
    "\n",
    "* Labels\n",
    "* Images\n",
    "* Input\n",
    "* Sound\n",
    "* Simple Batches"
   ]
  },
  {
   "cell_type": "markdown",
   "metadata": {
    "slideshow": {
     "slide_type": "slide"
    }
   },
   "source": [
    "# Things we will cover next\n",
    "\n",
    "* Image Grids\n",
    "* Batches With Groups\n",
    "* Sprite Animation\n",
    "* Clock and Game Time\n",
    "* Colisions\n",
    "* Game Logic"
   ]
  },
  {
   "cell_type": "markdown",
   "metadata": {
    "slideshow": {
     "slide_type": "slide"
    }
   },
   "source": [
    "That's all for now!  See you next month!"
   ]
  }
 ],
 "metadata": {
  "celltoolbar": "Slideshow",
  "kernelspec": {
   "display_name": "Python [conda env:desertpy-2017-v2]",
   "language": "python",
   "name": "conda-env-desertpy-2017-v2-py"
  },
  "language_info": {
   "codemirror_mode": {
    "name": "ipython",
    "version": 3
   },
   "file_extension": ".py",
   "mimetype": "text/x-python",
   "name": "python",
   "nbconvert_exporter": "python",
   "pygments_lexer": "ipython3",
   "version": "3.6.3"
  }
 },
 "nbformat": 4,
 "nbformat_minor": 2
}
