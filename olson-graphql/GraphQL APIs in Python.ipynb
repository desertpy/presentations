{
 "cells": [
  {
   "cell_type": "markdown",
   "metadata": {
    "slideshow": {
     "slide_type": "slide"
    }
   },
   "source": [
    "# GraphQL APIs in Python\n",
    "\n",
    "Trevor Olson\n",
    "\n",
    "October 23, 2019"
   ]
  },
  {
   "cell_type": "markdown",
   "metadata": {
    "slideshow": {
     "slide_type": "slide"
    }
   },
   "source": [
    "## What is GraphQL"
   ]
  },
  {
   "cell_type": "markdown",
   "metadata": {
    "slideshow": {
     "slide_type": "slide"
    }
   },
   "source": [
    "### Describe your data\n",
    "\n",
    "```graphql\n",
    "type Meetup {\n",
    "  name: String\n",
    "  location: String\n",
    "  talks: [Talk]\n",
    "}\n",
    "```"
   ]
  },
  {
   "cell_type": "markdown",
   "metadata": {
    "slideshow": {
     "slide_type": "slide"
    }
   },
   "source": [
    "### Ask for what you want\n",
    "\n",
    "```graphql\n",
    "{\n",
    "  meetup(name: \"DesertPy\") {\n",
    "    location\n",
    "  }\n",
    "}\n",
    "```"
   ]
  },
  {
   "cell_type": "markdown",
   "metadata": {
    "slideshow": {
     "slide_type": "slide"
    }
   },
   "source": [
    "### Get predictable results\n",
    "\n",
    "```json\n",
    "{\n",
    "  \"meetup\": {\n",
    "    \"location\": \"Phoenix, AZ\"\n",
    "  }\n",
    "}\n",
    "```"
   ]
  },
  {
   "cell_type": "markdown",
   "metadata": {
    "slideshow": {
     "slide_type": "slide"
    }
   },
   "source": [
    "## GraphQL vs. REST: Pros\n",
    "\n",
    "- Batching queries\n",
    "- Easy to get only what you ask for\n",
    "- Not attached to HTTP\n",
    "- Streaming events"
   ]
  },
  {
   "cell_type": "markdown",
   "metadata": {},
   "source": [
    "## GraphQL vs. REST: Cons\n",
    "\n",
    "- Caching\n",
    "- File uploading/downloading\n",
    "- "
   ]
  },
  {
   "cell_type": "markdown",
   "metadata": {
    "slideshow": {
     "slide_type": "slide"
    }
   },
   "source": [
    "## Try it out\n",
    "\n",
    "- [Github](https://developer.github.com/v4/)\n",
    "- [Yelp](https://www.yelp.com/developers/graphql/guides/intro)\n",
    "- [Countries](https://github.com/trevorblades/countries)"
   ]
  },
  {
   "cell_type": "markdown",
   "metadata": {
    "slideshow": {
     "slide_type": "slide"
    }
   },
   "source": [
    "## But let's talk about Python\n",
    "\n",
    "- [Ariadne](https://ariadnegraphql.org/)\n",
    "- [Graphene](https://graphene-python.org/)"
   ]
  },
  {
   "cell_type": "markdown",
   "metadata": {
    "slideshow": {
     "slide_type": "slide"
    }
   },
   "source": [
    "## Graphene\n",
    "\n",
    "```bash\n",
    "> pip install graphene\n",
    "```"
   ]
  },
  {
   "cell_type": "markdown",
   "metadata": {
    "slideshow": {
     "slide_type": "slide"
    }
   },
   "source": [
    "### Works with...\n",
    "\n",
    "- [Graphene-Django](http://docs.graphene-python.org/projects/django/en/latest/)\n",
    "- [Flask-Graphql](https://github.com/graphql-python/flask-graphql)\n",
    "- [Graphene-SQLAlchemy](http://docs.graphene-python.org/projects/sqlalchemy/en/latest/)\n",
    "- [Graphene-GAE](https://github.com/graphql-python/graphene-gae/)\n",
    "- [Graphene-Mongo](https://graphene-mongo.readthedocs.io/en/latest/)\n",
    "- [Starlette](https://www.starlette.io/graphql/)\n",
    "- [FastAPI](https://fastapi.tiangolo.com/tutorial/graphql/)"
   ]
  },
  {
   "cell_type": "markdown",
   "metadata": {
    "slideshow": {
     "slide_type": "slide"
    }
   },
   "source": [
    "### Define the schema"
   ]
  },
  {
   "cell_type": "code",
   "execution_count": null,
   "metadata": {},
   "outputs": [],
   "source": [
    "import graphene\n",
    "\n",
    "class Person(graphene.ObjectType):\n",
    "    name = graphene.String(description='The name of this person.')\n",
    "    height = graphene.Float(\n",
    "        description='The height of this person in meters.')\n",
    "    mass = graphene.Float(\n",
    "        description='The mass of this person in kilograms.')\n",
    "    created = graphene.DateTime(\n",
    "        description='The datetime that this resource was edited.')"
   ]
  },
  {
   "cell_type": "markdown",
   "metadata": {
    "slideshow": {
     "slide_type": "slide"
    }
   },
   "source": [
    "### Resolve relations"
   ]
  },
  {
   "cell_type": "code",
   "execution_count": null,
   "metadata": {},
   "outputs": [],
   "source": [
    "class Planet(graphene.ObjectType):\n",
    "    name = graphene.String(description='The name of this planet.')\n",
    "    diameter = graphene.String(\n",
    "        description='The diameter of this planet in kilometers.')\n",
    "\n",
    "class Person(graphene.ObjectType):\n",
    "    # ...\n",
    "    homeworld = graphene.Field(\n",
    "        Planet, description='The planet that this person was born on.')\n",
    "    \n",
    "    def resolve_homeworld(self, info):\n",
    "        return get_planet_by_id(self.homeworld)"
   ]
  },
  {
   "cell_type": "markdown",
   "metadata": {
    "slideshow": {
     "slide_type": "slide"
    }
   },
   "source": [
    "### Root query"
   ]
  },
  {
   "cell_type": "code",
   "execution_count": null,
   "metadata": {},
   "outputs": [],
   "source": [
    "class Query(graphene.ObjectType):\n",
    "    planet = graphene.Field(Planet, name=graphene.String(required=True))\n",
    "    person = graphene.Field(Person, name=graphene.String(required=True))\n",
    "\n",
    "    def resolve_planet(self, info, name):\n",
    "        return get_planet_by_name(name)\n",
    "    \n",
    "    def resolve_person(self, info, name):\n",
    "        return get_person_by_name(name)"
   ]
  },
  {
   "cell_type": "markdown",
   "metadata": {
    "slideshow": {
     "slide_type": "slide"
    }
   },
   "source": [
    "### Attach the endpoint"
   ]
  },
  {
   "cell_type": "code",
   "execution_count": null,
   "metadata": {},
   "outputs": [],
   "source": [
    "from starlette.applications import Starlette\n",
    "from starlette.graphql import GraphQLApp\n",
    "\n",
    "app = Starlette()\n",
    "app.add_route('/', GraphQLApp(schema=graphene.Schema(query=Query)))"
   ]
  },
  {
   "cell_type": "code",
   "execution_count": null,
   "metadata": {
    "slideshow": {
     "slide_type": "slide"
    }
   },
   "outputs": [],
   "source": [
    "from IPython.display import IFrame\n",
    "IFrame('http://127.0.0.1:5000', width='100%', height=768)"
   ]
  },
  {
   "cell_type": "markdown",
   "metadata": {
    "slideshow": {
     "slide_type": "slide"
    }
   },
   "source": [
    "### Mutations"
   ]
  },
  {
   "cell_type": "code",
   "execution_count": null,
   "metadata": {},
   "outputs": [],
   "source": [
    "class MarkFavoritePerson(graphene.Mutation):\n",
    "    class Arguments:\n",
    "        name = graphene.String(required=True)\n",
    "        favorite = graphene.Boolean(required=True)\n",
    "\n",
    "    Output = Person\n",
    "\n",
    "    def mutate(root, info, name, favorite):\n",
    "        person = get_person_by_name(name)\n",
    "        mark_person_as_favorite(person, favorite)\n",
    "        return person"
   ]
  },
  {
   "cell_type": "markdown",
   "metadata": {
    "slideshow": {
     "slide_type": "slide"
    }
   },
   "source": [
    "```graphql\n",
    "mutation {\n",
    "    markFavoritePerson(name: \"Leia Organa\", favorite: true) {\n",
    "        name\n",
    "        hight\n",
    "        birthYear\n",
    "    }\n",
    "}\n",
    "```"
   ]
  },
  {
   "cell_type": "markdown",
   "metadata": {
    "slideshow": {
     "slide_type": "slide"
    }
   },
   "source": [
    "### Batching"
   ]
  },
  {
   "cell_type": "code",
   "execution_count": null,
   "metadata": {},
   "outputs": [],
   "source": [
    "from promise import Promise\n",
    "from promise.dataloader import DataLoader\n",
    "\n",
    "class PlanetLoader(DataLoader):\n",
    "    def batch_load_fn(self, keys):\n",
    "        # Here we return a promise that will result on the\n",
    "        # corresponding user for each key in keys\n",
    "        return Promise.resolve([get_planet_by_name(key) for key in keys])\n",
    "    \n",
    "planet_loader = PlanetLoader()\n",
    "planet_loader.load(\"Alderaan\").then(lambda planet: do_something(planet))"
   ]
  },
  {
   "cell_type": "markdown",
   "metadata": {
    "slideshow": {
     "slide_type": "slide"
    }
   },
   "source": [
    "### Async executors"
   ]
  },
  {
   "cell_type": "code",
   "execution_count": null,
   "metadata": {},
   "outputs": [],
   "source": [
    "from graphql.execution.executors.asyncio import AsyncioExecutor\n",
    "\n",
    "from starlette.applications import Starlette\n",
    "from starlette.graphql import GraphQLApp\n",
    "\n",
    "app = Starlette()\n",
    "app.add_route('/', GraphQLApp(\n",
    "    schema=graphene.Schema(query=Query), executor_class=AsyncioExecutor))"
   ]
  },
  {
   "cell_type": "markdown",
   "metadata": {
    "slideshow": {
     "slide_type": "slide"
    }
   },
   "source": [
    "## Thanks!\n",
    "\n",
    "https://graphql.org/\n",
    "\n",
    "https://graphene-python.org/\n",
    "\n",
    "https://www.starlette.io/graphql/"
   ]
  },
  {
   "cell_type": "code",
   "execution_count": null,
   "metadata": {
    "slideshow": {
     "slide_type": "slide"
    }
   },
   "outputs": [],
   "source": [
    "from IPython.display import Code\n",
    "Code(filename='server.py')"
   ]
  }
 ],
 "metadata": {
  "celltoolbar": "Slideshow",
  "kernelspec": {
   "display_name": "Python 3",
   "language": "python",
   "name": "python3"
  },
  "language_info": {
   "codemirror_mode": {
    "name": "ipython",
    "version": 3
   },
   "file_extension": ".py",
   "mimetype": "text/x-python",
   "name": "python",
   "nbconvert_exporter": "python",
   "pygments_lexer": "ipython3",
   "version": "3.7.4"
  }
 },
 "nbformat": 4,
 "nbformat_minor": 2
}
