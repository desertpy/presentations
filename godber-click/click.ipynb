{
 "cells": [
  {
   "cell_type": "markdown",
   "metadata": {
    "slideshow": {
     "slide_type": "slide"
    }
   },
   "source": [
    "# Announcements\n",
    "\n",
    "* Meetings\n",
    "  * Tue Aug 8th - DesertPy Downtown - Python OpenCV Template Matching\n",
    "  * Sat Aug 12th - Open Hack - GoDaddy\n",
    "* Releases\n",
    "  * Python 3.6.2"
   ]
  },
  {
   "cell_type": "markdown",
   "metadata": {
    "slideshow": {
     "slide_type": "slide"
    }
   },
   "source": [
    "# Click\n",
    "\n",
    "DesertPy Thunderstorm\n",
    "\n",
    "7/26/2017\n",
    "\n",
    "Austin Godber"
   ]
  },
  {
   "cell_type": "markdown",
   "metadata": {
    "slideshow": {
     "slide_type": "subslide"
    }
   },
   "source": [
    "## Make sure to google: python click\n",
    "\n",
    "otherwise you get this ..."
   ]
  },
  {
   "cell_type": "markdown",
   "metadata": {
    "slideshow": {
     "slide_type": "fragment"
    }
   },
   "source": [
    "<img src=\"click.jpeg\" />"
   ]
  },
  {
   "cell_type": "markdown",
   "metadata": {
    "slideshow": {
     "slide_type": "subslide"
    }
   },
   "source": [
    "you want this ...\n",
    "\n",
    "<img src=\"python-click.png\" />"
   ]
  },
  {
   "cell_type": "markdown",
   "metadata": {
    "slideshow": {
     "slide_type": "slide"
    }
   },
   "source": [
    "# Command Line Argument Parsers\n",
    "\n",
    "* Built In: optparse (deprecated since Python 3.2), getopt (not-pythonic), **argparse**\n",
    "* DocOpt\n",
    "* Click"
   ]
  },
  {
   "cell_type": "markdown",
   "metadata": {
    "slideshow": {
     "slide_type": "subslide"
    }
   },
   "source": [
    "# What do they do?\n",
    "\n",
    "They help your command line python script interpret the options and arguments given to it on the command line.\n",
    "```\n",
    "args.py file.txt\n",
    "args.py -h file2.py\n",
    "args.py --verbose file3.txt\n",
    "```"
   ]
  },
  {
   "cell_type": "markdown",
   "metadata": {
    "slideshow": {
     "slide_type": "subslide"
    }
   },
   "source": [
    "Technically speaking, they help your python program interpret the array containing the arguments passed to your script on the command line.  This can be accessed with [sys.argv](https://docs.python.org/3/library/sys.html#sys.argv) as shown below"
   ]
  },
  {
   "cell_type": "code",
   "execution_count": null,
   "metadata": {
    "slideshow": {
     "slide_type": "-"
    }
   },
   "outputs": [],
   "source": [
    "# %load args.py\n",
    "#!/usr/bin/env python\n",
    "\n",
    "import sys\n",
    "\n",
    "print(sys.argv)\n"
   ]
  },
  {
   "cell_type": "markdown",
   "metadata": {
    "slideshow": {
     "slide_type": "subslide"
    }
   },
   "source": [
    "So what does the output from the program above look like when executed like this:\n",
    "\n",
    "```\n",
    "./args.py file.txt\n",
    "['./args.py', 'file.txt']\n",
    "./args.py -h file2.py\n",
    "['./args.py', '-h', 'file2.py']\n",
    "./args.py --verbose file3.txt\n",
    "['./args.py', '--verbose', 'file3.txt']\n",
    "```"
   ]
  },
  {
   "cell_type": "markdown",
   "metadata": {
    "slideshow": {
     "slide_type": "subslide"
    }
   },
   "source": [
    "It's just an array.\n",
    "\n",
    "These libraries help you interpret that array and do things like generate sensible help messages and argument validation."
   ]
  },
  {
   "cell_type": "markdown",
   "metadata": {
    "slideshow": {
     "slide_type": "slide"
    }
   },
   "source": [
    "# Click\n",
    "\n",
    "* http://click.pocoo.org/6/\n",
    "* Arg and Option Parsing\n",
    "* Decorator driven\n",
    "* Type Validation"
   ]
  },
  {
   "cell_type": "markdown",
   "metadata": {
    "slideshow": {
     "slide_type": "subslide"
    }
   },
   "source": [
    "# Simplest form"
   ]
  },
  {
   "cell_type": "code",
   "execution_count": null,
   "metadata": {},
   "outputs": [],
   "source": [
    "# %load add-1.py\n",
    "#!/usr/bin/env python\n",
    "import click\n",
    "\n",
    "def add(a, b):\n",
    "    return float(a) + float(b)\n",
    "\n",
    "@click.command()\n",
    "@click.argument('a', nargs=1)\n",
    "@click.argument('b', nargs=1)\n",
    "def main(a, b):\n",
    "    print(add(a, b))\n",
    "\n",
    "if __name__ == '__main__':\n",
    "    main()\n"
   ]
  },
  {
   "cell_type": "markdown",
   "metadata": {},
   "source": [
    "```\n",
    "./add-1.py --help\n",
    "Usage: add-1.py [OPTIONS] A B\n",
    "\n",
    "Options:\n",
    "  --help  Show this message and exit.\n",
    "```"
   ]
  },
  {
   "cell_type": "markdown",
   "metadata": {},
   "source": [
    "# Advanced Features"
   ]
  },
  {
   "cell_type": "code",
   "execution_count": null,
   "metadata": {
    "collapsed": true
   },
   "outputs": [],
   "source": [
    "# %load add.py\n",
    "#!/usr/bin/env python\n",
    "import click\n",
    "\n",
    "def add(a, b):\n",
    "    return float(a) + float(b)\n",
    "\n",
    "@click.command()\n",
    "@click.argument('a', nargs=1, type=click.FLOAT)\n",
    "@click.argument('b', nargs=1, type=click.FLOAT)\n",
    "@click.option('--verbose', '-v', is_flag=True, default=False,\n",
    "              help=\"generate verbose output\")\n",
    "def main(a, b, verbose):\n",
    "    \"\"\"Docstring thing\"\"\"\n",
    "    if verbose:\n",
    "        print(\"a: %s\" % a)\n",
    "        print(\"b: %s\" % b)\n",
    "    print(add(a, b))\n",
    "\n",
    "if __name__ == '__main__':\n",
    "    main()\n"
   ]
  },
  {
   "cell_type": "markdown",
   "metadata": {},
   "source": [
    "```\n",
    "./add.py --help\n",
    "Usage: add.py [OPTIONS] A B\n",
    "\n",
    "  Docstring thing\n",
    "\n",
    "Options:\n",
    "  -v, --verbose  generate verbose output\n",
    "  --help         Show this message and exit.\n",
    "```"
   ]
  }
 ],
 "metadata": {
  "celltoolbar": "Slideshow",
  "kernelspec": {
   "display_name": "Python 3",
   "language": "python",
   "name": "python3"
  },
  "language_info": {
   "codemirror_mode": {
    "name": "ipython",
    "version": 3
   },
   "file_extension": ".py",
   "mimetype": "text/x-python",
   "name": "python",
   "nbconvert_exporter": "python",
   "pygments_lexer": "ipython3",
   "version": "3.5.3"
  }
 },
 "nbformat": 4,
 "nbformat_minor": 1
}
