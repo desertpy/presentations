{
 "cells": [
  {
   "cell_type": "markdown",
   "metadata": {},
   "source": [
    "### First time installing elasticsearch\n",
    "I followed these directions:\n",
    "https://www.elastic.co/guide/en/elasticsearch/reference/current/deb.html\n",
    "\n",
    "I have to be root in order to see the logs 'sudo -i'\n",
    "\n",
    "From the time I ran the startup command to the time I ran the test GET and it worked, it seemed like there was some lag. Verify it is up and running by looking at the logs."
   ]
  },
  {
   "cell_type": "markdown",
   "metadata": {},
   "source": [
    "This blog post was helpful: https://bitquabit.com/post/having-fun-python-and-elasticsearch-part-1/"
   ]
  },
  {
   "cell_type": "markdown",
   "metadata": {},
   "source": [
    "Another blog post Star Wars API: https://tryolabs.com/blog/2015/02/17/python-elasticsearch-first-steps/\n",
    "\n",
    "http://swapi.co/"
   ]
  },
  {
   "cell_type": "markdown",
   "metadata": {},
   "source": [
    "#### Further Reading\n",
    "https://blog.insightdatascience.com/anatomy-of-an-elasticsearch-cluster-part-i-7ac9a13b05db#.9c5sp165a\n",
    "\n",
    "https://elasticsearch-py.readthedocs.io/en/master/\n",
    "\n",
    "https://www.elastic.co/guide/en/elasticsearch/reference/5.1/query-dsl-multi-match-query.html#phrase-fuzziness\n",
    "\n",
    "https://en.wikipedia.org/wiki/Elasticsearch\n",
    "\n",
    "https://github.com/elastic/elasticsearch"
   ]
  },
  {
   "cell_type": "markdown",
   "metadata": {},
   "source": [
    "#### connect to the cluster"
   ]
  },
  {
   "cell_type": "code",
   "execution_count": 1,
   "metadata": {
    "collapsed": false
   },
   "outputs": [],
   "source": [
    "import elasticsearch\n",
    "es = elasticsearch.Elasticsearch([{'host': 'localhost', 'port': 9200}])"
   ]
  },
  {
   "cell_type": "markdown",
   "metadata": {},
   "source": [
    "#### make sure Elasticsearch is up and running"
   ]
  },
  {
   "cell_type": "code",
   "execution_count": 2,
   "metadata": {
    "collapsed": false
   },
   "outputs": [
    {
     "name": "stdout",
     "output_type": "stream",
     "text": [
      "{\n",
      "  \"name\" : \"_84yDSt\",\n",
      "  \"cluster_name\" : \"elasticsearch\",\n",
      "  \"cluster_uuid\" : \"Wjcm_kHmSmSv2_lBJYQZ6g\",\n",
      "  \"version\" : {\n",
      "    \"number\" : \"5.1.2\",\n",
      "    \"build_hash\" : \"c8c4c16\",\n",
      "    \"build_date\" : \"2017-01-11T20:18:39.146Z\",\n",
      "    \"build_snapshot\" : false,\n",
      "    \"lucene_version\" : \"6.3.0\"\n",
      "  },\n",
      "  \"tagline\" : \"You Know, for Search\"\n",
      "}\n",
      "\n"
     ]
    }
   ],
   "source": [
    "import requests\n",
    "res = requests.get('http://localhost:9200')\n",
    "print(res.content)"
   ]
  },
  {
   "cell_type": "markdown",
   "metadata": {},
   "source": [
    "#### Indexing test data"
   ]
  },
  {
   "cell_type": "code",
   "execution_count": null,
   "metadata": {
    "collapsed": true
   },
   "outputs": [],
   "source": [
    "es.index(index='posts', doc_type='blog', id=1, body={\n",
    "    'author': 'Santa Clause',\n",
    "    'blog': 'Slave Based Shippers of the North',\n",
    "    'title': 'Using Celery for distributing gift dispatch',\n",
    "    'topics': ['slave labor', 'elves', 'python',\n",
    "               'celery', 'antigravity reindeer'],\n",
    "    'awesomeness': 0.2\n",
    "})"
   ]
  },
  {
   "cell_type": "markdown",
   "metadata": {},
   "source": [
    "#### retrieve test data"
   ]
  },
  {
   "cell_type": "code",
   "execution_count": 15,
   "metadata": {
    "collapsed": false
   },
   "outputs": [
    {
     "data": {
      "text/plain": [
       "{u'_shards': {u'failed': 0, u'successful': 5, u'total': 5},\n",
       " u'hits': {u'hits': [{u'_id': u'1',\n",
       "    u'_index': u'posts',\n",
       "    u'_score': 0.51623213,\n",
       "    u'_source': {u'author': u'Santa Clause',\n",
       "     u'awesomeness': 0.2,\n",
       "     u'blog': u'Slave Based Shippers of the North',\n",
       "     u'title': u'Using Celery for distributing gift dispatch',\n",
       "     u'topics': [u'slave labor',\n",
       "      u'elves',\n",
       "      u'python',\n",
       "      u'celery',\n",
       "      u'antigravity reindeer']},\n",
       "    u'_type': u'blog'}],\n",
       "  u'max_score': 0.51623213,\n",
       "  u'total': 1},\n",
       " u'timed_out': False,\n",
       " u'took': 3}"
      ]
     },
     "execution_count": 15,
     "metadata": {},
     "output_type": "execute_result"
    }
   ],
   "source": [
    "es.search(index=\"posts\", body={\"query\": {\"match\": {'author':'Santa Clause'}}})"
   ]
  },
  {
   "cell_type": "markdown",
   "metadata": {},
   "source": [
    "#### Delete test data"
   ]
  },
  {
   "cell_type": "code",
   "execution_count": 16,
   "metadata": {
    "collapsed": false
   },
   "outputs": [
    {
     "data": {
      "text/plain": [
       "{u'_id': u'1',\n",
       " u'_index': u'posts',\n",
       " u'_shards': {u'failed': 0, u'successful': 1, u'total': 2},\n",
       " u'_type': u'blog',\n",
       " u'_version': 2,\n",
       " u'found': True,\n",
       " u'result': u'deleted'}"
      ]
     },
     "execution_count": 16,
     "metadata": {},
     "output_type": "execute_result"
    }
   ],
   "source": [
    "es.delete(index='posts', doc_type='blog', id=1)"
   ]
  },
  {
   "cell_type": "markdown",
   "metadata": {},
   "source": [
    "#### Get Star Wars data"
   ]
  },
  {
   "cell_type": "code",
   "execution_count": 3,
   "metadata": {
    "collapsed": false
   },
   "outputs": [
    {
     "name": "stdout",
     "output_type": "stream",
     "text": [
      "18\n"
     ]
    }
   ],
   "source": [
    "# let's iterate over swapi people documents and index them\n",
    "import json\n",
    "\n",
    "r = requests.get('http://localhost:9200') \n",
    "i = 1\n",
    "\n",
    "while r.status_code == 200:\n",
    "    r = requests.get('http://swapi.co/api/people/'+ str(i))\n",
    "    es.index(index='sw', doc_type='people', id=i, body=json.loads(r.content))\n",
    "    i=i+1\n",
    "\n",
    "print(i)"
   ]
  },
  {
   "cell_type": "markdown",
   "metadata": {
    "collapsed": true
   },
   "source": [
    "Person 17 is returning a 404\n",
    "\n",
    "Please, notice that we automatically created an index “sw” and a “doc_type” with the indexing command. We get 17 responses from swapi and index them with ES."
   ]
  },
  {
   "cell_type": "code",
   "execution_count": 4,
   "metadata": {
    "collapsed": false
   },
   "outputs": [
    {
     "data": {
      "text/plain": [
       "{u'_id': u'5',\n",
       " u'_index': u'sw',\n",
       " u'_source': {u'birth_year': u'19BBY',\n",
       "  u'created': u'2014-12-10T15:20:09.791000Z',\n",
       "  u'edited': u'2014-12-20T21:17:50.315000Z',\n",
       "  u'eye_color': u'brown',\n",
       "  u'films': [u'http://swapi.co/api/films/6/',\n",
       "   u'http://swapi.co/api/films/3/',\n",
       "   u'http://swapi.co/api/films/2/',\n",
       "   u'http://swapi.co/api/films/1/',\n",
       "   u'http://swapi.co/api/films/7/'],\n",
       "  u'gender': u'female',\n",
       "  u'hair_color': u'brown',\n",
       "  u'height': u'150',\n",
       "  u'homeworld': u'http://swapi.co/api/planets/2/',\n",
       "  u'mass': u'49',\n",
       "  u'name': u'Leia Organa',\n",
       "  u'skin_color': u'light',\n",
       "  u'species': [u'http://swapi.co/api/species/1/'],\n",
       "  u'starships': [],\n",
       "  u'url': u'http://swapi.co/api/people/5/',\n",
       "  u'vehicles': [u'http://swapi.co/api/vehicles/30/']},\n",
       " u'_type': u'people',\n",
       " u'_version': 2,\n",
       " u'found': True}"
      ]
     },
     "execution_count": 4,
     "metadata": {},
     "output_type": "execute_result"
    }
   ],
   "source": [
    "# we try to get the document with id=5.\n",
    "es.get(index='sw', doc_type='people', id=5)"
   ]
  },
  {
   "cell_type": "markdown",
   "metadata": {},
   "source": [
    "#### I ran this twice.... are there duplicates now? No"
   ]
  },
  {
   "cell_type": "code",
   "execution_count": 14,
   "metadata": {
    "collapsed": false
   },
   "outputs": [
    {
     "name": "stdout",
     "output_type": "stream",
     "text": [
      "90\n"
     ]
    }
   ],
   "source": [
    "r = requests.get('http://localhost:9200')\n",
    "i = 18\n",
    "\n",
    "while r.status_code == 200:\n",
    "    r = requests.get('http://swapi.co/api/people/'+ str(i))\n",
    "    es.index(index='sw', doc_type='people', id=i, body=json.loads(r.content))\n",
    "    i=i+1\n",
    "\n",
    "print(i)"
   ]
  },
  {
   "cell_type": "markdown",
   "metadata": {},
   "source": [
    "Where is Darth Vader?"
   ]
  },
  {
   "cell_type": "code",
   "execution_count": 17,
   "metadata": {
    "collapsed": false
   },
   "outputs": [
    {
     "data": {
      "text/plain": [
       "{u'_shards': {u'failed': 0, u'successful': 5, u'total': 5},\n",
       " u'hits': {u'hits': [{u'_id': u'4',\n",
       "    u'_index': u'sw',\n",
       "    u'_score': 4.4691906,\n",
       "    u'_source': {u'birth_year': u'41.9BBY',\n",
       "     u'created': u'2014-12-10T15:18:20.704000Z',\n",
       "     u'edited': u'2014-12-20T21:17:50.313000Z',\n",
       "     u'eye_color': u'yellow',\n",
       "     u'films': [u'http://swapi.co/api/films/6/',\n",
       "      u'http://swapi.co/api/films/3/',\n",
       "      u'http://swapi.co/api/films/2/',\n",
       "      u'http://swapi.co/api/films/1/'],\n",
       "     u'gender': u'male',\n",
       "     u'hair_color': u'none',\n",
       "     u'height': u'202',\n",
       "     u'homeworld': u'http://swapi.co/api/planets/1/',\n",
       "     u'mass': u'136',\n",
       "     u'name': u'Darth Vader',\n",
       "     u'skin_color': u'white',\n",
       "     u'species': [u'http://swapi.co/api/species/1/'],\n",
       "     u'starships': [u'http://swapi.co/api/starships/13/'],\n",
       "     u'url': u'http://swapi.co/api/people/4/',\n",
       "     u'vehicles': []},\n",
       "    u'_type': u'people'},\n",
       "   {u'_id': u'44',\n",
       "    u'_index': u'sw',\n",
       "    u'_score': 1.919345,\n",
       "    u'_source': {u'birth_year': u'54BBY',\n",
       "     u'created': u'2014-12-19T18:00:41.929000Z',\n",
       "     u'edited': u'2014-12-20T21:17:50.403000Z',\n",
       "     u'eye_color': u'yellow',\n",
       "     u'films': [u'http://swapi.co/api/films/4/'],\n",
       "     u'gender': u'male',\n",
       "     u'hair_color': u'none',\n",
       "     u'height': u'175',\n",
       "     u'homeworld': u'http://swapi.co/api/planets/36/',\n",
       "     u'mass': u'80',\n",
       "     u'name': u'Darth Maul',\n",
       "     u'skin_color': u'red',\n",
       "     u'species': [u'http://swapi.co/api/species/22/'],\n",
       "     u'starships': [u'http://swapi.co/api/starships/41/'],\n",
       "     u'url': u'http://swapi.co/api/people/44/',\n",
       "     u'vehicles': [u'http://swapi.co/api/vehicles/42/']},\n",
       "    u'_type': u'people'}],\n",
       "  u'max_score': 4.4691906,\n",
       "  u'total': 2},\n",
       " u'timed_out': False,\n",
       " u'took': 3}"
      ]
     },
     "execution_count": 17,
     "metadata": {},
     "output_type": "execute_result"
    }
   ],
   "source": [
    "es.search(index=\"sw\", body={\"query\": {\"match\": {'name':'Darth Vader'}}})"
   ]
  },
  {
   "cell_type": "markdown",
   "metadata": {},
   "source": [
    "This will give us both Darth Vader AND Darth Maul. Id 4 and id 44 (notice that they are in the same index, even if we use different node client call the index command). Both results have a score, although Darth Vader is much higher than Darth Maul (2.77 vs 0.60) since Vader is a exact match. Take that Darth Maul! "
   ]
  },
  {
   "cell_type": "markdown",
   "metadata": {},
   "source": [
    "#### Question: How does Elastic Search calculate the score?"
   ]
  },
  {
   "cell_type": "markdown",
   "metadata": {},
   "source": [
    "So, this query will give us results if the word is contained exactly in our indexed data. What if we want to build some kind of autocomplete input where we get the names that contain the characters we are typing?\n",
    "\n",
    "There are many ways to do that and another great number of queries.\n",
    "\n",
    "See: https://www.elastic.co/guide/en/elasticsearch/reference/current/query-dsl-multi-match-query.html\n",
    "\n",
    "I picked this one to get all documents with prefix “lu” in their name field: \n",
    "\n",
    "We will get Luke Skywalker and Luminara Unduli, both with the same 1.0 score, since they match with the same 2 initial characters. "
   ]
  },
  {
   "cell_type": "code",
   "execution_count": 7,
   "metadata": {
    "collapsed": false
   },
   "outputs": [
    {
     "data": {
      "text/plain": [
       "{u'_shards': {u'failed': 0, u'successful': 5, u'total': 5},\n",
       " u'hits': {u'hits': [{u'_id': u'1',\n",
       "    u'_index': u'sw',\n",
       "    u'_score': 1.0,\n",
       "    u'_source': {u'birth_year': u'19BBY',\n",
       "     u'created': u'2014-12-09T13:50:51.644000Z',\n",
       "     u'edited': u'2014-12-20T21:17:56.891000Z',\n",
       "     u'eye_color': u'blue',\n",
       "     u'films': [u'http://swapi.co/api/films/6/',\n",
       "      u'http://swapi.co/api/films/3/',\n",
       "      u'http://swapi.co/api/films/2/',\n",
       "      u'http://swapi.co/api/films/1/',\n",
       "      u'http://swapi.co/api/films/7/'],\n",
       "     u'gender': u'male',\n",
       "     u'hair_color': u'blond',\n",
       "     u'height': u'172',\n",
       "     u'homeworld': u'http://swapi.co/api/planets/1/',\n",
       "     u'mass': u'77',\n",
       "     u'name': u'Luke Skywalker',\n",
       "     u'skin_color': u'fair',\n",
       "     u'species': [u'http://swapi.co/api/species/1/'],\n",
       "     u'starships': [u'http://swapi.co/api/starships/12/',\n",
       "      u'http://swapi.co/api/starships/22/'],\n",
       "     u'url': u'http://swapi.co/api/people/1/',\n",
       "     u'vehicles': [u'http://swapi.co/api/vehicles/14/',\n",
       "      u'http://swapi.co/api/vehicles/30/']},\n",
       "    u'_type': u'people'},\n",
       "   {u'_id': u'64',\n",
       "    u'_index': u'sw',\n",
       "    u'_score': 1.0,\n",
       "    u'_source': {u'birth_year': u'58BBY',\n",
       "     u'created': u'2014-12-20T16:45:53.668000Z',\n",
       "     u'edited': u'2014-12-20T21:17:50.455000Z',\n",
       "     u'eye_color': u'blue',\n",
       "     u'films': [u'http://swapi.co/api/films/5/',\n",
       "      u'http://swapi.co/api/films/6/'],\n",
       "     u'gender': u'female',\n",
       "     u'hair_color': u'black',\n",
       "     u'height': u'170',\n",
       "     u'homeworld': u'http://swapi.co/api/planets/51/',\n",
       "     u'mass': u'56.2',\n",
       "     u'name': u'Luminara Unduli',\n",
       "     u'skin_color': u'yellow',\n",
       "     u'species': [u'http://swapi.co/api/species/29/'],\n",
       "     u'starships': [],\n",
       "     u'url': u'http://swapi.co/api/people/64/',\n",
       "     u'vehicles': []},\n",
       "    u'_type': u'people'}],\n",
       "  u'max_score': 1.0,\n",
       "  u'total': 2},\n",
       " u'timed_out': False,\n",
       " u'took': 20}"
      ]
     },
     "execution_count": 7,
     "metadata": {},
     "output_type": "execute_result"
    }
   ],
   "source": [
    "es.search(index=\"sw\", body={\"query\": {\"prefix\" : { \"name\" : \"lu\" }}})"
   ]
  },
  {
   "cell_type": "markdown",
   "metadata": {},
   "source": [
    "we want to get all elements similar in some way, for a related or correction search we can use something like this:\n",
    "\n",
    "See: https://www.elastic.co/guide/en/elasticsearch/reference/current/query-dsl.html\n",
    "\n",
    "Fuzziness here is the The maximum edit distance.\n",
    "https://www.elastic.co/guide/en/elasticsearch/reference/5.1/common-options.html#fuzziness"
   ]
  },
  {
   "cell_type": "code",
   "execution_count": 33,
   "metadata": {
    "collapsed": false
   },
   "outputs": [
    {
     "data": {
      "text/plain": [
       "{u'_shards': {u'failed': 0, u'successful': 5, u'total': 5},\n",
       " u'hits': {u'hits': [{u'_id': u'16',\n",
       "    u'_index': u'sw',\n",
       "    u'_score': 1.3984017,\n",
       "    u'_source': {u'birth_year': u'600BBY',\n",
       "     u'created': u'2014-12-10T17:11:31.638000Z',\n",
       "     u'edited': u'2014-12-20T21:17:50.338000Z',\n",
       "     u'eye_color': u'orange',\n",
       "     u'films': [u'http://swapi.co/api/films/4/',\n",
       "      u'http://swapi.co/api/films/3/',\n",
       "      u'http://swapi.co/api/films/1/'],\n",
       "     u'gender': u'hermaphrodite',\n",
       "     u'hair_color': u'n/a',\n",
       "     u'height': u'175',\n",
       "     u'homeworld': u'http://swapi.co/api/planets/24/',\n",
       "     u'mass': u'1,358',\n",
       "     u'name': u'Jabba Desilijic Tiure',\n",
       "     u'skin_color': u'green-tan, brown',\n",
       "     u'species': [u'http://swapi.co/api/species/5/'],\n",
       "     u'starships': [],\n",
       "     u'url': u'http://swapi.co/api/people/16/',\n",
       "     u'vehicles': []},\n",
       "    u'_type': u'people'}],\n",
       "  u'max_score': 1.3984017,\n",
       "  u'total': 1},\n",
       " u'timed_out': False,\n",
       " u'took': 33}"
      ]
     },
     "execution_count": 33,
     "metadata": {},
     "output_type": "execute_result"
    }
   ],
   "source": [
    "es.search(\n",
    "    index=\"sw\", \n",
    "    body={\n",
    "        \"query\": {\n",
    "            \"multi_match\" : { \n",
    "                \"query\" : \"jaba\",\n",
    "                \"fields\" : [\"name\", \"species\"],\n",
    "                \"fuzziness\" : 1\n",
    "            }\n",
    "        }\n",
    "    }\n",
    ")"
   ]
  },
  {
   "cell_type": "code",
   "execution_count": null,
   "metadata": {
    "collapsed": true
   },
   "outputs": [],
   "source": []
  }
 ],
 "metadata": {
  "kernelspec": {
   "display_name": "Python 2",
   "language": "python",
   "name": "python2"
  },
  "language_info": {
   "codemirror_mode": {
    "name": "ipython",
    "version": 2
   },
   "file_extension": ".py",
   "mimetype": "text/x-python",
   "name": "python",
   "nbconvert_exporter": "python",
   "pygments_lexer": "ipython2",
   "version": "2.7.12+"
  }
 },
 "nbformat": 4,
 "nbformat_minor": 2
}
