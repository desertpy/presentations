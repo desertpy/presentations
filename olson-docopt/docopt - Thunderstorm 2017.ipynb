{
 "cells": [
  {
   "cell_type": "markdown",
   "metadata": {
    "slideshow": {
     "slide_type": "slide"
    }
   },
   "source": [
    "# `<docopt>`\n",
    "## DesertPy Thunderstorm 2017\n",
    "\n",
    "Trevor Olson - [github.com/wtolson](https://github.com/wtolson)"
   ]
  },
  {
   "cell_type": "markdown",
   "metadata": {
    "slideshow": {
     "slide_type": "slide"
    }
   },
   "source": [
    "```\n",
    "Send some data.\n",
    "\n",
    "Usage:\n",
    "    my_program tcp <host> <port> [--timeout=<seconds>]\n",
    "    my_program serial <port> [--baud=9600] [--timeout=<seconds>]\n",
    "    my_program (-h | --help | --version)\n",
    "```"
   ]
  },
  {
   "cell_type": "code",
   "execution_count": 1,
   "metadata": {
    "slideshow": {
     "slide_type": "slide"
    }
   },
   "outputs": [
    {
     "name": "stdout",
     "output_type": "stream",
     "text": [
      "Namespace(timeout=None, **{'<host>': 'localhost', '<port>': '8080'})\n"
     ]
    }
   ],
   "source": [
    "\"\"\"Send some data.\n",
    "\n",
    "Usage:\n",
    "    my_program tcp <host> <port> [--timeout=<seconds>]\n",
    "    my_program serial <port> [--baud=9600] [--timeout=<seconds>]\n",
    "    my_program (-h | --help | --version)\n",
    "\"\"\"\n",
    "import argparse\n",
    "\n",
    "parser = argparse.ArgumentParser(prog='my_program')\n",
    "parser.add_argument('--version', action='version', version='1.0.0')\n",
    "subparsers = parser.add_subparsers()\n",
    "\n",
    "parser_tcp = subparsers.add_parser('tcp')\n",
    "parser_tcp.add_argument('<host>')\n",
    "parser_tcp.add_argument('<port>')\n",
    "parser_tcp.add_argument('--timeout', nargs='?')\n",
    "\n",
    "parser_serial = subparsers.add_parser('serial')\n",
    "parser_serial.add_argument('<port>')\n",
    "parser_serial.add_argument('--baud', nargs=1)\n",
    "parser_serial.add_argument('--timeout', nargs='?')\n",
    "\n",
    "print(parser.parse_args(['tcp', 'localhost', '8080']))"
   ]
  },
  {
   "cell_type": "code",
   "execution_count": 2,
   "metadata": {
    "slideshow": {
     "slide_type": "slide"
    }
   },
   "outputs": [
    {
     "data": {
      "text/plain": [
       "{'--baud': None,\n",
       " '--help': False,\n",
       " '--timeout': None,\n",
       " '--version': False,\n",
       " '-h': False,\n",
       " '<host>': 'localhost',\n",
       " '<port>': '8080',\n",
       " 'serial': False,\n",
       " 'tcp': True}"
      ]
     },
     "execution_count": 2,
     "metadata": {},
     "output_type": "execute_result"
    }
   ],
   "source": [
    "\"\"\"Send some data.\n",
    "\n",
    "Usage:\n",
    "    my_program tcp <host> <port> [--timeout=<seconds>]\n",
    "    my_program serial <port> [--baud=9600] [--timeout=<seconds>]\n",
    "    my_program (-h | --help | --version)\n",
    "\"\"\"\n",
    "\n",
    "from docopt import docopt\n",
    "docopt(__doc__, argv=['tcp', 'localhost', '8080'], version='1.0.0')"
   ]
  },
  {
   "cell_type": "markdown",
   "metadata": {
    "slideshow": {
     "slide_type": "slide"
    }
   },
   "source": [
    "Avalible in 21 flavors including:\n",
    "\n",
    "* Python\n",
    "* Rust\n",
    "* C\n",
    "* C++\n",
    "* PHP\n",
    "* Swift\n",
    "* Go"
   ]
  },
  {
   "cell_type": "markdown",
   "metadata": {
    "slideshow": {
     "slide_type": "subslide"
    }
   },
   "source": [
    "* F#\n",
    "* Ruby\n",
    "* Nim\n",
    "* Julia\n",
    "* D\n",
    "* CoffeeScript\n",
    "* Haskell"
   ]
  },
  {
   "cell_type": "markdown",
   "metadata": {
    "slideshow": {
     "slide_type": "subslide"
    }
   },
   "source": [
    "* Java\n",
    "* C#\n",
    "* R\n",
    "* Scala\n",
    "* Clojure\n",
    "* Tcl\n",
    "* Lua"
   ]
  },
  {
   "cell_type": "markdown",
   "metadata": {
    "slideshow": {
     "slide_type": "slide"
    }
   },
   "source": [
    "# Thanks!\n",
    "\n",
    "`<docopt>` - [docopt.org](http://docopt.org/)\n",
    "\n",
    "Trevor Olson - [github.com/wtolson](https://github.com/wtolson)"
   ]
  }
 ],
 "metadata": {
  "celltoolbar": "Slideshow",
  "kernelspec": {
   "display_name": "Python 3",
   "language": "python",
   "name": "python3"
  },
  "language_info": {
   "codemirror_mode": {
    "name": "ipython",
    "version": 3
   },
   "file_extension": ".py",
   "mimetype": "text/x-python",
   "name": "python",
   "nbconvert_exporter": "python",
   "pygments_lexer": "ipython3",
   "version": "3.5.3"
  }
 },
 "nbformat": 4,
 "nbformat_minor": 2
}
