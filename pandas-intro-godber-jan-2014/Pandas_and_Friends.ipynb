{
 "cells": [
  {
   "cell_type": "markdown",
   "metadata": {
    "slideshow": {
     "slide_type": "slide"
    }
   },
   "source": [
    "# Pandas and Friends\n",
    "\n",
    "* Austin Godber\n",
    "* Mail: godber@uberhip.com\n",
    "* Twitter: @godber\n",
    "* Presented at [DesertPy](http://desertpy.com), May 2018."
   ]
  },
  {
   "cell_type": "markdown",
   "metadata": {
    "slideshow": {
     "slide_type": "slide"
    }
   },
   "source": [
    "# What does it do?\n",
    "\n",
    "Pandas is a Python data analysis tool built on top of NumPy that provides a\n",
    "suite of data structures and data manipulation functions to work on those data\n",
    "structures.  It is particularly well suited for working with time series data."
   ]
  },
  {
   "cell_type": "markdown",
   "metadata": {
    "slideshow": {
     "slide_type": "slide"
    }
   },
   "source": [
    "# Getting Started - Installation\n",
    "\n",
    "Installing with pip or apt-get::\n",
    "\n",
    "```\n",
    "pip install pandas\n",
    "# or\n",
    "conda install pandas\n",
    "```\n",
    "\n",
    "* Mac - Homebrew or MacPorts to get the dependencies, then pip\n",
    "* Windows - Python(x,y)?\n",
    "* Commercial Pythons: Anaconda, Canopy"
   ]
  },
  {
   "cell_type": "markdown",
   "metadata": {
    "slideshow": {
     "slide_type": "subslide"
    }
   },
   "source": [
    "# Getting Started - Dependencies\n",
    "\n",
    "Dependencies, required, recommended and optional\n",
    "\n",
    "```\n",
    "# Required\n",
    "numpy, python-dateutil, pytx\n",
    "# Recommended\n",
    "numexpr, bottleneck, matplotlib\n",
    "# Optional\n",
    "cython, scipy, pytables, statsmodels, openpyxl\n",
    "```"
   ]
  },
  {
   "cell_type": "markdown",
   "metadata": {
    "slideshow": {
     "slide_type": "slide"
    }
   },
   "source": [
    "# Pandas' Friends!\n",
    "\n",
    "Pandas works along side and is built on top of several other Python projects."
   ]
  },
  {
   "cell_type": "markdown",
   "metadata": {
    "slideshow": {
     "slide_type": "fragment"
    }
   },
   "source": [
    "* Jupyter/IPython"
   ]
  },
  {
   "cell_type": "markdown",
   "metadata": {
    "slideshow": {
     "slide_type": "fragment"
    }
   },
   "source": [
    "* Numpy"
   ]
  },
  {
   "cell_type": "markdown",
   "metadata": {
    "slideshow": {
     "slide_type": "fragment"
    }
   },
   "source": [
    "* Matplotlib"
   ]
  },
  {
   "cell_type": "markdown",
   "metadata": {
    "slideshow": {
     "slide_type": "subslide"
    }
   },
   "source": [
    "## Pandas gets along with EVERYONE!\n",
    "\n",
    "\n",
    "<img src='panda-on-a-unicorn.jpg'>"
   ]
  },
  {
   "cell_type": "markdown",
   "metadata": {
    "slideshow": {
     "slide_type": "slide"
    }
   },
   "source": [
    "# Background - IPython\n",
    "\n",
    "\n",
    "IPython is a fancy python console.  Try running ``ipython`` or ``ipython --pylab`` on your command line.  Some IPython tips\n",
    "\n",
    "```python\n",
    "# Special commands, 'magic functions', begin with %\n",
    "%quickref, %who, %run, %reset\n",
    "# Shell Commands\n",
    "ls, cd, pwd, mkdir\n",
    "# Need Help?\n",
    "help(), help(obj), obj?, function?\n",
    "# Tab completion of variables, attributes and methods\n",
    "```"
   ]
  },
  {
   "cell_type": "markdown",
   "metadata": {
    "slideshow": {
     "slide_type": "subslide"
    }
   },
   "source": [
    "# Background - Jupyter/IPython Notebook\n",
    "\n",
    "There is a web interface to IPython, known as the Jupyter (IPython) notebook, start it\n",
    "like this\n",
    "\n",
    "```\n",
    "jupyter notebook\n",
    "# or to get all of the pylab components\n",
    "jupyter notebook --pylab\n",
    "```"
   ]
  },
  {
   "cell_type": "markdown",
   "metadata": {
    "slideshow": {
     "slide_type": "slide"
    }
   },
   "source": [
    "# Background - NumPy\n",
    "\n",
    "* NumPy is the foundation for Pandas\n",
    "* Numerical data structures (mostly Arrays)\n",
    "* Operations on those.\n",
    "* Less structure than Pandas provides."
   ]
  },
  {
   "cell_type": "markdown",
   "metadata": {
    "slideshow": {
     "slide_type": "subslide"
    }
   },
   "source": [
    "# Background - NumPy - Arrays"
   ]
  },
  {
   "cell_type": "code",
   "execution_count": 1,
   "metadata": {
    "slideshow": {
     "slide_type": "-"
    }
   },
   "outputs": [
    {
     "data": {
      "text/plain": [
       "array([[0., 0., 0., 0.],\n",
       "       [0., 0., 0., 0.]])"
      ]
     },
     "execution_count": 1,
     "metadata": {},
     "output_type": "execute_result"
    }
   ],
   "source": [
    "import numpy as np\n",
    "# np.zeros, np.ones\n",
    "data0 = np.zeros((2, 4))\n",
    "\n",
    "data0"
   ]
  },
  {
   "cell_type": "code",
   "execution_count": 2,
   "metadata": {
    "slideshow": {
     "slide_type": "subslide"
    }
   },
   "outputs": [
    {
     "data": {
      "text/plain": [
       "array([0, 1, 2, 3, 4, 5, 6, 7])"
      ]
     },
     "execution_count": 2,
     "metadata": {},
     "output_type": "execute_result"
    }
   ],
   "source": [
    "# Make an array with 20 entries 0..19\n",
    "data1 = np.arange(20)\n",
    "# print the first 8\n",
    "data1[0:8]"
   ]
  },
  {
   "cell_type": "markdown",
   "metadata": {
    "slideshow": {
     "slide_type": "subslide"
    }
   },
   "source": [
    "## Background - NumPy - Arrays"
   ]
  },
  {
   "cell_type": "code",
   "execution_count": 3,
   "metadata": {},
   "outputs": [
    {
     "data": {
      "text/plain": [
       "array([[ 0,  1,  2,  3,  4],\n",
       "       [ 5,  6,  7,  8,  9],\n",
       "       [10, 11, 12, 13, 14],\n",
       "       [15, 16, 17, 18, 19]])"
      ]
     },
     "execution_count": 3,
     "metadata": {},
     "output_type": "execute_result"
    }
   ],
   "source": [
    "# make it a 4,5 array\n",
    "data = np.arange(20).reshape(4, 5)\n",
    "data"
   ]
  },
  {
   "cell_type": "markdown",
   "metadata": {
    "slideshow": {
     "slide_type": "subslide"
    }
   },
   "source": [
    "## Background - NumPy - Arrays\n",
    "\n",
    "Arrays have NumPy specific types, `dtypes`, and can be operated on."
   ]
  },
  {
   "cell_type": "code",
   "execution_count": 4,
   "metadata": {},
   "outputs": [
    {
     "name": "stdout",
     "output_type": "stream",
     "text": [
      "dtype:  int64\n",
      "[[  0.   20.5  41.   61.5  82. ]\n",
      " [102.5 123.  143.5 164.  184.5]\n",
      " [205.  225.5 246.  266.5 287. ]\n",
      " [307.5 328.  348.5 369.  389.5]]\n",
      "float64\n"
     ]
    }
   ],
   "source": [
    "print(\"dtype: \", data.dtype)\n",
    "result = data * 20.5\n",
    "print(result)\n",
    "print(result.dtype)"
   ]
  },
  {
   "cell_type": "markdown",
   "metadata": {
    "slideshow": {
     "slide_type": "slide"
    }
   },
   "source": [
    "Now, on to Pandas\n",
    "-----------------\n",
    "\n",
    "![](panda-giving-another-panda-a-hand-sm.jpg)"
   ]
  },
  {
   "cell_type": "markdown",
   "metadata": {
    "slideshow": {
     "slide_type": "slide"
    }
   },
   "source": [
    "Pandas\n",
    "------\n",
    "\n",
    "* Tabular, Timeseries, Matrix Data - labeled or not\n",
    "* Sensible handling of missing data and data alignment\n",
    "* Data selection, slicing and reshaping features\n",
    "* Robust data import utilities.\n",
    "* Advanced time series capabilities"
   ]
  },
  {
   "cell_type": "markdown",
   "metadata": {
    "slideshow": {
     "slide_type": "subslide"
    }
   },
   "source": [
    "Data Structures\n",
    "----------------\n",
    "\n",
    "* Series - 1D labeled array\n",
    "* DataFrame - 2D labeled array\n",
    "* Panel - 3D labeled array (More D)"
   ]
  },
  {
   "cell_type": "markdown",
   "metadata": {
    "slideshow": {
     "slide_type": "slide"
    }
   },
   "source": [
    "# Assumed Imports\n",
    "\n",
    "In my code samples, assume I import the following"
   ]
  },
  {
   "cell_type": "code",
   "execution_count": 5,
   "metadata": {},
   "outputs": [],
   "source": [
    "import pandas as pd\n",
    "import numpy as np"
   ]
  },
  {
   "cell_type": "markdown",
   "metadata": {
    "slideshow": {
     "slide_type": "slide"
    }
   },
   "source": [
    "# Series\n",
    "\n",
    "* one-dimensional labeled array\n",
    "* holds any data type\n",
    "* axis labels known as index\n",
    "* implicit integer indexes\n",
    "* ``dict``-like"
   ]
  },
  {
   "cell_type": "markdown",
   "metadata": {
    "slideshow": {
     "slide_type": "subslide"
    }
   },
   "source": [
    "# Create a Simple Series"
   ]
  },
  {
   "cell_type": "code",
   "execution_count": 6,
   "metadata": {},
   "outputs": [
    {
     "data": {
      "text/plain": [
       "0    1\n",
       "1    2\n",
       "2    3\n",
       "3    4\n",
       "4    5\n",
       "dtype: int64"
      ]
     },
     "execution_count": 6,
     "metadata": {},
     "output_type": "execute_result"
    }
   ],
   "source": [
    "s1 = pd.Series([1, 2, 3, 4, 5])\n",
    "s1"
   ]
  },
  {
   "cell_type": "markdown",
   "metadata": {
    "slideshow": {
     "slide_type": "subslide"
    }
   },
   "source": [
    "# Series Operations"
   ]
  },
  {
   "cell_type": "code",
   "execution_count": 7,
   "metadata": {},
   "outputs": [
    {
     "name": "stdout",
     "output_type": "stream",
     "text": [
      "0     5\n",
      "1    10\n",
      "2    15\n",
      "3    20\n",
      "4    25\n",
      "dtype: int64\n"
     ]
    }
   ],
   "source": [
    "# integer multiplication\n",
    "print(s1 * 5)"
   ]
  },
  {
   "cell_type": "markdown",
   "metadata": {
    "slideshow": {
     "slide_type": "subslide"
    }
   },
   "source": [
    "# Series Operations - Cont."
   ]
  },
  {
   "cell_type": "code",
   "execution_count": 8,
   "metadata": {},
   "outputs": [
    {
     "name": "stdout",
     "output_type": "stream",
     "text": [
      "0     5.0\n",
      "1    10.0\n",
      "2    15.0\n",
      "3    20.0\n",
      "4    25.0\n",
      "dtype: float64\n"
     ]
    }
   ],
   "source": [
    "# float multiplication\n",
    "print(s1 * 5.0)"
   ]
  },
  {
   "cell_type": "markdown",
   "metadata": {
    "slideshow": {
     "slide_type": "subslide"
    }
   },
   "source": [
    "# Series Index"
   ]
  },
  {
   "cell_type": "code",
   "execution_count": 9,
   "metadata": {},
   "outputs": [
    {
     "data": {
      "text/plain": [
       "a    1\n",
       "b    2\n",
       "c    3\n",
       "d    4\n",
       "e    5\n",
       "dtype: int64"
      ]
     },
     "execution_count": 9,
     "metadata": {},
     "output_type": "execute_result"
    }
   ],
   "source": [
    "s2 = pd.Series([1, 2, 3, 4, 5],\n",
    "               index=['a', 'b', 'c', 'd', 'e'])\n",
    "s2"
   ]
  },
  {
   "cell_type": "markdown",
   "metadata": {
    "slideshow": {
     "slide_type": "subslide"
    }
   },
   "source": [
    "# Date Convenience Functions\n",
    "\n",
    "A quick aside ..."
   ]
  },
  {
   "cell_type": "code",
   "execution_count": 10,
   "metadata": {},
   "outputs": [
    {
     "name": "stdout",
     "output_type": "stream",
     "text": [
      "DatetimeIndex(['2018-05-08', '2018-05-09', '2018-05-10', '2018-05-11',\n",
      "               '2018-05-12'],\n",
      "              dtype='datetime64[ns]', freq='D')\n",
      "\n",
      "2018-05-08 00:00:00\n"
     ]
    }
   ],
   "source": [
    "dates = pd.date_range('20180508', periods=5)\n",
    "print(dates)\n",
    "print()\n",
    "print(dates[0])"
   ]
  },
  {
   "cell_type": "markdown",
   "metadata": {
    "slideshow": {
     "slide_type": "subslide"
    }
   },
   "source": [
    "# Datestamps as Index"
   ]
  },
  {
   "cell_type": "code",
   "execution_count": 11,
   "metadata": {},
   "outputs": [
    {
     "data": {
      "text/plain": [
       "2018-05-08    1\n",
       "2018-05-09    2\n",
       "2018-05-10    3\n",
       "2018-05-11    4\n",
       "2018-05-12    5\n",
       "Freq: D, dtype: int64"
      ]
     },
     "execution_count": 11,
     "metadata": {},
     "output_type": "execute_result"
    }
   ],
   "source": [
    "s3 = pd.Series([1, 2, 3, 4, 5], index=dates)\n",
    "s3"
   ]
  },
  {
   "cell_type": "markdown",
   "metadata": {
    "slideshow": {
     "slide_type": "subslide"
    }
   },
   "source": [
    "# Selecting By Index\n",
    "\n",
    "Note that the integer index is retained along with the new date index."
   ]
  },
  {
   "cell_type": "code",
   "execution_count": 12,
   "metadata": {},
   "outputs": [
    {
     "name": "stdout",
     "output_type": "stream",
     "text": [
      "1 <class 'numpy.int64'>\n",
      "\n",
      "2018-05-09    2\n",
      "2018-05-10    3\n",
      "Freq: D, dtype: int64\n",
      "\n",
      "<class 'pandas.core.series.Series'>\n"
     ]
    }
   ],
   "source": [
    "print(s3[0], type(s3[0]))\n",
    "print()\n",
    "print(s3[1:3])\n",
    "print()\n",
    "print(type(s3[1:3]))"
   ]
  },
  {
   "cell_type": "markdown",
   "metadata": {
    "slideshow": {
     "slide_type": "subslide"
    }
   },
   "source": [
    "# Selecting by value"
   ]
  },
  {
   "cell_type": "code",
   "execution_count": 13,
   "metadata": {},
   "outputs": [
    {
     "data": {
      "text/plain": [
       "2018-05-08    1\n",
       "2018-05-09    2\n",
       "Freq: D, dtype: int64"
      ]
     },
     "execution_count": 13,
     "metadata": {},
     "output_type": "execute_result"
    }
   ],
   "source": [
    "s3[s3 < 3]"
   ]
  },
  {
   "cell_type": "markdown",
   "metadata": {
    "slideshow": {
     "slide_type": "subslide"
    }
   },
   "source": [
    "## Wait!  How did that work?\n",
    "\n",
    "(Boolean Series)"
   ]
  },
  {
   "cell_type": "code",
   "execution_count": 14,
   "metadata": {},
   "outputs": [
    {
     "data": {
      "text/plain": [
       "2018-05-08     True\n",
       "2018-05-09     True\n",
       "2018-05-10    False\n",
       "2018-05-11    False\n",
       "2018-05-12    False\n",
       "Freq: D, dtype: bool"
      ]
     },
     "execution_count": 14,
     "metadata": {},
     "output_type": "execute_result"
    }
   ],
   "source": [
    "s3 < 3"
   ]
  },
  {
   "cell_type": "markdown",
   "metadata": {
    "slideshow": {
     "slide_type": "subslide"
    }
   },
   "source": [
    "# Selecting by Label (Date)"
   ]
  },
  {
   "cell_type": "code",
   "execution_count": 15,
   "metadata": {},
   "outputs": [
    {
     "data": {
      "text/plain": [
       "2018-05-09    2\n",
       "2018-05-10    3\n",
       "2018-05-11    4\n",
       "Freq: D, dtype: int64"
      ]
     },
     "execution_count": 15,
     "metadata": {},
     "output_type": "execute_result"
    }
   ],
   "source": [
    "s3['20180509':'20180511']"
   ]
  },
  {
   "cell_type": "markdown",
   "metadata": {
    "slideshow": {
     "slide_type": "subslide"
    }
   },
   "source": [
    "Series Wrapup\n",
    "-------------\n",
    "\n",
    "Things not covered but you should look into:\n",
    "\n",
    "* Other instantiation options: ``dict``\n",
    "* Operator Handling of missing data ``NaN``\n",
    "* Reforming Data and Indexes\n",
    "* Other Series Attributes:\n",
    "\n",
    "  * ``index`` - ``index.name``\n",
    "  * ``name`` - Series name"
   ]
  },
  {
   "cell_type": "markdown",
   "metadata": {
    "slideshow": {
     "slide_type": "slide"
    }
   },
   "source": [
    "DataFrame\n",
    "---------\n",
    "\n",
    "* 2-dimensional labeled data structure\n",
    "* Like a SQL Table, Spreadsheet or ``dict`` of ``Series`` objects.\n",
    "* Columns of potentially different types\n",
    "* Operations, slicing and other behavior just like ``Series``"
   ]
  },
  {
   "cell_type": "markdown",
   "metadata": {
    "slideshow": {
     "slide_type": "subslide"
    }
   },
   "source": [
    "# DataFrame - Simple"
   ]
  },
  {
   "cell_type": "code",
   "execution_count": 16,
   "metadata": {},
   "outputs": [
    {
     "data": {
      "text/html": [
       "<div>\n",
       "<style scoped>\n",
       "    .dataframe tbody tr th:only-of-type {\n",
       "        vertical-align: middle;\n",
       "    }\n",
       "\n",
       "    .dataframe tbody tr th {\n",
       "        vertical-align: top;\n",
       "    }\n",
       "\n",
       "    .dataframe thead th {\n",
       "        text-align: right;\n",
       "    }\n",
       "</style>\n",
       "<table border=\"1\" class=\"dataframe\">\n",
       "  <thead>\n",
       "    <tr style=\"text-align: right;\">\n",
       "      <th></th>\n",
       "      <th>0</th>\n",
       "      <th>1</th>\n",
       "      <th>2</th>\n",
       "      <th>3</th>\n",
       "    </tr>\n",
       "  </thead>\n",
       "  <tbody>\n",
       "    <tr>\n",
       "      <th>0</th>\n",
       "      <td>0.154427</td>\n",
       "      <td>0.384215</td>\n",
       "      <td>0.971855</td>\n",
       "      <td>0.716330</td>\n",
       "    </tr>\n",
       "    <tr>\n",
       "      <th>1</th>\n",
       "      <td>0.762026</td>\n",
       "      <td>0.603325</td>\n",
       "      <td>0.031306</td>\n",
       "      <td>0.492070</td>\n",
       "    </tr>\n",
       "    <tr>\n",
       "      <th>2</th>\n",
       "      <td>0.584960</td>\n",
       "      <td>0.463183</td>\n",
       "      <td>0.203376</td>\n",
       "      <td>0.782820</td>\n",
       "    </tr>\n",
       "    <tr>\n",
       "      <th>3</th>\n",
       "      <td>0.995588</td>\n",
       "      <td>0.515807</td>\n",
       "      <td>0.751025</td>\n",
       "      <td>0.405215</td>\n",
       "    </tr>\n",
       "  </tbody>\n",
       "</table>\n",
       "</div>"
      ],
      "text/plain": [
       "          0         1         2         3\n",
       "0  0.154427  0.384215  0.971855  0.716330\n",
       "1  0.762026  0.603325  0.031306  0.492070\n",
       "2  0.584960  0.463183  0.203376  0.782820\n",
       "3  0.995588  0.515807  0.751025  0.405215"
      ]
     },
     "execution_count": 16,
     "metadata": {},
     "output_type": "execute_result"
    }
   ],
   "source": [
    "data1 = pd.DataFrame(np.random.rand(4, 4))\n",
    "data1"
   ]
  },
  {
   "cell_type": "markdown",
   "metadata": {
    "slideshow": {
     "slide_type": "subslide"
    }
   },
   "source": [
    "# DataFrame - Index/Column Names"
   ]
  },
  {
   "cell_type": "code",
   "execution_count": 17,
   "metadata": {},
   "outputs": [
    {
     "data": {
      "text/html": [
       "<div>\n",
       "<style scoped>\n",
       "    .dataframe tbody tr th:only-of-type {\n",
       "        vertical-align: middle;\n",
       "    }\n",
       "\n",
       "    .dataframe tbody tr th {\n",
       "        vertical-align: top;\n",
       "    }\n",
       "\n",
       "    .dataframe thead th {\n",
       "        text-align: right;\n",
       "    }\n",
       "</style>\n",
       "<table border=\"1\" class=\"dataframe\">\n",
       "  <thead>\n",
       "    <tr style=\"text-align: right;\">\n",
       "      <th></th>\n",
       "      <th>A</th>\n",
       "      <th>B</th>\n",
       "      <th>C</th>\n",
       "      <th>D</th>\n",
       "    </tr>\n",
       "  </thead>\n",
       "  <tbody>\n",
       "    <tr>\n",
       "      <th>2018-05-08</th>\n",
       "      <td>0.204734</td>\n",
       "      <td>0.010234</td>\n",
       "      <td>0.794668</td>\n",
       "      <td>0.073312</td>\n",
       "    </tr>\n",
       "    <tr>\n",
       "      <th>2018-05-09</th>\n",
       "      <td>0.377921</td>\n",
       "      <td>0.548704</td>\n",
       "      <td>0.805982</td>\n",
       "      <td>0.265901</td>\n",
       "    </tr>\n",
       "    <tr>\n",
       "      <th>2018-05-10</th>\n",
       "      <td>0.045908</td>\n",
       "      <td>0.803880</td>\n",
       "      <td>0.513916</td>\n",
       "      <td>0.223545</td>\n",
       "    </tr>\n",
       "    <tr>\n",
       "      <th>2018-05-11</th>\n",
       "      <td>0.147731</td>\n",
       "      <td>0.188223</td>\n",
       "      <td>0.894640</td>\n",
       "      <td>0.829737</td>\n",
       "    </tr>\n",
       "  </tbody>\n",
       "</table>\n",
       "</div>"
      ],
      "text/plain": [
       "                   A         B         C         D\n",
       "2018-05-08  0.204734  0.010234  0.794668  0.073312\n",
       "2018-05-09  0.377921  0.548704  0.805982  0.265901\n",
       "2018-05-10  0.045908  0.803880  0.513916  0.223545\n",
       "2018-05-11  0.147731  0.188223  0.894640  0.829737"
      ]
     },
     "execution_count": 17,
     "metadata": {},
     "output_type": "execute_result"
    }
   ],
   "source": [
    "dates = pd.date_range('20180508', periods=4)\n",
    "data2 = pd.DataFrame(\n",
    "    np.random.rand(4, 4),\n",
    "    index=dates, columns=list('ABCD'))\n",
    "data2"
   ]
  },
  {
   "cell_type": "markdown",
   "metadata": {
    "slideshow": {
     "slide_type": "subslide"
    }
   },
   "source": [
    "# DataFrame - Operations"
   ]
  },
  {
   "cell_type": "code",
   "execution_count": 18,
   "metadata": {},
   "outputs": [
    {
     "data": {
      "text/html": [
       "<div>\n",
       "<style scoped>\n",
       "    .dataframe tbody tr th:only-of-type {\n",
       "        vertical-align: middle;\n",
       "    }\n",
       "\n",
       "    .dataframe tbody tr th {\n",
       "        vertical-align: top;\n",
       "    }\n",
       "\n",
       "    .dataframe thead th {\n",
       "        text-align: right;\n",
       "    }\n",
       "</style>\n",
       "<table border=\"1\" class=\"dataframe\">\n",
       "  <thead>\n",
       "    <tr style=\"text-align: right;\">\n",
       "      <th></th>\n",
       "      <th>A</th>\n",
       "      <th>B</th>\n",
       "      <th>C</th>\n",
       "      <th>D</th>\n",
       "      <th>E</th>\n",
       "    </tr>\n",
       "  </thead>\n",
       "  <tbody>\n",
       "    <tr>\n",
       "      <th>2018-05-08</th>\n",
       "      <td>0.204734</td>\n",
       "      <td>0.010234</td>\n",
       "      <td>0.794668</td>\n",
       "      <td>0.073312</td>\n",
       "      <td>3.983573</td>\n",
       "    </tr>\n",
       "    <tr>\n",
       "      <th>2018-05-09</th>\n",
       "      <td>0.377921</td>\n",
       "      <td>0.548704</td>\n",
       "      <td>0.805982</td>\n",
       "      <td>0.265901</td>\n",
       "      <td>4.578615</td>\n",
       "    </tr>\n",
       "    <tr>\n",
       "      <th>2018-05-10</th>\n",
       "      <td>0.045908</td>\n",
       "      <td>0.803880</td>\n",
       "      <td>0.513916</td>\n",
       "      <td>0.223545</td>\n",
       "      <td>3.373460</td>\n",
       "    </tr>\n",
       "    <tr>\n",
       "      <th>2018-05-11</th>\n",
       "      <td>0.147731</td>\n",
       "      <td>0.188223</td>\n",
       "      <td>0.894640</td>\n",
       "      <td>0.829737</td>\n",
       "      <td>4.661420</td>\n",
       "    </tr>\n",
       "  </tbody>\n",
       "</table>\n",
       "</div>"
      ],
      "text/plain": [
       "                   A         B         C         D         E\n",
       "2018-05-08  0.204734  0.010234  0.794668  0.073312  3.983573\n",
       "2018-05-09  0.377921  0.548704  0.805982  0.265901  4.578615\n",
       "2018-05-10  0.045908  0.803880  0.513916  0.223545  3.373460\n",
       "2018-05-11  0.147731  0.188223  0.894640  0.829737  4.661420"
      ]
     },
     "execution_count": 18,
     "metadata": {},
     "output_type": "execute_result"
    }
   ],
   "source": [
    "data2['E'] = data2['B'] + 5 * data2['C']\n",
    "data2"
   ]
  },
  {
   "cell_type": "markdown",
   "metadata": {
    "slideshow": {
     "slide_type": "fragment"
    }
   },
   "source": [
    "See?  You never need Excel again!"
   ]
  },
  {
   "cell_type": "markdown",
   "metadata": {
    "slideshow": {
     "slide_type": "subslide"
    }
   },
   "source": [
    "# DataFrame - Column Access\n",
    "\n",
    "Deleting a column."
   ]
  },
  {
   "cell_type": "code",
   "execution_count": 19,
   "metadata": {},
   "outputs": [
    {
     "data": {
      "text/html": [
       "<div>\n",
       "<style scoped>\n",
       "    .dataframe tbody tr th:only-of-type {\n",
       "        vertical-align: middle;\n",
       "    }\n",
       "\n",
       "    .dataframe tbody tr th {\n",
       "        vertical-align: top;\n",
       "    }\n",
       "\n",
       "    .dataframe thead th {\n",
       "        text-align: right;\n",
       "    }\n",
       "</style>\n",
       "<table border=\"1\" class=\"dataframe\">\n",
       "  <thead>\n",
       "    <tr style=\"text-align: right;\">\n",
       "      <th></th>\n",
       "      <th>A</th>\n",
       "      <th>B</th>\n",
       "      <th>C</th>\n",
       "      <th>D</th>\n",
       "    </tr>\n",
       "  </thead>\n",
       "  <tbody>\n",
       "    <tr>\n",
       "      <th>2018-05-08</th>\n",
       "      <td>0.204734</td>\n",
       "      <td>0.010234</td>\n",
       "      <td>0.794668</td>\n",
       "      <td>0.073312</td>\n",
       "    </tr>\n",
       "    <tr>\n",
       "      <th>2018-05-09</th>\n",
       "      <td>0.377921</td>\n",
       "      <td>0.548704</td>\n",
       "      <td>0.805982</td>\n",
       "      <td>0.265901</td>\n",
       "    </tr>\n",
       "    <tr>\n",
       "      <th>2018-05-10</th>\n",
       "      <td>0.045908</td>\n",
       "      <td>0.803880</td>\n",
       "      <td>0.513916</td>\n",
       "      <td>0.223545</td>\n",
       "    </tr>\n",
       "    <tr>\n",
       "      <th>2018-05-11</th>\n",
       "      <td>0.147731</td>\n",
       "      <td>0.188223</td>\n",
       "      <td>0.894640</td>\n",
       "      <td>0.829737</td>\n",
       "    </tr>\n",
       "  </tbody>\n",
       "</table>\n",
       "</div>"
      ],
      "text/plain": [
       "                   A         B         C         D\n",
       "2018-05-08  0.204734  0.010234  0.794668  0.073312\n",
       "2018-05-09  0.377921  0.548704  0.805982  0.265901\n",
       "2018-05-10  0.045908  0.803880  0.513916  0.223545\n",
       "2018-05-11  0.147731  0.188223  0.894640  0.829737"
      ]
     },
     "execution_count": 19,
     "metadata": {},
     "output_type": "execute_result"
    }
   ],
   "source": [
    "# Deleting a Column\n",
    "del data2['E']\n",
    "data2"
   ]
  },
  {
   "cell_type": "markdown",
   "metadata": {
    "slideshow": {
     "slide_type": "subslide"
    }
   },
   "source": [
    "# DataFrame\n",
    "\n",
    "Remember this, data2, for the next examples."
   ]
  },
  {
   "cell_type": "code",
   "execution_count": 20,
   "metadata": {},
   "outputs": [
    {
     "data": {
      "text/html": [
       "<div>\n",
       "<style scoped>\n",
       "    .dataframe tbody tr th:only-of-type {\n",
       "        vertical-align: middle;\n",
       "    }\n",
       "\n",
       "    .dataframe tbody tr th {\n",
       "        vertical-align: top;\n",
       "    }\n",
       "\n",
       "    .dataframe thead th {\n",
       "        text-align: right;\n",
       "    }\n",
       "</style>\n",
       "<table border=\"1\" class=\"dataframe\">\n",
       "  <thead>\n",
       "    <tr style=\"text-align: right;\">\n",
       "      <th></th>\n",
       "      <th>A</th>\n",
       "      <th>B</th>\n",
       "      <th>C</th>\n",
       "      <th>D</th>\n",
       "    </tr>\n",
       "  </thead>\n",
       "  <tbody>\n",
       "    <tr>\n",
       "      <th>2018-05-08</th>\n",
       "      <td>0.204734</td>\n",
       "      <td>0.010234</td>\n",
       "      <td>0.794668</td>\n",
       "      <td>0.073312</td>\n",
       "    </tr>\n",
       "    <tr>\n",
       "      <th>2018-05-09</th>\n",
       "      <td>0.377921</td>\n",
       "      <td>0.548704</td>\n",
       "      <td>0.805982</td>\n",
       "      <td>0.265901</td>\n",
       "    </tr>\n",
       "    <tr>\n",
       "      <th>2018-05-10</th>\n",
       "      <td>0.045908</td>\n",
       "      <td>0.803880</td>\n",
       "      <td>0.513916</td>\n",
       "      <td>0.223545</td>\n",
       "    </tr>\n",
       "    <tr>\n",
       "      <th>2018-05-11</th>\n",
       "      <td>0.147731</td>\n",
       "      <td>0.188223</td>\n",
       "      <td>0.894640</td>\n",
       "      <td>0.829737</td>\n",
       "    </tr>\n",
       "  </tbody>\n",
       "</table>\n",
       "</div>"
      ],
      "text/plain": [
       "                   A         B         C         D\n",
       "2018-05-08  0.204734  0.010234  0.794668  0.073312\n",
       "2018-05-09  0.377921  0.548704  0.805982  0.265901\n",
       "2018-05-10  0.045908  0.803880  0.513916  0.223545\n",
       "2018-05-11  0.147731  0.188223  0.894640  0.829737"
      ]
     },
     "execution_count": 20,
     "metadata": {},
     "output_type": "execute_result"
    }
   ],
   "source": [
    "data2"
   ]
  },
  {
   "cell_type": "markdown",
   "metadata": {
    "slideshow": {
     "slide_type": "subslide"
    }
   },
   "source": [
    "# DataFrame - Column Access \n",
    "\n",
    "As a dict"
   ]
  },
  {
   "cell_type": "code",
   "execution_count": 21,
   "metadata": {},
   "outputs": [
    {
     "data": {
      "text/plain": [
       "2018-05-08    0.010234\n",
       "2018-05-09    0.548704\n",
       "2018-05-10    0.803880\n",
       "2018-05-11    0.188223\n",
       "Freq: D, Name: B, dtype: float64"
      ]
     },
     "execution_count": 21,
     "metadata": {},
     "output_type": "execute_result"
    }
   ],
   "source": [
    "data2['B']"
   ]
  },
  {
   "cell_type": "markdown",
   "metadata": {
    "slideshow": {
     "slide_type": "subslide"
    }
   },
   "source": [
    "# DataFrame - Column Access\n",
    "\n",
    "As an attribute"
   ]
  },
  {
   "cell_type": "code",
   "execution_count": 22,
   "metadata": {},
   "outputs": [
    {
     "data": {
      "text/plain": [
       "2018-05-08    0.010234\n",
       "2018-05-09    0.548704\n",
       "2018-05-10    0.803880\n",
       "2018-05-11    0.188223\n",
       "Freq: D, Name: B, dtype: float64"
      ]
     },
     "execution_count": 22,
     "metadata": {},
     "output_type": "execute_result"
    }
   ],
   "source": [
    "data2.B"
   ]
  },
  {
   "cell_type": "markdown",
   "metadata": {
    "slideshow": {
     "slide_type": "subslide"
    }
   },
   "source": [
    "# DataFrame - Row Access\n",
    "\n",
    "By row label"
   ]
  },
  {
   "cell_type": "code",
   "execution_count": 23,
   "metadata": {},
   "outputs": [
    {
     "data": {
      "text/plain": [
       "A    0.045908\n",
       "B    0.803880\n",
       "C    0.513916\n",
       "D    0.223545\n",
       "Name: 2018-05-10 00:00:00, dtype: float64"
      ]
     },
     "execution_count": 23,
     "metadata": {},
     "output_type": "execute_result"
    }
   ],
   "source": [
    "data2.loc['20180510']"
   ]
  },
  {
   "cell_type": "markdown",
   "metadata": {
    "slideshow": {
     "slide_type": "subslide"
    }
   },
   "source": [
    "# DataFrame - Row Access\n",
    "\n",
    "By integer location   "
   ]
  },
  {
   "cell_type": "code",
   "execution_count": 24,
   "metadata": {},
   "outputs": [
    {
     "data": {
      "text/plain": [
       "A    0.377921\n",
       "B    0.548704\n",
       "C    0.805982\n",
       "D    0.265901\n",
       "Name: 2018-05-09 00:00:00, dtype: float64"
      ]
     },
     "execution_count": 24,
     "metadata": {},
     "output_type": "execute_result"
    }
   ],
   "source": [
    "data2.iloc[1]"
   ]
  },
  {
   "cell_type": "markdown",
   "metadata": {
    "slideshow": {
     "slide_type": "subslide"
    }
   },
   "source": [
    "# DataFrame - Cell Access\n",
    "\n",
    "Access column, then row or use iloc and row/column indexes."
   ]
  },
  {
   "cell_type": "code",
   "execution_count": 25,
   "metadata": {},
   "outputs": [
    {
     "name": "stdout",
     "output_type": "stream",
     "text": [
      "0.01023406676004579\n",
      "0.01023406676004579\n",
      "0.01023406676004579\n",
      "0.01023406676004579\n"
     ]
    }
   ],
   "source": [
    "print(data2.B[0])\n",
    "print(data2['B'][0])\n",
    "print(data2.loc['20180508'][1])\n",
    "print(data2.iloc[0,1])  # [row,column] "
   ]
  },
  {
   "cell_type": "markdown",
   "metadata": {
    "slideshow": {
     "slide_type": "subslide"
    }
   },
   "source": [
    "# DataFrame - Taking a Peek\n",
    "\n",
    "Look at the beginning of the DataFrame"
   ]
  },
  {
   "cell_type": "code",
   "execution_count": 26,
   "metadata": {},
   "outputs": [
    {
     "data": {
      "text/html": [
       "<div>\n",
       "<style scoped>\n",
       "    .dataframe tbody tr th:only-of-type {\n",
       "        vertical-align: middle;\n",
       "    }\n",
       "\n",
       "    .dataframe tbody tr th {\n",
       "        vertical-align: top;\n",
       "    }\n",
       "\n",
       "    .dataframe thead th {\n",
       "        text-align: right;\n",
       "    }\n",
       "</style>\n",
       "<table border=\"1\" class=\"dataframe\">\n",
       "  <thead>\n",
       "    <tr style=\"text-align: right;\">\n",
       "      <th></th>\n",
       "      <th>0</th>\n",
       "      <th>1</th>\n",
       "      <th>2</th>\n",
       "      <th>3</th>\n",
       "    </tr>\n",
       "  </thead>\n",
       "  <tbody>\n",
       "    <tr>\n",
       "      <th>0</th>\n",
       "      <td>0.471892</td>\n",
       "      <td>0.358332</td>\n",
       "      <td>0.152068</td>\n",
       "      <td>0.092241</td>\n",
       "    </tr>\n",
       "    <tr>\n",
       "      <th>1</th>\n",
       "      <td>0.991428</td>\n",
       "      <td>0.289940</td>\n",
       "      <td>0.877088</td>\n",
       "      <td>0.628066</td>\n",
       "    </tr>\n",
       "    <tr>\n",
       "      <th>2</th>\n",
       "      <td>0.267741</td>\n",
       "      <td>0.649669</td>\n",
       "      <td>0.030266</td>\n",
       "      <td>0.710451</td>\n",
       "    </tr>\n",
       "    <tr>\n",
       "      <th>3</th>\n",
       "      <td>0.133410</td>\n",
       "      <td>0.487617</td>\n",
       "      <td>0.326599</td>\n",
       "      <td>0.178408</td>\n",
       "    </tr>\n",
       "    <tr>\n",
       "      <th>4</th>\n",
       "      <td>0.263134</td>\n",
       "      <td>0.302178</td>\n",
       "      <td>0.274081</td>\n",
       "      <td>0.921488</td>\n",
       "    </tr>\n",
       "  </tbody>\n",
       "</table>\n",
       "</div>"
      ],
      "text/plain": [
       "          0         1         2         3\n",
       "0  0.471892  0.358332  0.152068  0.092241\n",
       "1  0.991428  0.289940  0.877088  0.628066\n",
       "2  0.267741  0.649669  0.030266  0.710451\n",
       "3  0.133410  0.487617  0.326599  0.178408\n",
       "4  0.263134  0.302178  0.274081  0.921488"
      ]
     },
     "execution_count": 26,
     "metadata": {},
     "output_type": "execute_result"
    }
   ],
   "source": [
    "data3 = pd.DataFrame(np.random.rand(100, 4))\n",
    "data3.head()"
   ]
  },
  {
   "cell_type": "markdown",
   "metadata": {
    "slideshow": {
     "slide_type": "subslide"
    }
   },
   "source": [
    "# DataFrame - Taking a Peek\n",
    "\n",
    "Look at the end of the DataFrame."
   ]
  },
  {
   "cell_type": "code",
   "execution_count": 27,
   "metadata": {},
   "outputs": [
    {
     "data": {
      "text/html": [
       "<div>\n",
       "<style scoped>\n",
       "    .dataframe tbody tr th:only-of-type {\n",
       "        vertical-align: middle;\n",
       "    }\n",
       "\n",
       "    .dataframe tbody tr th {\n",
       "        vertical-align: top;\n",
       "    }\n",
       "\n",
       "    .dataframe thead th {\n",
       "        text-align: right;\n",
       "    }\n",
       "</style>\n",
       "<table border=\"1\" class=\"dataframe\">\n",
       "  <thead>\n",
       "    <tr style=\"text-align: right;\">\n",
       "      <th></th>\n",
       "      <th>0</th>\n",
       "      <th>1</th>\n",
       "      <th>2</th>\n",
       "      <th>3</th>\n",
       "    </tr>\n",
       "  </thead>\n",
       "  <tbody>\n",
       "    <tr>\n",
       "      <th>95</th>\n",
       "      <td>0.443827</td>\n",
       "      <td>0.994464</td>\n",
       "      <td>0.601041</td>\n",
       "      <td>0.649075</td>\n",
       "    </tr>\n",
       "    <tr>\n",
       "      <th>96</th>\n",
       "      <td>0.784303</td>\n",
       "      <td>0.383504</td>\n",
       "      <td>0.799354</td>\n",
       "      <td>0.579578</td>\n",
       "    </tr>\n",
       "    <tr>\n",
       "      <th>97</th>\n",
       "      <td>0.759441</td>\n",
       "      <td>0.009411</td>\n",
       "      <td>0.998942</td>\n",
       "      <td>0.895923</td>\n",
       "    </tr>\n",
       "    <tr>\n",
       "      <th>98</th>\n",
       "      <td>0.364759</td>\n",
       "      <td>0.218718</td>\n",
       "      <td>0.175412</td>\n",
       "      <td>0.249983</td>\n",
       "    </tr>\n",
       "    <tr>\n",
       "      <th>99</th>\n",
       "      <td>0.930018</td>\n",
       "      <td>0.926877</td>\n",
       "      <td>0.706113</td>\n",
       "      <td>0.313995</td>\n",
       "    </tr>\n",
       "  </tbody>\n",
       "</table>\n",
       "</div>"
      ],
      "text/plain": [
       "           0         1         2         3\n",
       "95  0.443827  0.994464  0.601041  0.649075\n",
       "96  0.784303  0.383504  0.799354  0.579578\n",
       "97  0.759441  0.009411  0.998942  0.895923\n",
       "98  0.364759  0.218718  0.175412  0.249983\n",
       "99  0.930018  0.926877  0.706113  0.313995"
      ]
     },
     "execution_count": 27,
     "metadata": {},
     "output_type": "execute_result"
    }
   ],
   "source": [
    "data3.tail()"
   ]
  },
  {
   "cell_type": "markdown",
   "metadata": {
    "slideshow": {
     "slide_type": "subslide"
    }
   },
   "source": [
    "# DataFrame Wrap Up\n",
    "\n",
    "Just remember, \n",
    "\n",
    "* A `DataFrame` is just a bunch of `Series` grouped together.\n",
    "* Any one dimensional slice returns a `Series`\n",
    "* Any two dimensional slice returns another `DataFrame`.\n",
    "* Elements are typically NumPy types or Objects."
   ]
  },
  {
   "cell_type": "markdown",
   "metadata": {
    "slideshow": {
     "slide_type": "slide"
    }
   },
   "source": [
    "# Panel\n",
    "\n",
    "Like DataFrame but 3 or more dimensions."
   ]
  },
  {
   "cell_type": "markdown",
   "metadata": {
    "slideshow": {
     "slide_type": "slide"
    }
   },
   "source": [
    "# IO Tools\n",
    "\n",
    "Robust IO tools to read in data from a variety of sources\n",
    "\n",
    "* CSV - [pd.read_csv()](http://pandas.pydata.org/pandas-docs/stable/io.html#io-read-csv-table)\n",
    "* Clipboard - [pd.read_clipboard()](http://pandas.pydata.org/pandas-docs/stable/io.html#clipboard)\n",
    "* SQL - [pd.read_sql_table()](http://pandas.pydata.org/pandas-docs/stable/io.html#sql-queries)\n",
    "* Excel - [pd.read_excel()](http://pandas.pydata.org/pandas-docs/stable/io.html#io-excel)"
   ]
  },
  {
   "cell_type": "markdown",
   "metadata": {
    "slideshow": {
     "slide_type": "slide"
    }
   },
   "source": [
    "# Plotting\n",
    "\n",
    "* Matplotlib - [s.plot()](http://pandas.pydata.org/pandas-docs/stable/visualization.html#plotting-with-matplotlib) - Standard Python Plotting Library"
   ]
  },
  {
   "cell_type": "markdown",
   "metadata": {
    "slideshow": {
     "slide_type": "slide"
    }
   },
   "source": [
    "# Bringing it Together - Data\n",
    "\n",
    "The csv file (``phx-temps.csv``) contains Phoenix weather data from\n",
    "GSOD::\n",
    "\n",
    "```\n",
    "1973-01-01 00:00:00,53.1,37.9\n",
    "1973-01-02 00:00:00,57.9,37.0\n",
    "...\n",
    "2012-12-30 00:00:00,64.9,39.0\n",
    "2012-12-31 00:00:00,55.9,41.0\n",
    "```"
   ]
  },
  {
   "cell_type": "markdown",
   "metadata": {
    "slideshow": {
     "slide_type": "subslide"
    }
   },
   "source": [
    "# Bringing it Together - Code\n",
    "\n",
    "Simple `read_csv()`"
   ]
  },
  {
   "cell_type": "code",
   "execution_count": 28,
   "metadata": {},
   "outputs": [
    {
     "data": {
      "text/html": [
       "<div>\n",
       "<style scoped>\n",
       "    .dataframe tbody tr th:only-of-type {\n",
       "        vertical-align: middle;\n",
       "    }\n",
       "\n",
       "    .dataframe tbody tr th {\n",
       "        vertical-align: top;\n",
       "    }\n",
       "\n",
       "    .dataframe thead th {\n",
       "        text-align: right;\n",
       "    }\n",
       "</style>\n",
       "<table border=\"1\" class=\"dataframe\">\n",
       "  <thead>\n",
       "    <tr style=\"text-align: right;\">\n",
       "      <th></th>\n",
       "      <th>1973-01-01 00:00:00</th>\n",
       "      <th>53.1</th>\n",
       "      <th>37.9</th>\n",
       "    </tr>\n",
       "  </thead>\n",
       "  <tbody>\n",
       "    <tr>\n",
       "      <th>0</th>\n",
       "      <td>1973-01-02 00:00:00</td>\n",
       "      <td>57.9</td>\n",
       "      <td>37.0</td>\n",
       "    </tr>\n",
       "    <tr>\n",
       "      <th>1</th>\n",
       "      <td>1973-01-03 00:00:00</td>\n",
       "      <td>59.0</td>\n",
       "      <td>37.0</td>\n",
       "    </tr>\n",
       "    <tr>\n",
       "      <th>2</th>\n",
       "      <td>1973-01-04 00:00:00</td>\n",
       "      <td>57.9</td>\n",
       "      <td>41.0</td>\n",
       "    </tr>\n",
       "    <tr>\n",
       "      <th>3</th>\n",
       "      <td>1973-01-05 00:00:00</td>\n",
       "      <td>54.0</td>\n",
       "      <td>39.9</td>\n",
       "    </tr>\n",
       "    <tr>\n",
       "      <th>4</th>\n",
       "      <td>1973-01-06 00:00:00</td>\n",
       "      <td>55.9</td>\n",
       "      <td>37.9</td>\n",
       "    </tr>\n",
       "  </tbody>\n",
       "</table>\n",
       "</div>"
      ],
      "text/plain": [
       "   1973-01-01 00:00:00  53.1  37.9\n",
       "0  1973-01-02 00:00:00  57.9  37.0\n",
       "1  1973-01-03 00:00:00  59.0  37.0\n",
       "2  1973-01-04 00:00:00  57.9  41.0\n",
       "3  1973-01-05 00:00:00  54.0  39.9\n",
       "4  1973-01-06 00:00:00  55.9  37.9"
      ]
     },
     "execution_count": 28,
     "metadata": {},
     "output_type": "execute_result"
    }
   ],
   "source": [
    "# simple readcsv\n",
    "phxtemps1 = pd.read_csv('phx-temps.csv')\n",
    "phxtemps1.head()"
   ]
  },
  {
   "cell_type": "markdown",
   "metadata": {
    "slideshow": {
     "slide_type": "subslide"
    }
   },
   "source": [
    "# Bringing it Together - Code\n",
    "\n",
    "Advanced `read_csv()`, parsing the dates and using them as the index, and naming the columns."
   ]
  },
  {
   "cell_type": "code",
   "execution_count": 29,
   "metadata": {},
   "outputs": [
    {
     "data": {
      "text/html": [
       "<div>\n",
       "<style scoped>\n",
       "    .dataframe tbody tr th:only-of-type {\n",
       "        vertical-align: middle;\n",
       "    }\n",
       "\n",
       "    .dataframe tbody tr th {\n",
       "        vertical-align: top;\n",
       "    }\n",
       "\n",
       "    .dataframe thead th {\n",
       "        text-align: right;\n",
       "    }\n",
       "</style>\n",
       "<table border=\"1\" class=\"dataframe\">\n",
       "  <thead>\n",
       "    <tr style=\"text-align: right;\">\n",
       "      <th></th>\n",
       "      <th>highs</th>\n",
       "      <th>lows</th>\n",
       "    </tr>\n",
       "  </thead>\n",
       "  <tbody>\n",
       "    <tr>\n",
       "      <th>1973-01-01</th>\n",
       "      <td>53.1</td>\n",
       "      <td>37.9</td>\n",
       "    </tr>\n",
       "    <tr>\n",
       "      <th>1973-01-02</th>\n",
       "      <td>57.9</td>\n",
       "      <td>37.0</td>\n",
       "    </tr>\n",
       "    <tr>\n",
       "      <th>1973-01-03</th>\n",
       "      <td>59.0</td>\n",
       "      <td>37.0</td>\n",
       "    </tr>\n",
       "    <tr>\n",
       "      <th>1973-01-04</th>\n",
       "      <td>57.9</td>\n",
       "      <td>41.0</td>\n",
       "    </tr>\n",
       "    <tr>\n",
       "      <th>1973-01-05</th>\n",
       "      <td>54.0</td>\n",
       "      <td>39.9</td>\n",
       "    </tr>\n",
       "  </tbody>\n",
       "</table>\n",
       "</div>"
      ],
      "text/plain": [
       "            highs  lows\n",
       "1973-01-01   53.1  37.9\n",
       "1973-01-02   57.9  37.0\n",
       "1973-01-03   59.0  37.0\n",
       "1973-01-04   57.9  41.0\n",
       "1973-01-05   54.0  39.9"
      ]
     },
     "execution_count": 29,
     "metadata": {},
     "output_type": "execute_result"
    }
   ],
   "source": [
    "# define index, parse dates, name columns\n",
    "phxtemps2 = pd.read_csv(\n",
    "    'phx-temps.csv', index_col=0,\n",
    "    names=['highs', 'lows'], parse_dates=True)\n",
    "phxtemps2.head()"
   ]
  },
  {
   "cell_type": "markdown",
   "metadata": {
    "slideshow": {
     "slide_type": "subslide"
    }
   },
   "source": [
    "# Bringing it Together - Plot"
   ]
  },
  {
   "cell_type": "code",
   "execution_count": 30,
   "metadata": {
    "slideshow": {
     "slide_type": "-"
    }
   },
   "outputs": [
    {
     "data": {
      "text/plain": [
       "<matplotlib.axes._subplots.AxesSubplot at 0x109f8ff98>"
      ]
     },
     "execution_count": 30,
     "metadata": {},
     "output_type": "execute_result"
    },
    {
     "data": {
      "image/png": "[encoded data removed]",
      "text/plain": [
       "<Figure size 432x288 with 1 Axes>"
      ]
     },
     "metadata": {},
     "output_type": "display_data"
    }
   ],
   "source": [
    "import matplotlib.pyplot as plt\n",
    "%matplotlib inline \n",
    "phxtemps2.plot()  # pandas convenience method"
   ]
  },
  {
   "cell_type": "markdown",
   "metadata": {
    "slideshow": {
     "slide_type": "fragment"
    }
   },
   "source": [
    "Boo, Pandas and Friends would cry if they saw such a plot."
   ]
  },
  {
   "cell_type": "markdown",
   "metadata": {
    "slideshow": {
     "slide_type": "subslide"
    }
   },
   "source": [
    "# Bringing it Together - Plot\n",
    "\n",
    "Lets see a smaller slice of time:"
   ]
  },
  {
   "cell_type": "code",
   "execution_count": 31,
   "metadata": {
    "slideshow": {
     "slide_type": "fragment"
    }
   },
   "outputs": [
    {
     "data": {
      "text/plain": [
       "<matplotlib.axes._subplots.AxesSubplot at 0x10a1d0da0>"
      ]
     },
     "execution_count": 31,
     "metadata": {},
     "output_type": "execute_result"
    },
    {
     "data": {
      "image/png": "[encoded data removed]",
      "text/plain": [
       "<Figure size 432x288 with 1 Axes>"
      ]
     },
     "metadata": {},
     "output_type": "display_data"
    }
   ],
   "source": [
    "phxtemps2['20120101':'20121231'].plot()\n"
   ]
  },
  {
   "cell_type": "markdown",
   "metadata": {
    "slideshow": {
     "slide_type": "subslide"
    }
   },
   "source": [
    "# Bringing it Together - Plot\n",
    "\n",
    "Lets operate on the `DataFrame` ... lets take the differnce between the highs and lows."
   ]
  },
  {
   "cell_type": "code",
   "execution_count": 32,
   "metadata": {
    "slideshow": {
     "slide_type": "fragment"
    }
   },
   "outputs": [
    {
     "data": {
      "text/plain": [
       "<matplotlib.axes._subplots.AxesSubplot at 0x10a918ef0>"
      ]
     },
     "execution_count": 32,
     "metadata": {},
     "output_type": "execute_result"
    },
    {
     "data": {
      "image/png": "[encoded data removed]",
      "text/plain": [
       "<Figure size 432x288 with 1 Axes>"
      ]
     },
     "metadata": {},
     "output_type": "display_data"
    }
   ],
   "source": [
    "phxtemps2['diff'] = phxtemps2.highs - phxtemps2.lows\n",
    "phxtemps2['20120101':'20121231'].plot()"
   ]
  },
  {
   "cell_type": "markdown",
   "metadata": {
    "slideshow": {
     "slide_type": "slide"
    }
   },
   "source": [
    "References\n",
    "----------\n",
    "\n",
    "* [Pandas Documentation](http://pandas.pydata.org/pandas-docs/stable/index.html)\n",
    "* [Python for Data Analysis](http://www.amazon.com/Python-Data-Analysis-Wes-McKinney/dp/1449319793/)\n",
    "* [Presentation Source](https://github.com/desertpy/presentations)\n"
   ]
  },
  {
   "cell_type": "markdown",
   "metadata": {
    "slideshow": {
     "slide_type": "slide"
    }
   },
   "source": [
    "# Thanks! - Pandas and Friends\n",
    "\n",
    "* Austin Godber\n",
    "* Mail: godber@uberhip.com\n",
    "* Twitter: @godber\n",
    "* Presented at [DesertPy](http://desertpy.com), May 2018."
   ]
  }
 ],
 "metadata": {
  "celltoolbar": "Slideshow",
  "kernelspec": {
   "display_name": "Python 3",
   "language": "python",
   "name": "python3"
  },
  "language_info": {
   "codemirror_mode": {
    "name": "ipython",
    "version": 3
   },
   "file_extension": ".py",
   "mimetype": "text/x-python",
   "name": "python",
   "nbconvert_exporter": "python",
   "pygments_lexer": "ipython3",
   "version": "3.6.5"
  }
 },
 "nbformat": 4,
 "nbformat_minor": 1
}
