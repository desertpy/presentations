{
 "cells": [
  {
   "cell_type": "markdown",
   "metadata": {
    "slideshow": {
     "slide_type": "slide"
    }
   },
   "source": [
    "# Pandas and Friends\n",
    "\n",
    "* Austin Godber\n",
    "* Mail: godber@uberhip.com\n",
    "* Twitter: @godber\n",
    "* Presented at [DesertPy](http://desertpy.com), May 2018."
   ]
  },
  {
   "cell_type": "markdown",
   "metadata": {
    "slideshow": {
     "slide_type": "slide"
    }
   },
   "source": [
    "# What does it do?\n",
    "\n",
    "Pandas is a Python data analysis tool built on top of NumPy that provides a\n",
    "suite of data structures and data manipulation functions to work on those data\n",
    "structures.  It is particularly well suited for working with time series data."
   ]
  },
  {
   "cell_type": "markdown",
   "metadata": {
    "slideshow": {
     "slide_type": "slide"
    }
   },
   "source": [
    "# Getting Started - Installation\n",
    "\n",
    "Installing with pip or apt-get::\n",
    "\n",
    "```\n",
    "pip install pandas\n",
    "# or\n",
    "conda install pandas\n",
    "```\n",
    "\n",
    "* Mac - Homebrew or MacPorts to get the dependencies, then pip\n",
    "* Windows - Python(x,y)?\n",
    "* Commercial Pythons: Anaconda, Canopy"
   ]
  },
  {
   "cell_type": "markdown",
   "metadata": {
    "slideshow": {
     "slide_type": "subslide"
    }
   },
   "source": [
    "# Getting Started - Dependencies\n",
    "\n",
    "Dependencies, required, recommended and optional\n",
    "\n",
    "```\n",
    "# Required\n",
    "numpy, python-dateutil, pytx\n",
    "# Recommended\n",
    "numexpr, bottleneck\n",
    "# Optional\n",
    "cython, scipy, pytables, matplotlib, statsmodels, openpyxl\n",
    "```"
   ]
  },
  {
   "cell_type": "markdown",
   "metadata": {
    "slideshow": {
     "slide_type": "slide"
    }
   },
   "source": [
    "# Pandas' Friends!\n",
    "\n",
    "Pandas works along side and is built on top of several other Python projects."
   ]
  },
  {
   "cell_type": "markdown",
   "metadata": {
    "slideshow": {
     "slide_type": "fragment"
    }
   },
   "source": [
    "* Jupyter/IPython"
   ]
  },
  {
   "cell_type": "markdown",
   "metadata": {
    "slideshow": {
     "slide_type": "fragment"
    }
   },
   "source": [
    "* Numpy"
   ]
  },
  {
   "cell_type": "markdown",
   "metadata": {
    "slideshow": {
     "slide_type": "fragment"
    }
   },
   "source": [
    "* Matplotlib"
   ]
  },
  {
   "cell_type": "markdown",
   "metadata": {
    "slideshow": {
     "slide_type": "subslide"
    }
   },
   "source": [
    "## Pandas gets along with EVERYONE!\n",
    "\n",
    "\n",
    "<img src='panda-on-a-unicorn.jpg'>"
   ]
  },
  {
   "cell_type": "markdown",
   "metadata": {
    "slideshow": {
     "slide_type": "slide"
    }
   },
   "source": [
    "# Background - IPython\n",
    "\n",
    "\n",
    "IPython is a fancy python console.  Try running ``ipython`` or ``ipython --pylab`` on your command line.  Some IPython tips\n",
    "\n",
    "```python\n",
    "# Special commands, 'magic functions', begin with %\n",
    "%quickref, %who, %run, %reset\n",
    "# Shell Commands\n",
    "ls, cd, pwd, mkdir\n",
    "# Need Help?\n",
    "help(), help(obj), obj?, function?\n",
    "# Tab completion of variables, attributes and methods\n",
    "```"
   ]
  },
  {
   "cell_type": "markdown",
   "metadata": {
    "slideshow": {
     "slide_type": "subslide"
    }
   },
   "source": [
    "# Background - Jupyter/IPython Notebook\n",
    "\n",
    "There is a web interface to IPython, known as the Jupyter (IPython) notebook, start it\n",
    "like this\n",
    "\n",
    "```\n",
    "jupyter notebook\n",
    "# or to get all of the pylab components\n",
    "jupyter notebook --pylab\n",
    "```"
   ]
  },
  {
   "cell_type": "markdown",
   "metadata": {
    "slideshow": {
     "slide_type": "slide"
    }
   },
   "source": [
    "# Background - NumPy\n",
    "\n",
    "* NumPy is the foundation for Pandas\n",
    "* Numerical data structures (mostly Arrays)\n",
    "* Operations on those.\n",
    "* Less structure than Pandas provides."
   ]
  },
  {
   "cell_type": "markdown",
   "metadata": {
    "slideshow": {
     "slide_type": "subslide"
    }
   },
   "source": [
    "# Background - NumPy - Arrays"
   ]
  },
  {
   "cell_type": "code",
   "execution_count": 1,
   "metadata": {
    "slideshow": {
     "slide_type": "-"
    }
   },
   "outputs": [
    {
     "data": {
      "text/plain": [
       "array([[ 0.,  0.,  0.,  0.],\n",
       "       [ 0.,  0.,  0.,  0.]])"
      ]
     },
     "execution_count": 1,
     "metadata": {},
     "output_type": "execute_result"
    }
   ],
   "source": [
    "import numpy as np\n",
    "# np.zeros, np.ones\n",
    "data0 = np.zeros((2, 4))\n",
    "\n",
    "data0"
   ]
  },
  {
   "cell_type": "code",
   "execution_count": 2,
   "metadata": {
    "slideshow": {
     "slide_type": "subslide"
    }
   },
   "outputs": [
    {
     "data": {
      "text/plain": [
       "array([0, 1, 2, 3, 4, 5, 6, 7])"
      ]
     },
     "execution_count": 2,
     "metadata": {},
     "output_type": "execute_result"
    }
   ],
   "source": [
    "# Make an array with 20 entries 0..19\n",
    "data1 = np.arange(20)\n",
    "# print the first 8\n",
    "data1[0:8]"
   ]
  },
  {
   "cell_type": "markdown",
   "metadata": {
    "slideshow": {
     "slide_type": "subslide"
    }
   },
   "source": [
    "## Background - NumPy - Arrays"
   ]
  },
  {
   "cell_type": "code",
   "execution_count": 3,
   "metadata": {},
   "outputs": [
    {
     "data": {
      "text/plain": [
       "array([[ 0,  1,  2,  3,  4],\n",
       "       [ 5,  6,  7,  8,  9],\n",
       "       [10, 11, 12, 13, 14],\n",
       "       [15, 16, 17, 18, 19]])"
      ]
     },
     "execution_count": 3,
     "metadata": {},
     "output_type": "execute_result"
    }
   ],
   "source": [
    "# make it a 4,5 array\n",
    "data = np.arange(20).reshape(4, 5)\n",
    "data"
   ]
  },
  {
   "cell_type": "markdown",
   "metadata": {
    "slideshow": {
     "slide_type": "subslide"
    }
   },
   "source": [
    "## Background - NumPy - Arrays\n",
    "\n",
    "Arrays have NumPy specific types, `dtypes`, and can be operated on."
   ]
  },
  {
   "cell_type": "code",
   "execution_count": 4,
   "metadata": {},
   "outputs": [
    {
     "name": "stdout",
     "output_type": "stream",
     "text": [
      "dtype:  int64\n",
      "[[   0.    20.5   41.    61.5   82. ]\n",
      " [ 102.5  123.   143.5  164.   184.5]\n",
      " [ 205.   225.5  246.   266.5  287. ]\n",
      " [ 307.5  328.   348.5  369.   389.5]]\n",
      "float64\n"
     ]
    }
   ],
   "source": [
    "print(\"dtype: \", data.dtype)\n",
    "result = data * 20.5\n",
    "print(result)\n",
    "print(result.dtype)"
   ]
  },
  {
   "cell_type": "markdown",
   "metadata": {
    "slideshow": {
     "slide_type": "slide"
    }
   },
   "source": [
    "Now, on to Pandas\n",
    "-----------------\n",
    "\n",
    "![](panda-giving-another-panda-a-hand-sm.jpg)"
   ]
  },
  {
   "cell_type": "markdown",
   "metadata": {
    "slideshow": {
     "slide_type": "slide"
    }
   },
   "source": [
    "Pandas\n",
    "------\n",
    "\n",
    "* Tabular, Timeseries, Matrix Data - labeled or not\n",
    "* Sensible handling of missing data and data alignment\n",
    "* Data selection, slicing and reshaping features\n",
    "* Robust data import utilities.\n",
    "* Advanced time series capabilities"
   ]
  },
  {
   "cell_type": "markdown",
   "metadata": {
    "slideshow": {
     "slide_type": "subslide"
    }
   },
   "source": [
    "Data Structures\n",
    "----------------\n",
    "\n",
    "* Series - 1D labeled array\n",
    "* DataFrame - 2D labeled array\n",
    "* Panel - 3D labeled array (More D)"
   ]
  },
  {
   "cell_type": "markdown",
   "metadata": {
    "slideshow": {
     "slide_type": "slide"
    }
   },
   "source": [
    "# Assumed Imports\n",
    "\n",
    "In my code samples, assume I import the following"
   ]
  },
  {
   "cell_type": "code",
   "execution_count": 5,
   "metadata": {},
   "outputs": [],
   "source": [
    "import pandas as pd\n",
    "import numpy as np"
   ]
  },
  {
   "cell_type": "markdown",
   "metadata": {
    "slideshow": {
     "slide_type": "slide"
    }
   },
   "source": [
    "# Series\n",
    "\n",
    "* one-dimensional labeled array\n",
    "* holds any data type\n",
    "* axis labels known as index\n",
    "* implicit integer indexes\n",
    "* ``dict``-like"
   ]
  },
  {
   "cell_type": "markdown",
   "metadata": {
    "slideshow": {
     "slide_type": "subslide"
    }
   },
   "source": [
    "# Create a Simple Series"
   ]
  },
  {
   "cell_type": "code",
   "execution_count": 6,
   "metadata": {},
   "outputs": [
    {
     "data": {
      "text/plain": [
       "0    1\n",
       "1    2\n",
       "2    3\n",
       "3    4\n",
       "4    5\n",
       "dtype: int64"
      ]
     },
     "execution_count": 6,
     "metadata": {},
     "output_type": "execute_result"
    }
   ],
   "source": [
    "s1 = pd.Series([1, 2, 3, 4, 5])\n",
    "s1"
   ]
  },
  {
   "cell_type": "markdown",
   "metadata": {
    "slideshow": {
     "slide_type": "subslide"
    }
   },
   "source": [
    "# Series Operations"
   ]
  },
  {
   "cell_type": "code",
   "execution_count": 7,
   "metadata": {},
   "outputs": [
    {
     "name": "stdout",
     "output_type": "stream",
     "text": [
      "0     5\n",
      "1    10\n",
      "2    15\n",
      "3    20\n",
      "4    25\n",
      "dtype: int64\n"
     ]
    }
   ],
   "source": [
    "# integer multiplication\n",
    "print(s1 * 5)"
   ]
  },
  {
   "cell_type": "markdown",
   "metadata": {
    "slideshow": {
     "slide_type": "subslide"
    }
   },
   "source": [
    "# Series Operations - Cont."
   ]
  },
  {
   "cell_type": "code",
   "execution_count": 8,
   "metadata": {},
   "outputs": [
    {
     "name": "stdout",
     "output_type": "stream",
     "text": [
      "0     5.0\n",
      "1    10.0\n",
      "2    15.0\n",
      "3    20.0\n",
      "4    25.0\n",
      "dtype: float64\n"
     ]
    }
   ],
   "source": [
    "# float multiplication\n",
    "print(s1 * 5.0)"
   ]
  },
  {
   "cell_type": "markdown",
   "metadata": {
    "slideshow": {
     "slide_type": "subslide"
    }
   },
   "source": [
    "# Series Index"
   ]
  },
  {
   "cell_type": "code",
   "execution_count": 9,
   "metadata": {},
   "outputs": [
    {
     "data": {
      "text/plain": [
       "a    1\n",
       "b    2\n",
       "c    3\n",
       "d    4\n",
       "e    5\n",
       "dtype: int64"
      ]
     },
     "execution_count": 9,
     "metadata": {},
     "output_type": "execute_result"
    }
   ],
   "source": [
    "s2 = pd.Series([1, 2, 3, 4, 5],\n",
    "               index=['a', 'b', 'c', 'd', 'e'])\n",
    "s2"
   ]
  },
  {
   "cell_type": "markdown",
   "metadata": {
    "slideshow": {
     "slide_type": "subslide"
    }
   },
   "source": [
    "# Date Convenience Functions\n",
    "\n",
    "A quick aside ..."
   ]
  },
  {
   "cell_type": "code",
   "execution_count": 10,
   "metadata": {},
   "outputs": [
    {
     "name": "stdout",
     "output_type": "stream",
     "text": [
      "DatetimeIndex(['2018-05-08', '2018-05-09', '2018-05-10', '2018-05-11',\n",
      "               '2018-05-12'],\n",
      "              dtype='datetime64[ns]', freq='D')\n",
      "\n",
      "2018-05-08 00:00:00\n"
     ]
    }
   ],
   "source": [
    "dates = pd.date_range('20180508', periods=5)\n",
    "print(dates)\n",
    "print()\n",
    "print(dates[0])"
   ]
  },
  {
   "cell_type": "markdown",
   "metadata": {
    "slideshow": {
     "slide_type": "subslide"
    }
   },
   "source": [
    "# Datestamps as Index"
   ]
  },
  {
   "cell_type": "code",
   "execution_count": 11,
   "metadata": {},
   "outputs": [
    {
     "data": {
      "text/plain": [
       "2018-05-08    1\n",
       "2018-05-09    2\n",
       "2018-05-10    3\n",
       "2018-05-11    4\n",
       "2018-05-12    5\n",
       "Freq: D, dtype: int64"
      ]
     },
     "execution_count": 11,
     "metadata": {},
     "output_type": "execute_result"
    }
   ],
   "source": [
    "s3 = pd.Series([1, 2, 3, 4, 5], index=dates)\n",
    "s3"
   ]
  },
  {
   "cell_type": "markdown",
   "metadata": {
    "slideshow": {
     "slide_type": "subslide"
    }
   },
   "source": [
    "# Selecting By Index\n",
    "\n",
    "Note that the integer index is retained along with the new date index."
   ]
  },
  {
   "cell_type": "code",
   "execution_count": 12,
   "metadata": {},
   "outputs": [
    {
     "name": "stdout",
     "output_type": "stream",
     "text": [
      "1 <class 'numpy.int64'>\n",
      "\n",
      "2018-05-09    2\n",
      "2018-05-10    3\n",
      "Freq: D, dtype: int64\n",
      "\n",
      "<class 'pandas.core.series.Series'>\n"
     ]
    }
   ],
   "source": [
    "print(s3[0], type(s3[0]))\n",
    "print()\n",
    "print(s3[1:3])\n",
    "print()\n",
    "print(type(s3[1:3]))"
   ]
  },
  {
   "cell_type": "markdown",
   "metadata": {
    "slideshow": {
     "slide_type": "subslide"
    }
   },
   "source": [
    "# Selecting by value"
   ]
  },
  {
   "cell_type": "code",
   "execution_count": 13,
   "metadata": {},
   "outputs": [
    {
     "data": {
      "text/plain": [
       "2018-05-08    1\n",
       "2018-05-09    2\n",
       "Freq: D, dtype: int64"
      ]
     },
     "execution_count": 13,
     "metadata": {},
     "output_type": "execute_result"
    }
   ],
   "source": [
    "s3[s3 < 3]"
   ]
  },
  {
   "cell_type": "markdown",
   "metadata": {
    "slideshow": {
     "slide_type": "subslide"
    }
   },
   "source": [
    "## Wait!  How did that work?\n",
    "\n",
    "(Boolean Series)"
   ]
  },
  {
   "cell_type": "code",
   "execution_count": 14,
   "metadata": {},
   "outputs": [
    {
     "data": {
      "text/plain": [
       "2018-05-08     True\n",
       "2018-05-09     True\n",
       "2018-05-10    False\n",
       "2018-05-11    False\n",
       "2018-05-12    False\n",
       "Freq: D, dtype: bool"
      ]
     },
     "execution_count": 14,
     "metadata": {},
     "output_type": "execute_result"
    }
   ],
   "source": [
    "s3 < 3"
   ]
  },
  {
   "cell_type": "markdown",
   "metadata": {
    "slideshow": {
     "slide_type": "subslide"
    }
   },
   "source": [
    "# Selecting by Label (Date)"
   ]
  },
  {
   "cell_type": "code",
   "execution_count": 15,
   "metadata": {},
   "outputs": [
    {
     "data": {
      "text/plain": [
       "2018-05-09    2\n",
       "2018-05-10    3\n",
       "2018-05-11    4\n",
       "Freq: D, dtype: int64"
      ]
     },
     "execution_count": 15,
     "metadata": {},
     "output_type": "execute_result"
    }
   ],
   "source": [
    "s3['20180509':'20180511']"
   ]
  },
  {
   "cell_type": "markdown",
   "metadata": {
    "slideshow": {
     "slide_type": "subslide"
    }
   },
   "source": [
    "Series Wrapup\n",
    "-------------\n",
    "\n",
    "Things not covered but you should look into:\n",
    "\n",
    "* Other instantiation options: ``dict``\n",
    "* Operator Handling of missing data ``NaN``\n",
    "* Reforming Data and Indexes\n",
    "* Other Series Attributes:\n",
    "\n",
    "  * ``index`` - ``index.name``\n",
    "  * ``name`` - Series name"
   ]
  },
  {
   "cell_type": "markdown",
   "metadata": {
    "slideshow": {
     "slide_type": "slide"
    }
   },
   "source": [
    "DataFrame\n",
    "---------\n",
    "\n",
    "* 2-dimensional labeled data structure\n",
    "* Like a SQL Table, Spreadsheet or ``dict`` of ``Series`` objects.\n",
    "* Columns of potentially different types\n",
    "* Operations, slicing and other behavior just like ``Series``"
   ]
  },
  {
   "cell_type": "markdown",
   "metadata": {
    "slideshow": {
     "slide_type": "subslide"
    }
   },
   "source": [
    "# DataFrame - Simple"
   ]
  },
  {
   "cell_type": "code",
   "execution_count": 16,
   "metadata": {},
   "outputs": [
    {
     "data": {
      "text/html": [
       "<div>\n",
       "<style scoped>\n",
       "    .dataframe tbody tr th:only-of-type {\n",
       "        vertical-align: middle;\n",
       "    }\n",
       "\n",
       "    .dataframe tbody tr th {\n",
       "        vertical-align: top;\n",
       "    }\n",
       "\n",
       "    .dataframe thead th {\n",
       "        text-align: right;\n",
       "    }\n",
       "</style>\n",
       "<table border=\"1\" class=\"dataframe\">\n",
       "  <thead>\n",
       "    <tr style=\"text-align: right;\">\n",
       "      <th></th>\n",
       "      <th>0</th>\n",
       "      <th>1</th>\n",
       "      <th>2</th>\n",
       "      <th>3</th>\n",
       "    </tr>\n",
       "  </thead>\n",
       "  <tbody>\n",
       "    <tr>\n",
       "      <th>0</th>\n",
       "      <td>0.652591</td>\n",
       "      <td>0.977988</td>\n",
       "      <td>0.672492</td>\n",
       "      <td>0.797441</td>\n",
       "    </tr>\n",
       "    <tr>\n",
       "      <th>1</th>\n",
       "      <td>0.608224</td>\n",
       "      <td>0.618823</td>\n",
       "      <td>0.066927</td>\n",
       "      <td>0.617655</td>\n",
       "    </tr>\n",
       "    <tr>\n",
       "      <th>2</th>\n",
       "      <td>0.032728</td>\n",
       "      <td>0.928986</td>\n",
       "      <td>0.568039</td>\n",
       "      <td>0.830334</td>\n",
       "    </tr>\n",
       "    <tr>\n",
       "      <th>3</th>\n",
       "      <td>0.858448</td>\n",
       "      <td>0.586733</td>\n",
       "      <td>0.645037</td>\n",
       "      <td>0.463828</td>\n",
       "    </tr>\n",
       "  </tbody>\n",
       "</table>\n",
       "</div>"
      ],
      "text/plain": [
       "          0         1         2         3\n",
       "0  0.652591  0.977988  0.672492  0.797441\n",
       "1  0.608224  0.618823  0.066927  0.617655\n",
       "2  0.032728  0.928986  0.568039  0.830334\n",
       "3  0.858448  0.586733  0.645037  0.463828"
      ]
     },
     "execution_count": 16,
     "metadata": {},
     "output_type": "execute_result"
    }
   ],
   "source": [
    "data1 = pd.DataFrame(np.random.rand(4, 4))\n",
    "data1"
   ]
  },
  {
   "cell_type": "markdown",
   "metadata": {
    "slideshow": {
     "slide_type": "subslide"
    }
   },
   "source": [
    "# DataFrame - Index/Column Names"
   ]
  },
  {
   "cell_type": "code",
   "execution_count": 17,
   "metadata": {},
   "outputs": [
    {
     "data": {
      "text/html": [
       "<div>\n",
       "<style scoped>\n",
       "    .dataframe tbody tr th:only-of-type {\n",
       "        vertical-align: middle;\n",
       "    }\n",
       "\n",
       "    .dataframe tbody tr th {\n",
       "        vertical-align: top;\n",
       "    }\n",
       "\n",
       "    .dataframe thead th {\n",
       "        text-align: right;\n",
       "    }\n",
       "</style>\n",
       "<table border=\"1\" class=\"dataframe\">\n",
       "  <thead>\n",
       "    <tr style=\"text-align: right;\">\n",
       "      <th></th>\n",
       "      <th>A</th>\n",
       "      <th>B</th>\n",
       "      <th>C</th>\n",
       "      <th>D</th>\n",
       "    </tr>\n",
       "  </thead>\n",
       "  <tbody>\n",
       "    <tr>\n",
       "      <th>2018-05-08</th>\n",
       "      <td>0.477776</td>\n",
       "      <td>0.591559</td>\n",
       "      <td>0.472501</td>\n",
       "      <td>0.201786</td>\n",
       "    </tr>\n",
       "    <tr>\n",
       "      <th>2018-05-09</th>\n",
       "      <td>0.705378</td>\n",
       "      <td>0.669047</td>\n",
       "      <td>0.510145</td>\n",
       "      <td>0.474396</td>\n",
       "    </tr>\n",
       "    <tr>\n",
       "      <th>2018-05-10</th>\n",
       "      <td>0.786218</td>\n",
       "      <td>0.443650</td>\n",
       "      <td>0.465601</td>\n",
       "      <td>0.028237</td>\n",
       "    </tr>\n",
       "    <tr>\n",
       "      <th>2018-05-11</th>\n",
       "      <td>0.861175</td>\n",
       "      <td>0.953688</td>\n",
       "      <td>0.043908</td>\n",
       "      <td>0.634627</td>\n",
       "    </tr>\n",
       "  </tbody>\n",
       "</table>\n",
       "</div>"
      ],
      "text/plain": [
       "                   A         B         C         D\n",
       "2018-05-08  0.477776  0.591559  0.472501  0.201786\n",
       "2018-05-09  0.705378  0.669047  0.510145  0.474396\n",
       "2018-05-10  0.786218  0.443650  0.465601  0.028237\n",
       "2018-05-11  0.861175  0.953688  0.043908  0.634627"
      ]
     },
     "execution_count": 17,
     "metadata": {},
     "output_type": "execute_result"
    }
   ],
   "source": [
    "dates = pd.date_range('20180508', periods=4)\n",
    "data2 = pd.DataFrame(\n",
    "    np.random.rand(4, 4),\n",
    "    index=dates, columns=list('ABCD'))\n",
    "data2"
   ]
  },
  {
   "cell_type": "markdown",
   "metadata": {
    "slideshow": {
     "slide_type": "subslide"
    }
   },
   "source": [
    "# DataFrame - Operations"
   ]
  },
  {
   "cell_type": "code",
   "execution_count": 18,
   "metadata": {},
   "outputs": [
    {
     "data": {
      "text/html": [
       "<div>\n",
       "<style scoped>\n",
       "    .dataframe tbody tr th:only-of-type {\n",
       "        vertical-align: middle;\n",
       "    }\n",
       "\n",
       "    .dataframe tbody tr th {\n",
       "        vertical-align: top;\n",
       "    }\n",
       "\n",
       "    .dataframe thead th {\n",
       "        text-align: right;\n",
       "    }\n",
       "</style>\n",
       "<table border=\"1\" class=\"dataframe\">\n",
       "  <thead>\n",
       "    <tr style=\"text-align: right;\">\n",
       "      <th></th>\n",
       "      <th>A</th>\n",
       "      <th>B</th>\n",
       "      <th>C</th>\n",
       "      <th>D</th>\n",
       "      <th>E</th>\n",
       "    </tr>\n",
       "  </thead>\n",
       "  <tbody>\n",
       "    <tr>\n",
       "      <th>2018-05-08</th>\n",
       "      <td>0.477776</td>\n",
       "      <td>0.591559</td>\n",
       "      <td>0.472501</td>\n",
       "      <td>0.201786</td>\n",
       "      <td>2.954062</td>\n",
       "    </tr>\n",
       "    <tr>\n",
       "      <th>2018-05-09</th>\n",
       "      <td>0.705378</td>\n",
       "      <td>0.669047</td>\n",
       "      <td>0.510145</td>\n",
       "      <td>0.474396</td>\n",
       "      <td>3.219771</td>\n",
       "    </tr>\n",
       "    <tr>\n",
       "      <th>2018-05-10</th>\n",
       "      <td>0.786218</td>\n",
       "      <td>0.443650</td>\n",
       "      <td>0.465601</td>\n",
       "      <td>0.028237</td>\n",
       "      <td>2.771655</td>\n",
       "    </tr>\n",
       "    <tr>\n",
       "      <th>2018-05-11</th>\n",
       "      <td>0.861175</td>\n",
       "      <td>0.953688</td>\n",
       "      <td>0.043908</td>\n",
       "      <td>0.634627</td>\n",
       "      <td>1.173226</td>\n",
       "    </tr>\n",
       "  </tbody>\n",
       "</table>\n",
       "</div>"
      ],
      "text/plain": [
       "                   A         B         C         D         E\n",
       "2018-05-08  0.477776  0.591559  0.472501  0.201786  2.954062\n",
       "2018-05-09  0.705378  0.669047  0.510145  0.474396  3.219771\n",
       "2018-05-10  0.786218  0.443650  0.465601  0.028237  2.771655\n",
       "2018-05-11  0.861175  0.953688  0.043908  0.634627  1.173226"
      ]
     },
     "execution_count": 18,
     "metadata": {},
     "output_type": "execute_result"
    }
   ],
   "source": [
    "data2['E'] = data2['B'] + 5 * data2['C']\n",
    "data2"
   ]
  },
  {
   "cell_type": "markdown",
   "metadata": {
    "slideshow": {
     "slide_type": "fragment"
    }
   },
   "source": [
    "See?  You never need Excel again!"
   ]
  },
  {
   "cell_type": "markdown",
   "metadata": {
    "slideshow": {
     "slide_type": "subslide"
    }
   },
   "source": [
    "# DataFrame - Column Access\n",
    "\n",
    "Deleting a column."
   ]
  },
  {
   "cell_type": "code",
   "execution_count": 19,
   "metadata": {},
   "outputs": [
    {
     "data": {
      "text/html": [
       "<div>\n",
       "<style scoped>\n",
       "    .dataframe tbody tr th:only-of-type {\n",
       "        vertical-align: middle;\n",
       "    }\n",
       "\n",
       "    .dataframe tbody tr th {\n",
       "        vertical-align: top;\n",
       "    }\n",
       "\n",
       "    .dataframe thead th {\n",
       "        text-align: right;\n",
       "    }\n",
       "</style>\n",
       "<table border=\"1\" class=\"dataframe\">\n",
       "  <thead>\n",
       "    <tr style=\"text-align: right;\">\n",
       "      <th></th>\n",
       "      <th>A</th>\n",
       "      <th>B</th>\n",
       "      <th>C</th>\n",
       "      <th>D</th>\n",
       "    </tr>\n",
       "  </thead>\n",
       "  <tbody>\n",
       "    <tr>\n",
       "      <th>2018-05-08</th>\n",
       "      <td>0.477776</td>\n",
       "      <td>0.591559</td>\n",
       "      <td>0.472501</td>\n",
       "      <td>0.201786</td>\n",
       "    </tr>\n",
       "    <tr>\n",
       "      <th>2018-05-09</th>\n",
       "      <td>0.705378</td>\n",
       "      <td>0.669047</td>\n",
       "      <td>0.510145</td>\n",
       "      <td>0.474396</td>\n",
       "    </tr>\n",
       "    <tr>\n",
       "      <th>2018-05-10</th>\n",
       "      <td>0.786218</td>\n",
       "      <td>0.443650</td>\n",
       "      <td>0.465601</td>\n",
       "      <td>0.028237</td>\n",
       "    </tr>\n",
       "    <tr>\n",
       "      <th>2018-05-11</th>\n",
       "      <td>0.861175</td>\n",
       "      <td>0.953688</td>\n",
       "      <td>0.043908</td>\n",
       "      <td>0.634627</td>\n",
       "    </tr>\n",
       "  </tbody>\n",
       "</table>\n",
       "</div>"
      ],
      "text/plain": [
       "                   A         B         C         D\n",
       "2018-05-08  0.477776  0.591559  0.472501  0.201786\n",
       "2018-05-09  0.705378  0.669047  0.510145  0.474396\n",
       "2018-05-10  0.786218  0.443650  0.465601  0.028237\n",
       "2018-05-11  0.861175  0.953688  0.043908  0.634627"
      ]
     },
     "execution_count": 19,
     "metadata": {},
     "output_type": "execute_result"
    }
   ],
   "source": [
    "# Deleting a Column\n",
    "del data2['E']\n",
    "data2"
   ]
  },
  {
   "cell_type": "markdown",
   "metadata": {
    "slideshow": {
     "slide_type": "subslide"
    }
   },
   "source": [
    "# DataFrame\n",
    "\n",
    "Remember this, data2, for the next examples."
   ]
  },
  {
   "cell_type": "code",
   "execution_count": 20,
   "metadata": {},
   "outputs": [
    {
     "data": {
      "text/html": [
       "<div>\n",
       "<style scoped>\n",
       "    .dataframe tbody tr th:only-of-type {\n",
       "        vertical-align: middle;\n",
       "    }\n",
       "\n",
       "    .dataframe tbody tr th {\n",
       "        vertical-align: top;\n",
       "    }\n",
       "\n",
       "    .dataframe thead th {\n",
       "        text-align: right;\n",
       "    }\n",
       "</style>\n",
       "<table border=\"1\" class=\"dataframe\">\n",
       "  <thead>\n",
       "    <tr style=\"text-align: right;\">\n",
       "      <th></th>\n",
       "      <th>A</th>\n",
       "      <th>B</th>\n",
       "      <th>C</th>\n",
       "      <th>D</th>\n",
       "    </tr>\n",
       "  </thead>\n",
       "  <tbody>\n",
       "    <tr>\n",
       "      <th>2018-05-08</th>\n",
       "      <td>0.477776</td>\n",
       "      <td>0.591559</td>\n",
       "      <td>0.472501</td>\n",
       "      <td>0.201786</td>\n",
       "    </tr>\n",
       "    <tr>\n",
       "      <th>2018-05-09</th>\n",
       "      <td>0.705378</td>\n",
       "      <td>0.669047</td>\n",
       "      <td>0.510145</td>\n",
       "      <td>0.474396</td>\n",
       "    </tr>\n",
       "    <tr>\n",
       "      <th>2018-05-10</th>\n",
       "      <td>0.786218</td>\n",
       "      <td>0.443650</td>\n",
       "      <td>0.465601</td>\n",
       "      <td>0.028237</td>\n",
       "    </tr>\n",
       "    <tr>\n",
       "      <th>2018-05-11</th>\n",
       "      <td>0.861175</td>\n",
       "      <td>0.953688</td>\n",
       "      <td>0.043908</td>\n",
       "      <td>0.634627</td>\n",
       "    </tr>\n",
       "  </tbody>\n",
       "</table>\n",
       "</div>"
      ],
      "text/plain": [
       "                   A         B         C         D\n",
       "2018-05-08  0.477776  0.591559  0.472501  0.201786\n",
       "2018-05-09  0.705378  0.669047  0.510145  0.474396\n",
       "2018-05-10  0.786218  0.443650  0.465601  0.028237\n",
       "2018-05-11  0.861175  0.953688  0.043908  0.634627"
      ]
     },
     "execution_count": 20,
     "metadata": {},
     "output_type": "execute_result"
    }
   ],
   "source": [
    "data2"
   ]
  },
  {
   "cell_type": "markdown",
   "metadata": {
    "slideshow": {
     "slide_type": "subslide"
    }
   },
   "source": [
    "# DataFrame - Column Access \n",
    "\n",
    "As a dict"
   ]
  },
  {
   "cell_type": "code",
   "execution_count": 21,
   "metadata": {},
   "outputs": [
    {
     "data": {
      "text/plain": [
       "2018-05-08    0.591559\n",
       "2018-05-09    0.669047\n",
       "2018-05-10    0.443650\n",
       "2018-05-11    0.953688\n",
       "Freq: D, Name: B, dtype: float64"
      ]
     },
     "execution_count": 21,
     "metadata": {},
     "output_type": "execute_result"
    }
   ],
   "source": [
    "data2['B']"
   ]
  },
  {
   "cell_type": "markdown",
   "metadata": {
    "slideshow": {
     "slide_type": "subslide"
    }
   },
   "source": [
    "# DataFrame - Column Access\n",
    "\n",
    "As an attribute"
   ]
  },
  {
   "cell_type": "code",
   "execution_count": 22,
   "metadata": {},
   "outputs": [
    {
     "data": {
      "text/plain": [
       "2018-05-08    0.591559\n",
       "2018-05-09    0.669047\n",
       "2018-05-10    0.443650\n",
       "2018-05-11    0.953688\n",
       "Freq: D, Name: B, dtype: float64"
      ]
     },
     "execution_count": 22,
     "metadata": {},
     "output_type": "execute_result"
    }
   ],
   "source": [
    "data2.B"
   ]
  },
  {
   "cell_type": "markdown",
   "metadata": {
    "slideshow": {
     "slide_type": "subslide"
    }
   },
   "source": [
    "# DataFrame - Row Access\n",
    "\n",
    "By row label"
   ]
  },
  {
   "cell_type": "code",
   "execution_count": 23,
   "metadata": {},
   "outputs": [
    {
     "data": {
      "text/plain": [
       "A    0.786218\n",
       "B    0.443650\n",
       "C    0.465601\n",
       "D    0.028237\n",
       "Name: 2018-05-10 00:00:00, dtype: float64"
      ]
     },
     "execution_count": 23,
     "metadata": {},
     "output_type": "execute_result"
    }
   ],
   "source": [
    "data2.loc['20180510']"
   ]
  },
  {
   "cell_type": "markdown",
   "metadata": {
    "slideshow": {
     "slide_type": "subslide"
    }
   },
   "source": [
    "# DataFrame - Row Access\n",
    "\n",
    "By integer location   "
   ]
  },
  {
   "cell_type": "code",
   "execution_count": 24,
   "metadata": {},
   "outputs": [
    {
     "data": {
      "text/plain": [
       "A    0.705378\n",
       "B    0.669047\n",
       "C    0.510145\n",
       "D    0.474396\n",
       "Name: 2018-05-09 00:00:00, dtype: float64"
      ]
     },
     "execution_count": 24,
     "metadata": {},
     "output_type": "execute_result"
    }
   ],
   "source": [
    "data2.iloc[1]"
   ]
  },
  {
   "cell_type": "markdown",
   "metadata": {
    "slideshow": {
     "slide_type": "subslide"
    }
   },
   "source": [
    "# DataFrame - Cell Access\n",
    "\n",
    "Access column, then row or use iloc and row/column indexes."
   ]
  },
  {
   "cell_type": "code",
   "execution_count": 25,
   "metadata": {},
   "outputs": [
    {
     "name": "stdout",
     "output_type": "stream",
     "text": [
      "0.591559021591\n",
      "0.591559021591\n",
      "0.591559021591\n",
      "0.591559021591\n"
     ]
    }
   ],
   "source": [
    "print(data2.B[0])\n",
    "print(data2['B'][0])\n",
    "print(data2.loc['20180508'][1])\n",
    "print(data2.iloc[0,1])  # [row,column] "
   ]
  },
  {
   "cell_type": "markdown",
   "metadata": {
    "slideshow": {
     "slide_type": "subslide"
    }
   },
   "source": [
    "# DataFrame - Taking a Peek\n",
    "\n",
    "Look at the beginning of the DataFrame"
   ]
  },
  {
   "cell_type": "code",
   "execution_count": 26,
   "metadata": {},
   "outputs": [
    {
     "data": {
      "text/html": [
       "<div>\n",
       "<style scoped>\n",
       "    .dataframe tbody tr th:only-of-type {\n",
       "        vertical-align: middle;\n",
       "    }\n",
       "\n",
       "    .dataframe tbody tr th {\n",
       "        vertical-align: top;\n",
       "    }\n",
       "\n",
       "    .dataframe thead th {\n",
       "        text-align: right;\n",
       "    }\n",
       "</style>\n",
       "<table border=\"1\" class=\"dataframe\">\n",
       "  <thead>\n",
       "    <tr style=\"text-align: right;\">\n",
       "      <th></th>\n",
       "      <th>0</th>\n",
       "      <th>1</th>\n",
       "      <th>2</th>\n",
       "      <th>3</th>\n",
       "    </tr>\n",
       "  </thead>\n",
       "  <tbody>\n",
       "    <tr>\n",
       "      <th>0</th>\n",
       "      <td>0.873234</td>\n",
       "      <td>0.099089</td>\n",
       "      <td>0.808360</td>\n",
       "      <td>0.854230</td>\n",
       "    </tr>\n",
       "    <tr>\n",
       "      <th>1</th>\n",
       "      <td>0.900437</td>\n",
       "      <td>0.575247</td>\n",
       "      <td>0.703990</td>\n",
       "      <td>0.807440</td>\n",
       "    </tr>\n",
       "    <tr>\n",
       "      <th>2</th>\n",
       "      <td>0.811789</td>\n",
       "      <td>0.317346</td>\n",
       "      <td>0.806548</td>\n",
       "      <td>0.690979</td>\n",
       "    </tr>\n",
       "    <tr>\n",
       "      <th>3</th>\n",
       "      <td>0.306628</td>\n",
       "      <td>0.807794</td>\n",
       "      <td>0.614721</td>\n",
       "      <td>0.583616</td>\n",
       "    </tr>\n",
       "    <tr>\n",
       "      <th>4</th>\n",
       "      <td>0.863193</td>\n",
       "      <td>0.610154</td>\n",
       "      <td>0.357733</td>\n",
       "      <td>0.012957</td>\n",
       "    </tr>\n",
       "  </tbody>\n",
       "</table>\n",
       "</div>"
      ],
      "text/plain": [
       "          0         1         2         3\n",
       "0  0.873234  0.099089  0.808360  0.854230\n",
       "1  0.900437  0.575247  0.703990  0.807440\n",
       "2  0.811789  0.317346  0.806548  0.690979\n",
       "3  0.306628  0.807794  0.614721  0.583616\n",
       "4  0.863193  0.610154  0.357733  0.012957"
      ]
     },
     "execution_count": 26,
     "metadata": {},
     "output_type": "execute_result"
    }
   ],
   "source": [
    "data3 = pd.DataFrame(np.random.rand(100, 4))\n",
    "data3.head()"
   ]
  },
  {
   "cell_type": "markdown",
   "metadata": {
    "slideshow": {
     "slide_type": "subslide"
    }
   },
   "source": [
    "# DataFrame - Taking a Peek\n",
    "\n",
    "Look at the end of the DataFrame."
   ]
  },
  {
   "cell_type": "code",
   "execution_count": 27,
   "metadata": {},
   "outputs": [
    {
     "data": {
      "text/html": [
       "<div>\n",
       "<style scoped>\n",
       "    .dataframe tbody tr th:only-of-type {\n",
       "        vertical-align: middle;\n",
       "    }\n",
       "\n",
       "    .dataframe tbody tr th {\n",
       "        vertical-align: top;\n",
       "    }\n",
       "\n",
       "    .dataframe thead th {\n",
       "        text-align: right;\n",
       "    }\n",
       "</style>\n",
       "<table border=\"1\" class=\"dataframe\">\n",
       "  <thead>\n",
       "    <tr style=\"text-align: right;\">\n",
       "      <th></th>\n",
       "      <th>0</th>\n",
       "      <th>1</th>\n",
       "      <th>2</th>\n",
       "      <th>3</th>\n",
       "    </tr>\n",
       "  </thead>\n",
       "  <tbody>\n",
       "    <tr>\n",
       "      <th>95</th>\n",
       "      <td>0.350252</td>\n",
       "      <td>0.670472</td>\n",
       "      <td>0.322379</td>\n",
       "      <td>0.307489</td>\n",
       "    </tr>\n",
       "    <tr>\n",
       "      <th>96</th>\n",
       "      <td>0.852102</td>\n",
       "      <td>0.939796</td>\n",
       "      <td>0.802812</td>\n",
       "      <td>0.261069</td>\n",
       "    </tr>\n",
       "    <tr>\n",
       "      <th>97</th>\n",
       "      <td>0.244884</td>\n",
       "      <td>0.411993</td>\n",
       "      <td>0.326102</td>\n",
       "      <td>0.057981</td>\n",
       "    </tr>\n",
       "    <tr>\n",
       "      <th>98</th>\n",
       "      <td>0.912386</td>\n",
       "      <td>0.164428</td>\n",
       "      <td>0.747936</td>\n",
       "      <td>0.423009</td>\n",
       "    </tr>\n",
       "    <tr>\n",
       "      <th>99</th>\n",
       "      <td>0.476725</td>\n",
       "      <td>0.067706</td>\n",
       "      <td>0.187584</td>\n",
       "      <td>0.602498</td>\n",
       "    </tr>\n",
       "  </tbody>\n",
       "</table>\n",
       "</div>"
      ],
      "text/plain": [
       "           0         1         2         3\n",
       "95  0.350252  0.670472  0.322379  0.307489\n",
       "96  0.852102  0.939796  0.802812  0.261069\n",
       "97  0.244884  0.411993  0.326102  0.057981\n",
       "98  0.912386  0.164428  0.747936  0.423009\n",
       "99  0.476725  0.067706  0.187584  0.602498"
      ]
     },
     "execution_count": 27,
     "metadata": {},
     "output_type": "execute_result"
    }
   ],
   "source": [
    "data3.tail()"
   ]
  },
  {
   "cell_type": "markdown",
   "metadata": {
    "slideshow": {
     "slide_type": "subslide"
    }
   },
   "source": [
    "# DataFrame Wrap Up\n",
    "\n",
    "Just remember, \n",
    "\n",
    "* A `DataFrame` is just a bunch of `Series` grouped together.\n",
    "* Any one dimensional slice returns a `Series`\n",
    "* Any two dimensional slice returns another `DataFrame`.\n",
    "* Elements are typically NumPy types or Objects."
   ]
  },
  {
   "cell_type": "markdown",
   "metadata": {
    "slideshow": {
     "slide_type": "slide"
    }
   },
   "source": [
    "# Panel\n",
    "\n",
    "Like DataFrame but 3 or more dimensions."
   ]
  },
  {
   "cell_type": "markdown",
   "metadata": {
    "slideshow": {
     "slide_type": "slide"
    }
   },
   "source": [
    "# IO Tools\n",
    "\n",
    "Robust IO tools to read in data from a variety of sources\n",
    "\n",
    "* CSV - [pd.read_csv()](http://pandas.pydata.org/pandas-docs/stable/io.html#io-read-csv-table)\n",
    "* Clipboard - [pd.read_clipboard()](http://pandas.pydata.org/pandas-docs/stable/io.html#clipboard)\n",
    "* SQL - [pd.read_sql_table()](http://pandas.pydata.org/pandas-docs/stable/io.html#sql-queries)\n",
    "* Excel - [pd.read_excel()](http://pandas.pydata.org/pandas-docs/stable/io.html#io-excel)"
   ]
  },
  {
   "cell_type": "markdown",
   "metadata": {
    "slideshow": {
     "slide_type": "slide"
    }
   },
   "source": [
    "# Plotting\n",
    "\n",
    "* Matplotlib - [s.plot()](http://pandas.pydata.org/pandas-docs/stable/visualization.html#plotting-with-matplotlib) - Standard Python Plotting Library"
   ]
  },
  {
   "cell_type": "markdown",
   "metadata": {
    "slideshow": {
     "slide_type": "slide"
    }
   },
   "source": [
    "# Bringing it Together - Data\n",
    "\n",
    "The csv file (``phx-temps.csv``) contains Phoenix weather data from\n",
    "GSOD::\n",
    "\n",
    "```\n",
    "1973-01-01 00:00:00,53.1,37.9\n",
    "1973-01-02 00:00:00,57.9,37.0\n",
    "...\n",
    "2012-12-30 00:00:00,64.9,39.0\n",
    "2012-12-31 00:00:00,55.9,41.0\n",
    "```"
   ]
  },
  {
   "cell_type": "markdown",
   "metadata": {
    "slideshow": {
     "slide_type": "subslide"
    }
   },
   "source": [
    "# Bringing it Together - Code\n",
    "\n",
    "Simple `read_csv()`"
   ]
  },
  {
   "cell_type": "code",
   "execution_count": 28,
   "metadata": {},
   "outputs": [
    {
     "data": {
      "text/html": [
       "<div>\n",
       "<style scoped>\n",
       "    .dataframe tbody tr th:only-of-type {\n",
       "        vertical-align: middle;\n",
       "    }\n",
       "\n",
       "    .dataframe tbody tr th {\n",
       "        vertical-align: top;\n",
       "    }\n",
       "\n",
       "    .dataframe thead th {\n",
       "        text-align: right;\n",
       "    }\n",
       "</style>\n",
       "<table border=\"1\" class=\"dataframe\">\n",
       "  <thead>\n",
       "    <tr style=\"text-align: right;\">\n",
       "      <th></th>\n",
       "      <th>1973-01-01 00:00:00</th>\n",
       "      <th>53.1</th>\n",
       "      <th>37.9</th>\n",
       "    </tr>\n",
       "  </thead>\n",
       "  <tbody>\n",
       "    <tr>\n",
       "      <th>0</th>\n",
       "      <td>1973-01-02 00:00:00</td>\n",
       "      <td>57.9</td>\n",
       "      <td>37.0</td>\n",
       "    </tr>\n",
       "    <tr>\n",
       "      <th>1</th>\n",
       "      <td>1973-01-03 00:00:00</td>\n",
       "      <td>59.0</td>\n",
       "      <td>37.0</td>\n",
       "    </tr>\n",
       "    <tr>\n",
       "      <th>2</th>\n",
       "      <td>1973-01-04 00:00:00</td>\n",
       "      <td>57.9</td>\n",
       "      <td>41.0</td>\n",
       "    </tr>\n",
       "    <tr>\n",
       "      <th>3</th>\n",
       "      <td>1973-01-05 00:00:00</td>\n",
       "      <td>54.0</td>\n",
       "      <td>39.9</td>\n",
       "    </tr>\n",
       "    <tr>\n",
       "      <th>4</th>\n",
       "      <td>1973-01-06 00:00:00</td>\n",
       "      <td>55.9</td>\n",
       "      <td>37.9</td>\n",
       "    </tr>\n",
       "  </tbody>\n",
       "</table>\n",
       "</div>"
      ],
      "text/plain": [
       "   1973-01-01 00:00:00  53.1  37.9\n",
       "0  1973-01-02 00:00:00  57.9  37.0\n",
       "1  1973-01-03 00:00:00  59.0  37.0\n",
       "2  1973-01-04 00:00:00  57.9  41.0\n",
       "3  1973-01-05 00:00:00  54.0  39.9\n",
       "4  1973-01-06 00:00:00  55.9  37.9"
      ]
     },
     "execution_count": 28,
     "metadata": {},
     "output_type": "execute_result"
    }
   ],
   "source": [
    "# simple readcsv\n",
    "phxtemps1 = pd.read_csv('phx-temps.csv')\n",
    "phxtemps1.head()"
   ]
  },
  {
   "cell_type": "markdown",
   "metadata": {
    "slideshow": {
     "slide_type": "subslide"
    }
   },
   "source": [
    "# Bringing it Together - Code\n",
    "\n",
    "Advanced `read_csv()`, parsing the dates and using them as the index, and naming the columns."
   ]
  },
  {
   "cell_type": "code",
   "execution_count": 29,
   "metadata": {},
   "outputs": [
    {
     "data": {
      "text/html": [
       "<div>\n",
       "<style scoped>\n",
       "    .dataframe tbody tr th:only-of-type {\n",
       "        vertical-align: middle;\n",
       "    }\n",
       "\n",
       "    .dataframe tbody tr th {\n",
       "        vertical-align: top;\n",
       "    }\n",
       "\n",
       "    .dataframe thead th {\n",
       "        text-align: right;\n",
       "    }\n",
       "</style>\n",
       "<table border=\"1\" class=\"dataframe\">\n",
       "  <thead>\n",
       "    <tr style=\"text-align: right;\">\n",
       "      <th></th>\n",
       "      <th>highs</th>\n",
       "      <th>lows</th>\n",
       "    </tr>\n",
       "  </thead>\n",
       "  <tbody>\n",
       "    <tr>\n",
       "      <th>1973-01-01</th>\n",
       "      <td>53.1</td>\n",
       "      <td>37.9</td>\n",
       "    </tr>\n",
       "    <tr>\n",
       "      <th>1973-01-02</th>\n",
       "      <td>57.9</td>\n",
       "      <td>37.0</td>\n",
       "    </tr>\n",
       "    <tr>\n",
       "      <th>1973-01-03</th>\n",
       "      <td>59.0</td>\n",
       "      <td>37.0</td>\n",
       "    </tr>\n",
       "    <tr>\n",
       "      <th>1973-01-04</th>\n",
       "      <td>57.9</td>\n",
       "      <td>41.0</td>\n",
       "    </tr>\n",
       "    <tr>\n",
       "      <th>1973-01-05</th>\n",
       "      <td>54.0</td>\n",
       "      <td>39.9</td>\n",
       "    </tr>\n",
       "  </tbody>\n",
       "</table>\n",
       "</div>"
      ],
      "text/plain": [
       "            highs  lows\n",
       "1973-01-01   53.1  37.9\n",
       "1973-01-02   57.9  37.0\n",
       "1973-01-03   59.0  37.0\n",
       "1973-01-04   57.9  41.0\n",
       "1973-01-05   54.0  39.9"
      ]
     },
     "execution_count": 29,
     "metadata": {},
     "output_type": "execute_result"
    }
   ],
   "source": [
    "# define index, parse dates, name columns\n",
    "phxtemps2 = pd.read_csv(\n",
    "    'phx-temps.csv', index_col=0,\n",
    "    names=['highs', 'lows'], parse_dates=True)\n",
    "phxtemps2.head()"
   ]
  },
  {
   "cell_type": "markdown",
   "metadata": {
    "slideshow": {
     "slide_type": "subslide"
    }
   },
   "source": [
    "# Bringing it Together - Plot"
   ]
  },
  {
   "cell_type": "code",
   "execution_count": 30,
   "metadata": {
    "slideshow": {
     "slide_type": "-"
    }
   },
   "outputs": [
    {
     "data": {
      "text/plain": [
       "<matplotlib.axes._subplots.AxesSubplot at 0x11a36eb38>"
      ]
     },
     "execution_count": 30,
     "metadata": {},
     "output_type": "execute_result"
    },
    {
     "data": {
      "image/png": "[encoded data removed]",
      "text/plain": [
       "<matplotlib.figure.Figure at 0x10f6a5d30>"
      ]
     },
     "metadata": {},
     "output_type": "display_data"
    }
   ],
   "source": [
    "import matplotlib.pyplot as plt\n",
    "%matplotlib inline \n",
    "phxtemps2.plot()  # pandas convenience method"
   ]
  },
  {
   "cell_type": "markdown",
   "metadata": {
    "slideshow": {
     "slide_type": "fragment"
    }
   },
   "source": [
    "Boo, Pandas and Friends would cry if they saw such a plot."
   ]
  },
  {
   "cell_type": "markdown",
   "metadata": {
    "slideshow": {
     "slide_type": "subslide"
    }
   },
   "source": [
    "# Bringing it Together - Plot\n",
    "\n",
    "Lets see a smaller slice of time:"
   ]
  },
  {
   "cell_type": "code",
   "execution_count": 31,
   "metadata": {
    "slideshow": {
     "slide_type": "fragment"
    }
   },
   "outputs": [
    {
     "data": {
      "text/plain": [
       "<matplotlib.axes._subplots.AxesSubplot at 0x11a6c2860>"
      ]
     },
     "execution_count": 31,
     "metadata": {},
     "output_type": "execute_result"
    },
    {
     "data": {
      "image/png": "[encoded data removed]",
      "text/plain": [
       "<matplotlib.figure.Figure at 0x1184a1eb8>"
      ]
     },
     "metadata": {},
     "output_type": "display_data"
    }
   ],
   "source": [
    "phxtemps2['20120101':'20121231'].plot()\n"
   ]
  },
  {
   "cell_type": "markdown",
   "metadata": {
    "slideshow": {
     "slide_type": "subslide"
    }
   },
   "source": [
    "# Bringing it Together - Plot\n",
    "\n",
    "Lets operate on the `DataFrame` ... lets take the differnce between the highs and lows."
   ]
  },
  {
   "cell_type": "code",
   "execution_count": 32,
   "metadata": {
    "slideshow": {
     "slide_type": "fragment"
    }
   },
   "outputs": [
    {
     "data": {
      "text/plain": [
       "<matplotlib.axes._subplots.AxesSubplot at 0x11a75cd30>"
      ]
     },
     "execution_count": 32,
     "metadata": {},
     "output_type": "execute_result"
    },
    {
     "data": {
      "image/png": "[encoded data removed]",
      "text/plain": [
       "<matplotlib.figure.Figure at 0x11a802ac8>"
      ]
     },
     "metadata": {},
     "output_type": "display_data"
    }
   ],
   "source": [
    "phxtemps2['diff'] = phxtemps2.highs - phxtemps2.lows\n",
    "phxtemps2['20120101':'20121231'].plot()"
   ]
  },
  {
   "cell_type": "markdown",
   "metadata": {
    "slideshow": {
     "slide_type": "slide"
    }
   },
   "source": [
    "References\n",
    "----------\n",
    "\n",
    "* [Pandas Documentation](http://pandas.pydata.org/pandas-docs/stable/index.html)\n",
    "* [Python for Data Analysis](http://www.amazon.com/Python-Data-Analysis-Wes-McKinney/dp/1449319793/)\n",
    "* [Presentation Source](https://github.com/desertpy/presentations)\n"
   ]
  },
  {
   "cell_type": "markdown",
   "metadata": {
    "slideshow": {
     "slide_type": "slide"
    }
   },
   "source": [
    "# Thanks! - Pandas and Friends\n",
    "\n",
    "* Austin Godber\n",
    "* Mail: godber@uberhip.com\n",
    "* Twitter: @godber\n",
    "* Presented at [DesertPy](http://desertpy.com), May 2018."
   ]
  }
 ],
 "metadata": {
  "celltoolbar": "Slideshow",
  "kernelspec": {
   "display_name": "Python [conda env:desertpy-2017-v2]",
   "language": "python",
   "name": "conda-env-desertpy-2017-v2-py"
  },
  "language_info": {
   "codemirror_mode": {
    "name": "ipython",
    "version": 3
   },
   "file_extension": ".py",
   "mimetype": "text/x-python",
   "name": "python",
   "nbconvert_exporter": "python",
   "pygments_lexer": "ipython3",
   "version": "3.6.3"
  }
 },
 "nbformat": 4,
 "nbformat_minor": 1
}
