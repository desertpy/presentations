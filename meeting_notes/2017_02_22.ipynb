{
 "cells": [
  {
   "cell_type": "markdown",
   "metadata": {
    "slideshow": {
     "slide_type": "slide"
    }
   },
   "source": [
    "# Intro\n",
    "\n",
    "Welcome to DesertPy\n",
    "\n",
    "February 22nd, 2017"
   ]
  },
  {
   "cell_type": "markdown",
   "metadata": {
    "slideshow": {
     "slide_type": "slide"
    }
   },
   "source": [
    "# Python News\n",
    "\n",
    "* Good Post\n",
    "    * Oh No This package is Python 2 Only (Google it) [https://goo.gl/5zxSgC](https://medium.com/@anthonypjshaw/oh-no-this-package-is-python-2-only-8e6316f9a02)\n",
    "* Releases\n",
    "  * Anaconda 4.3.0 with Python 3.6.0, matplotlib 2.0, and added seaborn came out\n",
    "  * TensorFlow 1.0 came out\n"
   ]
  },
  {
   "cell_type": "markdown",
   "metadata": {
    "slideshow": {
     "slide_type": "subslide"
    }
   },
   "source": [
    "* Conferences\n",
    "  * PyCon - Portland - May 17-25th\n",
    "  * COhPy Call For Papers"
   ]
  },
  {
   "cell_type": "markdown",
   "metadata": {
    "slideshow": {
     "slide_type": "subslide"
    }
   },
   "source": [
    "* Upcoming Meetings\n",
    "  * Saturday Morning Open Hack at GoDaddy March 11th.\n",
    "  * Next month at THIS meeting (March 22nd): Michael talks about Bokeh.\n",
    "  * Tentative March 29th Downtown at Galvanize my Intro to Python Part II."
   ]
  },
  {
   "cell_type": "markdown",
   "metadata": {
    "slideshow": {
     "slide_type": "slide"
    }
   },
   "source": [
    "# DesertPy Ed\n",
    "\n",
    "DesertPy Inititives for Newbies\n",
    "\n",
    "* Educational Resources Web Page\n",
    "    * Sharing great online courses\n",
    "* Help from Locals via\n",
    "    * Study Sessions during Saturday Open Hack\n",
    "    * Online Forum/Mail List\n",
    "* Getting Started Video Casts\n",
    "    * Pycocasts ... Short (pico-cast)"
   ]
  },
  {
   "cell_type": "markdown",
   "metadata": {
    "slideshow": {
     "slide_type": "slide"
    }
   },
   "source": [
    "# Possible Downtown DesertPy\n",
    "\n",
    "On second Tuesdays of the month at Galvanize in the Phoenix \"Warehouse\" district (south of the ballpark).\n",
    "\n",
    "Likely me doing replays of old talks.\n",
    "\n",
    "Maybe just every other month."
   ]
  },
  {
   "cell_type": "markdown",
   "metadata": {
    "slideshow": {
     "slide_type": "slide"
    }
   },
   "source": [
    "# Notes"
   ]
  },
  {
   "cell_type": "markdown",
   "metadata": {
    "slideshow": {
     "slide_type": "subslide"
    }
   },
   "source": [
    "## Chandra Lingham - AWS Machine Learning\n",
    "\n",
    "* https://aws.amazon.com/machine-learning/\n",
    "* He had a notebook that used `boto3` to submit an Iris example to his previously trained model\n",
    "    * http://scikit-learn.org/stable/auto_examples/datasets/plot_iris_dataset.html\n",
    "* They don't show you the model co-efficients, it's just a black box.\n",
    "* Cognito - The user facing service.\n"
   ]
  },
  {
   "cell_type": "markdown",
   "metadata": {
    "slideshow": {
     "slide_type": "subslide"
    }
   },
   "source": [
    "## David Dotson - Datreant\n",
    "\n",
    "* http://datreant.readthedocs.io/en/latest/\n",
    "\n",
    "* `dtr.discover('sims/')` - discovers `treants`\n",
    "* `dtr.discover('sims/').names`\n",
    "* Discover finds `s_NN` can we customis that?\n",
    "* How does the `Treant*.json` get created?\n",
    "* Basically a filesystem interface that can be used programatically or interactively."
   ]
  }
 ],
 "metadata": {
  "celltoolbar": "Slideshow",
  "kernelspec": {
   "display_name": "Python 3",
   "language": "python",
   "name": "python3"
  },
  "language_info": {
   "codemirror_mode": {
    "name": "ipython",
    "version": 3
   },
   "file_extension": ".py",
   "mimetype": "text/x-python",
   "name": "python",
   "nbconvert_exporter": "python",
   "pygments_lexer": "ipython3",
   "version": "3.5.3"
  }
 },
 "nbformat": 4,
 "nbformat_minor": 0
}
