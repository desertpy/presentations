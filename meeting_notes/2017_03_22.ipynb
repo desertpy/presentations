{
 "cells": [
  {
   "cell_type": "markdown",
   "metadata": {
    "slideshow": {
     "slide_type": "slide"
    }
   },
   "source": [
    "# Intro\n",
    "\n",
    "Welcome to DesertPy\n",
    "\n",
    "March 22nd, 2017"
   ]
  },
  {
   "cell_type": "markdown",
   "metadata": {
    "slideshow": {
     "slide_type": "slide"
    }
   },
   "source": [
    "# Python News\n",
    "\n",
    "* Good Post\n",
    "  * FlyMAD https://goo.gl/Uz4aTr\n",
    "    * Fly Mind Altering Device\n",
    "      * Robot OS\n",
    "      * Image Processing\n",
    "      * MIND CONTROL!!\n",
    "* Releases\n",
    "  * ??\n"
   ]
  },
  {
   "cell_type": "markdown",
   "metadata": {
    "slideshow": {
     "slide_type": "subslide"
    }
   },
   "source": [
    "* Conferences\n",
    "  * PyCon - Portland - May 17-25th\n",
    "  * PyData returns to Seattle July 5-7 2017\n",
    "    * http://www.pydata.org\n",
    "    * Thanks Nate!\n",
    "  * PyOhio July 29th-30th - Free!\n",
    "    * https://www.pyohio.org/"
   ]
  },
  {
   "cell_type": "markdown",
   "metadata": {
    "slideshow": {
     "slide_type": "slide"
    }
   },
   "source": [
    "# Upcoming Local Meetings\n",
    "\n",
    "* Data Science Group - Intro to Python II - March 29th at Galvanize\n",
    "* Second Tuesday of Even Months (6:30pm - 8:30pm) - Downtown DesertPy - April 12th\n",
    "* Second Saturday (9am-Noon) - Open Hack at GoDaddy\n",
    "* Fourth Wednesday - April 2017"
   ]
  },
  {
   "cell_type": "markdown",
   "metadata": {
    "slideshow": {
     "slide_type": "slide"
    }
   },
   "source": [
    "# DesertPy MoTW\n",
    "\n",
    "http://poll.fm/5rzh9\n",
    "\n",
    "```\n",
    "DesertPy - Python 3 MOTW - April 2017\n",
    "\n",
    "tempfile — Temporary File System Objects\n",
    "socket — Network Communication\n",
    "getpass — Secure Password Prompt\n",
    "json — JavaScript Object Notation\n",
    "```"
   ]
  },
  {
   "cell_type": "markdown",
   "metadata": {
    "slideshow": {
     "slide_type": "slide"
    }
   },
   "source": [
    "# Notes"
   ]
  },
  {
   "cell_type": "markdown",
   "metadata": {
    "slideshow": {
     "slide_type": "slide"
    }
   },
   "source": [
    "# Michael - Bokeh\n",
    "\n",
    "* Supports other languages - R, Scala\n",
    "* Embed in Flask-like Sanic web server - uvloop based web framework\n",
    "  * https://github.com/channelcat/sanic\n",
    "  * https://magic.io/blog/uvloop-blazing-fast-python-networking/\n",
    "* Callbacks in Python (Flexx) or Javascript\n",
    "* On Hover Tool Tips happen on tap in touch environment.\n",
    "* How Machiavellian are You? http://personality-testing.info/tests/MACH-IV.php\n",
    "* Download notebook as Standalone HTML document, then post process with beautiful soup.\n",
    "* Use `responsive=True` keyword to make embeded plots responsive in bootstrap webpages. (Avoid gridplot).\n",
    "* HoloViews: http://holoviews.org/\n"
   ]
  },
  {
   "cell_type": "markdown",
   "metadata": {
    "slideshow": {
     "slide_type": "slide"
    }
   },
   "source": [
    "# James Abel @jamesabel - Rock the Task Bar\n",
    "\n",
    "* Mac/Windows Qt Taskbar/System Tray App\n",
    "* Qt (cute) - PyQt, PyQt5, PySide\n",
    "* Hello World Example that Exits and Abouts.\n",
    "* Icons\n",
    "  * www.iconarchive.com\n",
    "  * Use the Qt Resource compiler to convert icon.png to icons.py\n",
    "    * `pyrcc5 -o icons.py -no-compress icon.qrc`\n",
    "    * `import icons` ...\n",
    "* Remember to use `osnap` to bundle it up"
   ]
  },
  {
   "cell_type": "code",
   "execution_count": null,
   "metadata": {
    "collapsed": true
   },
   "outputs": [],
   "source": []
  }
 ],
 "metadata": {
  "celltoolbar": "Slideshow",
  "kernelspec": {
   "display_name": "Python 3",
   "language": "python",
   "name": "python3"
  },
  "language_info": {
   "codemirror_mode": {
    "name": "ipython",
    "version": 3
   },
   "file_extension": ".py",
   "mimetype": "text/x-python",
   "name": "python",
   "nbconvert_exporter": "python",
   "pygments_lexer": "ipython3",
   "version": "3.5.3"
  }
 },
 "nbformat": 4,
 "nbformat_minor": 0
}
