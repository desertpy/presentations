{
 "cells": [
  {
   "cell_type": "markdown",
   "metadata": {
    "slideshow": {
     "slide_type": "slide"
    }
   },
   "source": [
    "# Managing passwords used by your Python Programs\n",
    "\n",
    "**Austin Godber**  \n",
    "**@godber**  \n",
    "DesertPy Co-Organizer  \n",
    "Meetup, Github and http://desertpy.com\n",
    "\n",
    "DesertPy - 01/25/2017"
   ]
  },
  {
   "cell_type": "markdown",
   "metadata": {
    "slideshow": {
     "slide_type": "slide"
    }
   },
   "source": [
    "# Whats the problem?\n",
    "\n",
    "Say we have an HTTP server that requires a username and password to login to it, in this case HTTP Basic Authentication.\n",
    "\n",
    "`python ./SimpleAuthServer.py 8080 desertpy:rocks`\n"
   ]
  },
  {
   "cell_type": "markdown",
   "metadata": {
    "slideshow": {
     "slide_type": "notes"
    }
   },
   "source": [
    "Show that this pops up the username/password dialog in the browser"
   ]
  },
  {
   "cell_type": "markdown",
   "metadata": {
    "slideshow": {
     "slide_type": "subslide"
    }
   },
   "source": [
    "# Let's write some python to access that"
   ]
  },
  {
   "cell_type": "code",
   "execution_count": 1,
   "metadata": {
    "collapsed": false,
    "slideshow": {
     "slide_type": "-"
    }
   },
   "outputs": [
    {
     "data": {
      "text/plain": [
       "'This is a test file.\\n'"
      ]
     },
     "execution_count": 1,
     "metadata": {},
     "output_type": "execute_result"
    }
   ],
   "source": [
    "import requests\n",
    "from requests.auth import HTTPBasicAuth\n",
    "r = requests.get('http://localhost:8080/file.txt',\n",
    "                 auth=HTTPBasicAuth('desertpy', 'rocks'))\n",
    "r.text"
   ]
  },
  {
   "cell_type": "markdown",
   "metadata": {
    "slideshow": {
     "slide_type": "subslide"
    }
   },
   "source": [
    "## Github\n",
    "\n",
    "Now lets just commit this code ... "
   ]
  },
  {
   "cell_type": "markdown",
   "metadata": {
    "slideshow": {
     "slide_type": "fragment"
    }
   },
   "source": [
    "... wait, I just pushed passwords to a public github repo!"
   ]
  },
  {
   "cell_type": "markdown",
   "metadata": {
    "slideshow": {
     "slide_type": "slide"
    }
   },
   "source": [
    "# Possible Solutions\n",
    "\n",
    "* Pass in as Argument\n",
    "* Pass in as Environment Variable\n",
    "* Use `~/.netrc`\n",
    "* Use fancy shared secret vault\n",
    "* Use local keystore"
   ]
  },
  {
   "cell_type": "markdown",
   "metadata": {
    "slideshow": {
     "slide_type": "slide"
    }
   },
   "source": [
    "# Pass in as argument\n",
    "\n",
    "\n",
    "`python ./authget.py desertpy rocks`\n",
    "\n",
    "Password shows up:\n",
    "* in process listing to other users\n",
    "* in bash history"
   ]
  },
  {
   "cell_type": "markdown",
   "metadata": {
    "slideshow": {
     "slide_type": "subslide"
    }
   },
   "source": [
    "# Pass in as environment variables\n",
    "\n",
    "```bash\n",
    "export USER=desertpy\n",
    "export PASS=rocks\n",
    "python ./authget.py\n",
    "```\n",
    "\n",
    "Password shows up:\n",
    "* in bash history\n",
    "* it sits around in shell memory"
   ]
  },
  {
   "cell_type": "markdown",
   "metadata": {
    "slideshow": {
     "slide_type": "slide"
    }
   },
   "source": [
    "# Use your `~/.netrc` file\n",
    "\n",
    "Put the following in `~/.netrc`\n",
    "\n",
    "```\n",
    "machine localhost\n",
    "login desertpy\n",
    "password rocks\n",
    "```\n",
    "\n",
    "Don't forget to `chmod 0600 ~/.netrc`"
   ]
  },
  {
   "cell_type": "code",
   "execution_count": 2,
   "metadata": {
    "collapsed": false,
    "slideshow": {
     "slide_type": "subslide"
    }
   },
   "outputs": [
    {
     "data": {
      "text/plain": [
       "'This is a test file.\\n'"
      ]
     },
     "execution_count": 2,
     "metadata": {},
     "output_type": "execute_result"
    }
   ],
   "source": [
    "import requests\n",
    "from requests.auth import HTTPBasicAuth\n",
    "# note the omission of the auth kwarg\n",
    "r = requests.get('http://localhost:8080/file.txt')\n",
    "r.text"
   ]
  },
  {
   "cell_type": "markdown",
   "metadata": {
    "slideshow": {
     "slide_type": "subslide"
    }
   },
   "source": [
    "Drawback:\n",
    "* Password sits in cleartext file."
   ]
  },
  {
   "cell_type": "markdown",
   "metadata": {
    "slideshow": {
     "slide_type": "slide"
    }
   },
   "source": [
    "# Use a fancy shared secret vault\n",
    "\n",
    "* https://www.vaultproject.io/\n",
    "  * Super fancy\n",
    "  * API for storing and retrieving passwords\n",
    "  * Encrypted backend\n",
    "  * \"Short\" lived tokens for authentication"
   ]
  },
  {
   "cell_type": "markdown",
   "metadata": {
    "slideshow": {
     "slide_type": "notes"
    }
   },
   "source": [
    "What do we do with the token?  Pass it in and renew it.  Needs bootstrapping by person.  This is the cost of getting fancy."
   ]
  },
  {
   "cell_type": "markdown",
   "metadata": {
    "slideshow": {
     "slide_type": "slide"
    }
   },
   "source": [
    "# Use a local keystore\n",
    "\n",
    "Install the python `keyring` module."
   ]
  },
  {
   "cell_type": "code",
   "execution_count": 3,
   "metadata": {
    "collapsed": false
   },
   "outputs": [
    {
     "name": "stdout",
     "output_type": "stream",
     "text": [
      "Requirement already satisfied: keyring in /Users/godber/miniconda3/envs/desertpy_2016-12-26_v1/lib/python3.5/site-packages\r\n"
     ]
    }
   ],
   "source": [
    "!pip install keyring"
   ]
  },
  {
   "cell_type": "markdown",
   "metadata": {
    "slideshow": {
     "slide_type": "subslide"
    }
   },
   "source": [
    "## Check out the keyring command"
   ]
  },
  {
   "cell_type": "code",
   "execution_count": 4,
   "metadata": {
    "collapsed": false
   },
   "outputs": [
    {
     "name": "stdout",
     "output_type": "stream",
     "text": [
      "Usage: keyring [get|set|del] SERVICE USERNAME\r\n",
      "\r\n",
      "Options:\r\n",
      "  -h, --help            show this help message and exit\r\n",
      "  -p KEYRING_PATH, --keyring-path=KEYRING_PATH\r\n",
      "                        Path to the keyring backend\r\n",
      "  -b KEYRING_BACKEND, --keyring-backend=KEYRING_BACKEND\r\n",
      "                        Name of the keyring backend\r\n"
     ]
    }
   ],
   "source": [
    "!keyring"
   ]
  },
  {
   "cell_type": "markdown",
   "metadata": {
    "slideshow": {
     "slide_type": "subslide"
    }
   },
   "source": [
    "## Set password for service on command line\n",
    "\n",
    "```\n",
    "$ keyring set testhttpauth desertpy\n",
    "Password for 'desertpy' in 'testhttpauth':\n",
    "```"
   ]
  },
  {
   "cell_type": "markdown",
   "metadata": {
    "slideshow": {
     "slide_type": "subslide"
    }
   },
   "source": [
    "## Check that you can get the password on command line\n",
    "\n",
    "```\n",
    "$ keyring get testhttpauth desertpy\n",
    "rocks\n",
    "```"
   ]
  },
  {
   "cell_type": "markdown",
   "metadata": {
    "collapsed": true,
    "slideshow": {
     "slide_type": "subslide"
    }
   },
   "source": [
    "## Now use the keyring API"
   ]
  },
  {
   "cell_type": "code",
   "execution_count": 5,
   "metadata": {
    "collapsed": false,
    "slideshow": {
     "slide_type": "-"
    }
   },
   "outputs": [
    {
     "data": {
      "text/plain": [
       "'This is a test file.\\n'"
      ]
     },
     "execution_count": 5,
     "metadata": {},
     "output_type": "execute_result"
    }
   ],
   "source": [
    "import requests\n",
    "from requests.auth import HTTPBasicAuth\n",
    "import keyring\n",
    "\n",
    "user = \"desertpy\"\n",
    "password = keyring.get_password('testhttpauth', user)\n",
    "r = requests.get('http://localhost:8080/file.txt',\n",
    "                 auth=HTTPBasicAuth(user, password))\n",
    "r.text"
   ]
  }
 ],
 "metadata": {
  "anaconda-cloud": {},
  "celltoolbar": "Slideshow",
  "kernelspec": {
   "display_name": "Python [conda env:desertpy_2016-12-26_v1]",
   "language": "python",
   "name": "conda-env-desertpy_2016-12-26_v1-py"
  },
  "language_info": {
   "codemirror_mode": {
    "name": "ipython",
    "version": 3
   },
   "file_extension": ".py",
   "mimetype": "text/x-python",
   "name": "python",
   "nbconvert_exporter": "python",
   "pygments_lexer": "ipython3",
   "version": "3.5.2"
  }
 },
 "nbformat": 4,
 "nbformat_minor": 2
}
